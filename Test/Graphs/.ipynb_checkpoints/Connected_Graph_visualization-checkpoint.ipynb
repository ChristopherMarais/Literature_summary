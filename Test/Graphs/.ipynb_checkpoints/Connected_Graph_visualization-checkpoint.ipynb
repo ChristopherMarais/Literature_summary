{
 "cells": [
  {
   "cell_type": "code",
   "execution_count": null,
   "id": "40092d4e",
   "metadata": {
    "tags": []
   },
   "outputs": [],
   "source": [
    "import pandas as pd\n",
    "import numpy as np\n",
    "import networkx as nx\n",
    "from pyvis.network import Network\n",
    "from sklearn.preprocessing import MinMaxScaler"
   ]
  },
  {
   "cell_type": "code",
   "execution_count": null,
   "id": "33bcc980",
   "metadata": {
    "tags": []
   },
   "outputs": [],
   "source": [
    "# import edgelist data\n",
    "entity_wel_df = pd.read_csv('entity_weighted_edgelist_ML.csv', index_col=0)\n",
    "entity_wel_df['ent_rel_pair'] = entity_wel_df['head_text'] +' '+entity_wel_df['relation']+' '+entity_wel_df['tail_text']\n",
    "entity_wel_df['head_name'] = entity_wel_df['head_text']+'_'+entity_wel_df['head_wiki_id']\n",
    "entity_wel_df['tail_name'] = entity_wel_df['tail_text']+'_'+entity_wel_df['tail_wiki_id']\n",
    "\n",
    "# node size\n",
    "head_node_weight_df = entity_wel_df.groupby(['head_name']).sum().sort_values('count', ascending=False).reset_index()\n",
    "tail_node_weight_df = entity_wel_df.groupby(['tail_name']).sum().sort_values('count', ascending=False).reset_index()\n",
    "head_node_weight_df = entity_wel_df.merge(head_node_weight_df, left_on=['head_name'], right_on=['head_name'], how='right')\n",
    "tail_node_weight_df = entity_wel_df.merge(tail_node_weight_df, left_on=['tail_name'], right_on=['tail_name'], how='right')\n",
    "head_node_weight_df['node'] = head_node_weight_df['head_text']\n",
    "head_node_weight_df['size'] = head_node_weight_df['count_y']\n",
    "head_node_weight_df = head_node_weight_df[['size','node']]\n",
    "tail_node_weight_df['node'] = tail_node_weight_df['tail_text']\n",
    "tail_node_weight_df['size'] = tail_node_weight_df['count_y']\n",
    "tail_node_weight_df = tail_node_weight_df[['size','node']]\n",
    "node_weight_df = pd.concat([head_node_weight_df, tail_node_weight_df])\n",
    "node_weight_df['size'] = MinMaxScaler(feature_range=(1, 10)).fit_transform(np.array(node_weight_df['size']).reshape(-1,1))\n",
    "node_weight_df"
   ]
  },
  {
   "cell_type": "code",
   "execution_count": null,
   "id": "7e5872b3",
   "metadata": {
    "tags": []
   },
   "outputs": [],
   "source": [
    "# df = entity_wel_df.iloc[:1000]\n",
    "mention_num = 2\n",
    "entity_wel_df = entity_wel_df[entity_wel_df['head_text'] != 'Elsevier'] # df = df[~df[col].isin([string])]\n",
    "entity_wel_df = entity_wel_df[entity_wel_df['tail_text'] != 'Elsevier']\n",
    "df = entity_wel_df[entity_wel_df['count']>mention_num]\n",
    "df.rename(columns={\"count\": \"value\", \"relation\":\"title\"}, inplace=True)\n",
    "node_lst = df['head_text'].tolist()+df['tail_text'].tolist()\n",
    "node_weight_df = node_weight_df.drop_duplicates(subset='node').reset_index(drop=True)\n",
    "node_weight_df = node_weight_df[node_weight_df['node'].isin(node_lst)]\n",
    "node_attr = node_weight_df.set_index('node').to_dict('index')\n",
    "G = nx.from_pandas_edgelist(df, source='head_text', target='tail_text', edge_attr=['value', 'title'])\n",
    "nx.set_node_attributes(G, node_attr)\n",
    "\n",
    "nt = Network(height=\"750px\", width=\"100%\", notebook=True,directed=True)\n",
    "# populates the nodes and edges data structures\n",
    "nt.from_nx(G)\n",
    "nt.toggle_physics(True)\n",
    "nt.show('ML_above2edges.html')"
   ]
  },
  {
   "cell_type": "code",
   "execution_count": null,
   "id": "127abdb5-1ed0-47d2-836f-f406fa810257",
   "metadata": {},
   "outputs": [],
   "source": []
  }
 ],
 "metadata": {
  "kernelspec": {
   "display_name": "Python 3 (ipykernel)",
   "language": "python",
   "name": "python3"
  },
  "language_info": {
   "codemirror_mode": {
    "name": "ipython",
    "version": 3
   },
   "file_extension": ".py",
   "mimetype": "text/x-python",
   "name": "python",
   "nbconvert_exporter": "python",
   "pygments_lexer": "ipython3",
   "version": "3.9.13"
  }
 },
 "nbformat": 4,
 "nbformat_minor": 5
}
