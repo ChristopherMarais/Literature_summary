{
 "cells": [
  {
   "cell_type": "code",
   "execution_count": 1,
   "id": "c114b7ef-db63-40aa-a5b7-5bf93eb09377",
   "metadata": {
    "execution": {
     "iopub.execute_input": "2022-09-26T23:37:43.568925Z",
     "iopub.status.busy": "2022-09-26T23:37:43.568424Z",
     "iopub.status.idle": "2022-09-26T23:37:44.022696Z",
     "shell.execute_reply": "2022-09-26T23:37:44.021697Z",
     "shell.execute_reply.started": "2022-09-26T23:37:43.568424Z"
    }
   },
   "outputs": [],
   "source": [
    "import pandas as pd\n",
    "import csv"
   ]
  },
  {
   "cell_type": "code",
   "execution_count": 2,
   "id": "ef245616-7252-454a-8e15-616f68f9c006",
   "metadata": {
    "execution": {
     "iopub.execute_input": "2022-09-26T23:37:44.024195Z",
     "iopub.status.busy": "2022-09-26T23:37:44.023696Z",
     "iopub.status.idle": "2022-09-26T23:37:47.509696Z",
     "shell.execute_reply": "2022-09-26T23:37:47.509195Z",
     "shell.execute_reply.started": "2022-09-26T23:37:44.024195Z"
    },
    "tags": []
   },
   "outputs": [
    {
     "name": "stderr",
     "output_type": "stream",
     "text": [
      "C:\\Users\\GCM\\AppData\\Local\\Temp\\ipykernel_16196\\3872314409.py:2: FutureWarning: The error_bad_lines argument has been deprecated and will be removed in a future version. Use on_bad_lines in the future.\n",
      "\n",
      "\n",
      "  ldf = pd.read_csv('E:\\\\GIT_REPOS\\\\LAB\\\\Literature_summary\\\\Papers\\\\scopus_latest.csv', engine='python', error_bad_lines=False)\n",
      "Skipping line 1983: unexpected end of data\n",
      "C:\\Users\\GCM\\AppData\\Local\\Temp\\ipykernel_16196\\3872314409.py:3: FutureWarning: The error_bad_lines argument has been deprecated and will be removed in a future version. Use on_bad_lines in the future.\n",
      "\n",
      "\n",
      "  rdf = pd.read_csv('E:\\\\GIT_REPOS\\\\LAB\\\\Literature_summary\\\\Papers\\\\scopus_earliest.csv', engine='python', error_bad_lines=False)\n",
      "Skipping line 1706: unexpected end of data\n"
     ]
    }
   ],
   "source": [
    "csv.field_size_limit(100000000)\n",
    "ldf = pd.read_csv('E:\\\\GIT_REPOS\\\\LAB\\\\Literature_summary\\\\Papers\\\\scopus_latest.csv', engine='python', error_bad_lines=False)\n",
    "rdf = pd.read_csv('E:\\\\GIT_REPOS\\\\LAB\\\\Literature_summary\\\\Papers\\\\scopus_earliest.csv', engine='python', error_bad_lines=False)\n",
    "\n",
    "df = pd.concat([ldf , rdf])\n",
    "df = df.drop_duplicates()\n",
    "\n",
    "df.to_csv(\"E:\\\\GIT_REPOS\\\\LAB\\\\Literature_summary\\\\Papers\\\\scopus_bark_ambrosia_beetles.csv\")"
   ]
  }
 ],
 "metadata": {
  "kernelspec": {
   "display_name": "Python 3 (ipykernel)",
   "language": "python",
   "name": "python3"
  },
  "language_info": {
   "codemirror_mode": {
    "name": "ipython",
    "version": 3
   },
   "file_extension": ".py",
   "mimetype": "text/x-python",
   "name": "python",
   "nbconvert_exporter": "python",
   "pygments_lexer": "ipython3",
   "version": "3.9.13"
  }
 },
 "nbformat": 4,
 "nbformat_minor": 5
}
