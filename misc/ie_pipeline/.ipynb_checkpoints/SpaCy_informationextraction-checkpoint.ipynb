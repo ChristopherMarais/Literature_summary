{
 "cells": [
  {
   "cell_type": "markdown",
   "metadata": {
    "colab_type": "text",
    "id": "view-in-github"
   },
   "source": [
    "<a href=\"https://colab.research.google.com/github/tomasonjo/blogs/blob/master/ie_pipeline/SpaCy_informationextraction.ipynb\" target=\"_parent\"><img src=\"https://colab.research.google.com/assets/colab-badge.svg\" alt=\"Open In Colab\"/></a>"
   ]
  },
  {
   "cell_type": "code",
   "execution_count": 1,
   "metadata": {
    "colab": {
     "base_uri": "https://localhost:8080/"
    },
    "collapsed": true,
    "execution": {
     "iopub.execute_input": "2022-09-28T02:09:16.655985Z",
     "iopub.status.busy": "2022-09-28T02:09:16.655486Z",
     "iopub.status.idle": "2022-09-28T02:09:55.202981Z",
     "shell.execute_reply": "2022-09-28T02:09:55.202480Z",
     "shell.execute_reply.started": "2022-09-28T02:09:16.655985Z"
    },
    "id": "g2DBtIbZPRbL",
    "jupyter": {
     "outputs_hidden": true
    },
    "outputId": "71480621-b370-4a31-999d-ba2b6c93be78",
    "tags": []
   },
   "outputs": [
    {
     "name": "stdout",
     "output_type": "stream",
     "text": [
      "Collecting crosslingual-coreference==0.2.3\n",
      "  Using cached crosslingual_coreference-0.2.3-py3-none-any.whl (11 kB)\n",
      "Collecting spacy-transformers==1.1.5\n",
      "  Using cached spacy_transformers-1.1.5-py2.py3-none-any.whl (51 kB)\n",
      "Collecting wikipedia\n",
      "  Using cached wikipedia-1.4.0-py3-none-any.whl\n",
      "Requirement already satisfied: neo4j in c:\\users\\gcm\\anaconda3\\envs\\lit\\lib\\site-packages (5.0.1)\n",
      "Requirement already satisfied: click<8.1.0 in c:\\users\\gcm\\anaconda3\\envs\\lit\\lib\\site-packages (from crosslingual-coreference==0.2.3) (8.0.4)\n",
      "Collecting torchaudio<0.11\n",
      "  Using cached torchaudio-0.10.2-cp37-cp37m-win_amd64.whl (341 kB)\n",
      "Collecting spacy<4.0,>=3.1.0\n",
      "  Using cached spacy-3.4.1-cp37-cp37m-win_amd64.whl (12.0 MB)\n",
      "Collecting allennlp<3.0,>=2.8\n",
      "  Using cached allennlp-2.10.0-py3-none-any.whl (729 kB)\n",
      "Requirement already satisfied: torch<1.11.0,>=1.10.0 in c:\\users\\gcm\\anaconda3\\envs\\lit\\lib\\site-packages (from crosslingual-coreference==0.2.3) (1.10.2)\n",
      "Collecting torchvision<0.12.0\n",
      "  Using cached torchvision-0.11.3-cp37-cp37m-win_amd64.whl (948 kB)\n",
      "Collecting allennlp-models<3.0,>=2.8\n",
      "  Using cached allennlp_models-2.10.0-py3-none-any.whl (464 kB)\n",
      "Collecting srsly<3.0.0,>=2.4.0\n",
      "  Using cached srsly-2.4.4-cp37-cp37m-win_amd64.whl (448 kB)\n",
      "Collecting transformers<4.18.0,>=3.4.0\n",
      "  Using cached transformers-4.17.0-py3-none-any.whl (3.8 MB)\n",
      "Requirement already satisfied: spacy-alignments<1.0.0,>=0.7.2 in c:\\users\\gcm\\anaconda3\\envs\\lit\\lib\\site-packages (from spacy-transformers==1.1.5) (0.8.5)\n",
      "Requirement already satisfied: requests<3.0.0,>=2.0.0 in c:\\users\\gcm\\anaconda3\\envs\\lit\\lib\\site-packages (from wikipedia) (2.28.1)\n",
      "Requirement already satisfied: beautifulsoup4 in c:\\users\\gcm\\anaconda3\\envs\\lit\\lib\\site-packages (from wikipedia) (4.11.1)\n",
      "Requirement already satisfied: pytz in c:\\users\\gcm\\anaconda3\\envs\\lit\\lib\\site-packages (from neo4j) (2022.1)\n",
      "Requirement already satisfied: numpy>=1.21.4 in c:\\users\\gcm\\anaconda3\\envs\\lit\\lib\\site-packages (from allennlp<3.0,>=2.8->crosslingual-coreference==0.2.3) (1.21.6)\n",
      "Requirement already satisfied: traitlets>5.1.1 in c:\\users\\gcm\\anaconda3\\envs\\lit\\lib\\site-packages (from allennlp<3.0,>=2.8->crosslingual-coreference==0.2.3) (5.4.0)\n",
      "Collecting wandb<0.13.0,>=0.10.0\n",
      "  Using cached wandb-0.12.21-py2.py3-none-any.whl (1.8 MB)\n",
      "Requirement already satisfied: rich==12.1 in c:\\users\\gcm\\anaconda3\\envs\\lit\\lib\\site-packages (from allennlp<3.0,>=2.8->crosslingual-coreference==0.2.3) (12.1.0)\n",
      "Collecting cached-path<1.2.0,>=1.1.3\n",
      "  Using cached cached_path-1.1.5-py3-none-any.whl (26 kB)\n",
      "Requirement already satisfied: sentencepiece>=0.1.96 in c:\\users\\gcm\\anaconda3\\envs\\lit\\lib\\site-packages (from allennlp<3.0,>=2.8->crosslingual-coreference==0.2.3) (0.1.97)\n",
      "Collecting protobuf==3.20.0\n",
      "  Using cached protobuf-3.20.0-cp37-cp37m-win_amd64.whl (905 kB)\n",
      "Requirement already satisfied: sacremoses in c:\\users\\gcm\\anaconda3\\envs\\lit\\lib\\site-packages (from allennlp<3.0,>=2.8->crosslingual-coreference==0.2.3) (0.0.53)\n",
      "Requirement already satisfied: lmdb>=1.2.1 in c:\\users\\gcm\\anaconda3\\envs\\lit\\lib\\site-packages (from allennlp<3.0,>=2.8->crosslingual-coreference==0.2.3) (1.3.0)\n",
      "Requirement already satisfied: scipy>=1.7.3 in c:\\users\\gcm\\anaconda3\\envs\\lit\\lib\\site-packages (from allennlp<3.0,>=2.8->crosslingual-coreference==0.2.3) (1.7.3)\n",
      "Requirement already satisfied: termcolor==1.1.0 in c:\\users\\gcm\\anaconda3\\envs\\lit\\lib\\site-packages (from allennlp<3.0,>=2.8->crosslingual-coreference==0.2.3) (1.1.0)\n",
      "Collecting fairscale==0.4.6\n",
      "  Using cached fairscale-0.4.6-py3-none-any.whl\n",
      "Collecting more-itertools>=8.12.0\n",
      "  Using cached more_itertools-8.14.0-py3-none-any.whl (52 kB)\n",
      "Collecting scikit-learn>=1.0.1\n",
      "  Using cached scikit_learn-1.0.2-cp37-cp37m-win_amd64.whl (7.1 MB)\n",
      "Requirement already satisfied: nltk>=3.6.5 in c:\\users\\gcm\\anaconda3\\envs\\lit\\lib\\site-packages (from allennlp<3.0,>=2.8->crosslingual-coreference==0.2.3) (3.7)\n",
      "Requirement already satisfied: huggingface-hub>=0.0.16 in c:\\users\\gcm\\anaconda3\\envs\\lit\\lib\\site-packages (from allennlp<3.0,>=2.8->crosslingual-coreference==0.2.3) (0.9.1)\n",
      "Collecting filelock<3.8,>=3.3\n",
      "  Using cached filelock-3.7.1-py3-none-any.whl (10 kB)\n",
      "Collecting typer>=0.4.1\n",
      "  Using cached typer-0.6.1-py3-none-any.whl (38 kB)\n",
      "Collecting spacy<4.0,>=3.1.0\n",
      "  Using cached spacy-3.3.1-cp37-cp37m-win_amd64.whl (12.0 MB)\n",
      "Collecting pytest>=6.2.5\n",
      "  Using cached pytest-7.1.3-py3-none-any.whl (298 kB)\n",
      "Collecting dill>=0.3.4\n",
      "  Using cached dill-0.3.5.1-py2.py3-none-any.whl (95 kB)\n",
      "Collecting h5py>=3.6.0\n",
      "  Using cached h5py-3.7.0-cp37-cp37m-win_amd64.whl (2.6 MB)\n",
      "Collecting tensorboardX>=1.2\n",
      "  Using cached tensorboardX-2.5.1-py2.py3-none-any.whl (125 kB)\n",
      "Requirement already satisfied: tqdm>=4.62 in c:\\users\\gcm\\anaconda3\\envs\\lit\\lib\\site-packages (from allennlp<3.0,>=2.8->crosslingual-coreference==0.2.3) (4.64.1)\n",
      "Collecting base58>=2.1.1\n",
      "  Using cached base58-2.1.1-py3-none-any.whl (5.6 kB)\n",
      "Requirement already satisfied: pygments<3.0.0,>=2.6.0 in c:\\users\\gcm\\anaconda3\\envs\\lit\\lib\\site-packages (from rich==12.1->allennlp<3.0,>=2.8->crosslingual-coreference==0.2.3) (2.11.2)\n",
      "Requirement already satisfied: commonmark<0.10.0,>=0.9.0 in c:\\users\\gcm\\anaconda3\\envs\\lit\\lib\\site-packages (from rich==12.1->allennlp<3.0,>=2.8->crosslingual-coreference==0.2.3) (0.9.1)\n",
      "Requirement already satisfied: typing-extensions<5.0,>=3.7.4 in c:\\users\\gcm\\anaconda3\\envs\\lit\\lib\\site-packages (from rich==12.1->allennlp<3.0,>=2.8->crosslingual-coreference==0.2.3) (4.1.1)\n",
      "Requirement already satisfied: word2number>=1.1 in c:\\users\\gcm\\anaconda3\\envs\\lit\\lib\\site-packages (from allennlp-models<3.0,>=2.8->crosslingual-coreference==0.2.3) (1.1)\n",
      "Collecting conllu==4.4.2\n",
      "  Using cached conllu-4.4.2-py2.py3-none-any.whl (15 kB)\n",
      "Collecting datasets\n",
      "  Using cached datasets-2.5.1-py3-none-any.whl (431 kB)\n",
      "Collecting ftfy\n",
      "  Using cached ftfy-6.1.1-py3-none-any.whl (53 kB)\n",
      "Requirement already satisfied: py-rouge==1.1 in c:\\users\\gcm\\anaconda3\\envs\\lit\\lib\\site-packages (from allennlp-models<3.0,>=2.8->crosslingual-coreference==0.2.3) (1.1)\n",
      "Requirement already satisfied: colorama in c:\\users\\gcm\\anaconda3\\envs\\lit\\lib\\site-packages (from click<8.1.0->crosslingual-coreference==0.2.3) (0.4.5)\n",
      "Requirement already satisfied: importlib-metadata in c:\\users\\gcm\\anaconda3\\envs\\lit\\lib\\site-packages (from click<8.1.0->crosslingual-coreference==0.2.3) (4.11.3)\n",
      "Requirement already satisfied: idna<4,>=2.5 in c:\\users\\gcm\\anaconda3\\envs\\lit\\lib\\site-packages (from requests<3.0.0,>=2.0.0->wikipedia) (3.4)\n",
      "Requirement already satisfied: certifi>=2017.4.17 in c:\\users\\gcm\\anaconda3\\envs\\lit\\lib\\site-packages (from requests<3.0.0,>=2.0.0->wikipedia) (2022.9.14)\n",
      "Requirement already satisfied: charset-normalizer<3,>=2 in c:\\users\\gcm\\anaconda3\\envs\\lit\\lib\\site-packages (from requests<3.0.0,>=2.0.0->wikipedia) (2.1.1)\n",
      "Requirement already satisfied: urllib3<1.27,>=1.21.1 in c:\\users\\gcm\\anaconda3\\envs\\lit\\lib\\site-packages (from requests<3.0.0,>=2.0.0->wikipedia) (1.26.12)\n",
      "Requirement already satisfied: spacy-legacy<3.1.0,>=3.0.9 in c:\\users\\gcm\\anaconda3\\envs\\lit\\lib\\site-packages (from spacy<4.0,>=3.1.0->crosslingual-coreference==0.2.3) (3.0.10)\n",
      "Collecting thinc<8.1.0,>=8.0.14\n",
      "  Using cached thinc-8.0.17-cp37-cp37m-win_amd64.whl (1.0 MB)\n",
      "Requirement already satisfied: packaging>=20.0 in c:\\users\\gcm\\anaconda3\\envs\\lit\\lib\\site-packages (from spacy<4.0,>=3.1.0->crosslingual-coreference==0.2.3) (21.3)\n",
      "Requirement already satisfied: murmurhash<1.1.0,>=0.28.0 in c:\\users\\gcm\\anaconda3\\envs\\lit\\lib\\site-packages (from spacy<4.0,>=3.1.0->crosslingual-coreference==0.2.3) (1.0.8)\n",
      "Requirement already satisfied: cymem<2.1.0,>=2.0.2 in c:\\users\\gcm\\anaconda3\\envs\\lit\\lib\\site-packages (from spacy<4.0,>=3.1.0->crosslingual-coreference==0.2.3) (2.0.6)\n",
      "Requirement already satisfied: pydantic!=1.8,!=1.8.1,<1.9.0,>=1.7.4 in c:\\users\\gcm\\anaconda3\\envs\\lit\\lib\\site-packages (from spacy<4.0,>=3.1.0->crosslingual-coreference==0.2.3) (1.8.2)\n",
      "Requirement already satisfied: jinja2 in c:\\users\\gcm\\anaconda3\\envs\\lit\\lib\\site-packages (from spacy<4.0,>=3.1.0->crosslingual-coreference==0.2.3) (3.0.3)\n",
      "Collecting typer>=0.4.1\n",
      "  Using cached typer-0.4.2-py3-none-any.whl (27 kB)\n",
      "Collecting blis<0.8.0,>=0.4.0\n",
      "  Using cached blis-0.7.8-cp37-cp37m-win_amd64.whl (6.6 MB)\n",
      "Requirement already satisfied: setuptools in c:\\users\\gcm\\anaconda3\\envs\\lit\\lib\\site-packages (from spacy<4.0,>=3.1.0->crosslingual-coreference==0.2.3) (63.4.1)\n",
      "Requirement already satisfied: preshed<3.1.0,>=3.0.2 in c:\\users\\gcm\\anaconda3\\envs\\lit\\lib\\site-packages (from spacy<4.0,>=3.1.0->crosslingual-coreference==0.2.3) (3.0.7)\n",
      "Collecting catalogue<2.1.0,>=2.0.6\n",
      "  Using cached catalogue-2.0.8-py3-none-any.whl (17 kB)\n",
      "Requirement already satisfied: spacy-loggers<2.0.0,>=1.0.0 in c:\\users\\gcm\\anaconda3\\envs\\lit\\lib\\site-packages (from spacy<4.0,>=3.1.0->crosslingual-coreference==0.2.3) (1.0.3)\n",
      "Collecting pathy>=0.3.5\n",
      "  Using cached pathy-0.6.2-py3-none-any.whl (42 kB)\n",
      "Collecting langcodes<4.0.0,>=3.2.0\n",
      "  Using cached langcodes-3.3.0-py3-none-any.whl (181 kB)\n",
      "Requirement already satisfied: wasabi<1.1.0,>=0.9.1 in c:\\users\\gcm\\anaconda3\\envs\\lit\\lib\\site-packages (from spacy<4.0,>=3.1.0->crosslingual-coreference==0.2.3) (0.10.1)\n",
      "Collecting pillow!=8.3.0,>=5.3.0\n",
      "  Using cached Pillow-9.2.0-cp37-cp37m-win_amd64.whl (3.3 MB)\n",
      "Requirement already satisfied: regex!=2019.12.17 in c:\\users\\gcm\\anaconda3\\envs\\lit\\lib\\site-packages (from transformers<4.18.0,>=3.4.0->spacy-transformers==1.1.5) (2022.3.15)\n",
      "Requirement already satisfied: tokenizers!=0.11.3,>=0.11.1 in c:\\users\\gcm\\anaconda3\\envs\\lit\\lib\\site-packages (from transformers<4.18.0,>=3.4.0->spacy-transformers==1.1.5) (0.12.1)\n",
      "Requirement already satisfied: pyyaml>=5.1 in c:\\users\\gcm\\anaconda3\\envs\\lit\\lib\\site-packages (from transformers<4.18.0,>=3.4.0->spacy-transformers==1.1.5) (6.0)\n",
      "Requirement already satisfied: soupsieve>1.2 in c:\\users\\gcm\\anaconda3\\envs\\lit\\lib\\site-packages (from beautifulsoup4->wikipedia) (2.3.1)\n",
      "Requirement already satisfied: boto3<2.0,>=1.0 in c:\\users\\gcm\\anaconda3\\envs\\lit\\lib\\site-packages (from cached-path<1.2.0,>=1.1.3->allennlp<3.0,>=2.8->crosslingual-coreference==0.2.3) (1.24.82)\n",
      "Collecting huggingface-hub>=0.0.16\n",
      "  Using cached huggingface_hub-0.8.1-py3-none-any.whl (101 kB)\n",
      "Requirement already satisfied: google-cloud-storage<3.0,>=1.32.0 in c:\\users\\gcm\\anaconda3\\envs\\lit\\lib\\site-packages (from cached-path<1.2.0,>=1.1.3->allennlp<3.0,>=2.8->crosslingual-coreference==0.2.3) (2.5.0)\n",
      "Requirement already satisfied: zipp>=0.5 in c:\\users\\gcm\\anaconda3\\envs\\lit\\lib\\site-packages (from catalogue<2.1.0,>=2.0.6->spacy<4.0,>=3.1.0->crosslingual-coreference==0.2.3) (3.8.0)\n",
      "Requirement already satisfied: joblib in c:\\users\\gcm\\anaconda3\\envs\\lit\\lib\\site-packages (from nltk>=3.6.5->allennlp<3.0,>=2.8->crosslingual-coreference==0.2.3) (1.1.0)\n",
      "Requirement already satisfied: pyparsing!=3.0.5,>=2.0.2 in c:\\users\\gcm\\anaconda3\\envs\\lit\\lib\\site-packages (from packaging>=20.0->spacy<4.0,>=3.1.0->crosslingual-coreference==0.2.3) (3.0.4)\n",
      "Requirement already satisfied: smart-open<6.0.0,>=5.2.1 in c:\\users\\gcm\\anaconda3\\envs\\lit\\lib\\site-packages (from pathy>=0.3.5->spacy<4.0,>=3.1.0->crosslingual-coreference==0.2.3) (5.2.1)\n",
      "Requirement already satisfied: attrs>=19.2.0 in c:\\users\\gcm\\anaconda3\\envs\\lit\\lib\\site-packages (from pytest>=6.2.5->allennlp<3.0,>=2.8->crosslingual-coreference==0.2.3) (21.4.0)\n",
      "Requirement already satisfied: tomli>=1.0.0 in c:\\users\\gcm\\anaconda3\\envs\\lit\\lib\\site-packages (from pytest>=6.2.5->allennlp<3.0,>=2.8->crosslingual-coreference==0.2.3) (2.0.1)\n",
      "Requirement already satisfied: py>=1.8.2 in c:\\users\\gcm\\anaconda3\\envs\\lit\\lib\\site-packages (from pytest>=6.2.5->allennlp<3.0,>=2.8->crosslingual-coreference==0.2.3) (1.11.0)\n",
      "Collecting pluggy<2.0,>=0.12\n",
      "  Using cached pluggy-1.0.0-py2.py3-none-any.whl (13 kB)\n",
      "Requirement already satisfied: iniconfig in c:\\users\\gcm\\anaconda3\\envs\\lit\\lib\\site-packages (from pytest>=6.2.5->allennlp<3.0,>=2.8->crosslingual-coreference==0.2.3) (1.1.1)\n",
      "Requirement already satisfied: threadpoolctl>=2.0.0 in c:\\users\\gcm\\anaconda3\\envs\\lit\\lib\\site-packages (from scikit-learn>=1.0.1->allennlp<3.0,>=2.8->crosslingual-coreference==0.2.3) (3.1.0)\n",
      "Collecting GitPython>=1.0.0\n",
      "  Using cached GitPython-3.1.27-py3-none-any.whl (181 kB)\n",
      "Requirement already satisfied: six>=1.13.0 in c:\\users\\gcm\\anaconda3\\envs\\lit\\lib\\site-packages (from wandb<0.13.0,>=0.10.0->allennlp<3.0,>=2.8->crosslingual-coreference==0.2.3) (1.16.0)\n",
      "Requirement already satisfied: promise<3,>=2.0 in c:\\users\\gcm\\anaconda3\\envs\\lit\\lib\\site-packages (from wandb<0.13.0,>=0.10.0->allennlp<3.0,>=2.8->crosslingual-coreference==0.2.3) (2.3)\n",
      "Requirement already satisfied: shortuuid>=0.5.0 in c:\\users\\gcm\\anaconda3\\envs\\lit\\lib\\site-packages (from wandb<0.13.0,>=0.10.0->allennlp<3.0,>=2.8->crosslingual-coreference==0.2.3) (1.0.9)\n",
      "Requirement already satisfied: sentry-sdk>=1.0.0 in c:\\users\\gcm\\anaconda3\\envs\\lit\\lib\\site-packages (from wandb<0.13.0,>=0.10.0->allennlp<3.0,>=2.8->crosslingual-coreference==0.2.3) (1.9.9)\n",
      "Collecting docker-pycreds>=0.4.0\n",
      "  Using cached docker_pycreds-0.4.0-py2.py3-none-any.whl (9.0 kB)\n",
      "Requirement already satisfied: pathtools in c:\\users\\gcm\\anaconda3\\envs\\lit\\lib\\site-packages (from wandb<0.13.0,>=0.10.0->allennlp<3.0,>=2.8->crosslingual-coreference==0.2.3) (0.1.2)\n",
      "Requirement already satisfied: setproctitle in c:\\users\\gcm\\anaconda3\\envs\\lit\\lib\\site-packages (from wandb<0.13.0,>=0.10.0->allennlp<3.0,>=2.8->crosslingual-coreference==0.2.3) (1.3.2)\n",
      "Requirement already satisfied: psutil>=5.0.0 in c:\\users\\gcm\\anaconda3\\envs\\lit\\lib\\site-packages (from wandb<0.13.0,>=0.10.0->allennlp<3.0,>=2.8->crosslingual-coreference==0.2.3) (5.9.0)\n",
      "Collecting aiohttp\n",
      "  Using cached aiohttp-3.8.3-cp37-cp37m-win_amd64.whl (322 kB)\n",
      "Requirement already satisfied: xxhash in c:\\users\\gcm\\anaconda3\\envs\\lit\\lib\\site-packages (from datasets->allennlp-models<3.0,>=2.8->crosslingual-coreference==0.2.3) (3.0.0)\n",
      "Collecting fsspec[http]>=2021.11.1\n",
      "  Using cached fsspec-2022.8.2-py3-none-any.whl (140 kB)\n",
      "Collecting responses<0.19\n",
      "  Using cached responses-0.18.0-py3-none-any.whl (38 kB)\n",
      "Requirement already satisfied: pyarrow>=6.0.0 in c:\\users\\gcm\\anaconda3\\envs\\lit\\lib\\site-packages (from datasets->allennlp-models<3.0,>=2.8->crosslingual-coreference==0.2.3) (9.0.0)\n",
      "Collecting multiprocess\n",
      "  Using cached multiprocess-0.70.13-py37-none-any.whl (115 kB)\n",
      "Requirement already satisfied: pandas in c:\\users\\gcm\\anaconda3\\envs\\lit\\lib\\site-packages (from datasets->allennlp-models<3.0,>=2.8->crosslingual-coreference==0.2.3) (1.3.5)\n",
      "Requirement already satisfied: wcwidth>=0.2.5 in c:\\users\\gcm\\anaconda3\\envs\\lit\\lib\\site-packages (from ftfy->allennlp-models<3.0,>=2.8->crosslingual-coreference==0.2.3) (0.2.5)\n",
      "Requirement already satisfied: MarkupSafe>=2.0 in c:\\users\\gcm\\anaconda3\\envs\\lit\\lib\\site-packages (from jinja2->spacy<4.0,>=3.1.0->crosslingual-coreference==0.2.3) (2.1.1)\n",
      "Requirement already satisfied: s3transfer<0.7.0,>=0.6.0 in c:\\users\\gcm\\anaconda3\\envs\\lit\\lib\\site-packages (from boto3<2.0,>=1.0->cached-path<1.2.0,>=1.1.3->allennlp<3.0,>=2.8->crosslingual-coreference==0.2.3) (0.6.0)\n",
      "Requirement already satisfied: jmespath<2.0.0,>=0.7.1 in c:\\users\\gcm\\anaconda3\\envs\\lit\\lib\\site-packages (from boto3<2.0,>=1.0->cached-path<1.2.0,>=1.1.3->allennlp<3.0,>=2.8->crosslingual-coreference==0.2.3) (1.0.1)\n",
      "Requirement already satisfied: botocore<1.28.0,>=1.27.82 in c:\\users\\gcm\\anaconda3\\envs\\lit\\lib\\site-packages (from boto3<2.0,>=1.0->cached-path<1.2.0,>=1.1.3->allennlp<3.0,>=2.8->crosslingual-coreference==0.2.3) (1.27.82)\n",
      "Collecting yarl<2.0,>=1.0\n",
      "  Using cached yarl-1.8.1-cp37-cp37m-win_amd64.whl (56 kB)\n",
      "Collecting asynctest==0.13.0\n",
      "  Using cached asynctest-0.13.0-py3-none-any.whl (26 kB)\n",
      "Collecting async-timeout<5.0,>=4.0.0a3\n",
      "  Using cached async_timeout-4.0.2-py3-none-any.whl (5.8 kB)\n",
      "Collecting aiosignal>=1.1.2\n",
      "  Using cached aiosignal-1.2.0-py3-none-any.whl (8.2 kB)\n",
      "Collecting frozenlist>=1.1.1\n",
      "  Using cached frozenlist-1.3.1-cp37-cp37m-win_amd64.whl (34 kB)\n",
      "Collecting multidict<7.0,>=4.5\n",
      "  Using cached multidict-6.0.2-cp37-cp37m-win_amd64.whl (27 kB)\n",
      "Collecting gitdb<5,>=4.0.1\n",
      "  Using cached gitdb-4.0.9-py3-none-any.whl (63 kB)\n",
      "Requirement already satisfied: google-cloud-core<3.0dev,>=2.3.0 in c:\\users\\gcm\\anaconda3\\envs\\lit\\lib\\site-packages (from google-cloud-storage<3.0,>=1.32.0->cached-path<1.2.0,>=1.1.3->allennlp<3.0,>=2.8->crosslingual-coreference==0.2.3) (2.3.2)\n",
      "Requirement already satisfied: google-api-core!=2.0.*,!=2.1.*,!=2.2.*,!=2.3.0,<3.0.0dev,>=1.31.5 in c:\\users\\gcm\\anaconda3\\envs\\lit\\lib\\site-packages (from google-cloud-storage<3.0,>=1.32.0->cached-path<1.2.0,>=1.1.3->allennlp<3.0,>=2.8->crosslingual-coreference==0.2.3) (2.10.1)\n",
      "Requirement already satisfied: google-resumable-media>=2.3.2 in c:\\users\\gcm\\anaconda3\\envs\\lit\\lib\\site-packages (from google-cloud-storage<3.0,>=1.32.0->cached-path<1.2.0,>=1.1.3->allennlp<3.0,>=2.8->crosslingual-coreference==0.2.3) (2.3.3)\n",
      "Requirement already satisfied: google-auth<3.0dev,>=1.25.0 in c:\\users\\gcm\\anaconda3\\envs\\lit\\lib\\site-packages (from google-cloud-storage<3.0,>=1.32.0->cached-path<1.2.0,>=1.1.3->allennlp<3.0,>=2.8->crosslingual-coreference==0.2.3) (2.12.0)\n",
      "Requirement already satisfied: python-dateutil>=2.7.3 in c:\\users\\gcm\\anaconda3\\envs\\lit\\lib\\site-packages (from pandas->datasets->allennlp-models<3.0,>=2.8->crosslingual-coreference==0.2.3) (2.8.2)\n",
      "Requirement already satisfied: smmap<6,>=3.0.1 in c:\\users\\gcm\\anaconda3\\envs\\lit\\lib\\site-packages (from gitdb<5,>=4.0.1->GitPython>=1.0.0->wandb<0.13.0,>=0.10.0->allennlp<3.0,>=2.8->crosslingual-coreference==0.2.3) (5.0.0)\n",
      "Collecting google-api-core!=2.0.*,!=2.1.*,!=2.2.*,!=2.3.0,<3.0.0dev,>=1.31.5\n",
      "  Using cached google_api_core-2.10.0-py3-none-any.whl (115 kB)\n",
      "  Using cached google_api_core-2.9.0-py3-none-any.whl (115 kB)\n",
      "  Using cached google_api_core-2.8.2-py3-none-any.whl (114 kB)\n",
      "Requirement already satisfied: googleapis-common-protos<2.0dev,>=1.56.2 in c:\\users\\gcm\\anaconda3\\envs\\lit\\lib\\site-packages (from google-api-core!=2.0.*,!=2.1.*,!=2.2.*,!=2.3.0,<3.0.0dev,>=1.31.5->google-cloud-storage<3.0,>=1.32.0->cached-path<1.2.0,>=1.1.3->allennlp<3.0,>=2.8->crosslingual-coreference==0.2.3) (1.56.4)\n",
      "Requirement already satisfied: rsa<5,>=3.1.4 in c:\\users\\gcm\\anaconda3\\envs\\lit\\lib\\site-packages (from google-auth<3.0dev,>=1.25.0->google-cloud-storage<3.0,>=1.32.0->cached-path<1.2.0,>=1.1.3->allennlp<3.0,>=2.8->crosslingual-coreference==0.2.3) (4.9)\n",
      "Requirement already satisfied: cachetools<6.0,>=2.0.0 in c:\\users\\gcm\\anaconda3\\envs\\lit\\lib\\site-packages (from google-auth<3.0dev,>=1.25.0->google-cloud-storage<3.0,>=1.32.0->cached-path<1.2.0,>=1.1.3->allennlp<3.0,>=2.8->crosslingual-coreference==0.2.3) (5.2.0)\n",
      "Requirement already satisfied: pyasn1-modules>=0.2.1 in c:\\users\\gcm\\anaconda3\\envs\\lit\\lib\\site-packages (from google-auth<3.0dev,>=1.25.0->google-cloud-storage<3.0,>=1.32.0->cached-path<1.2.0,>=1.1.3->allennlp<3.0,>=2.8->crosslingual-coreference==0.2.3) (0.2.8)\n",
      "Requirement already satisfied: google-crc32c<2.0dev,>=1.0 in c:\\users\\gcm\\anaconda3\\envs\\lit\\lib\\site-packages (from google-resumable-media>=2.3.2->google-cloud-storage<3.0,>=1.32.0->cached-path<1.2.0,>=1.1.3->allennlp<3.0,>=2.8->crosslingual-coreference==0.2.3) (1.5.0)\n",
      "Requirement already satisfied: pyasn1<0.5.0,>=0.4.6 in c:\\users\\gcm\\anaconda3\\envs\\lit\\lib\\site-packages (from pyasn1-modules>=0.2.1->google-auth<3.0dev,>=1.25.0->google-cloud-storage<3.0,>=1.32.0->cached-path<1.2.0,>=1.1.3->allennlp<3.0,>=2.8->crosslingual-coreference==0.2.3) (0.4.8)\n",
      "Installing collected packages: protobuf, pillow, multidict, more-itertools, langcodes, h5py, gitdb, ftfy, fsspec, frozenlist, filelock, docker-pycreds, dill, conllu, catalogue, blis, base58, asynctest, async-timeout, yarl, wikipedia, torchvision, torchaudio, tensorboardX, srsly, scikit-learn, responses, pluggy, multiprocess, huggingface-hub, GitPython, fairscale, aiosignal, wandb, typer, thinc, pytest, google-api-core, aiohttp, transformers, pathy, spacy, datasets, spacy-transformers, cached-path, allennlp, allennlp-models, crosslingual-coreference\n",
      "  Attempting uninstall: protobuf\n",
      "    Found existing installation: protobuf 4.21.6\n",
      "    Uninstalling protobuf-4.21.6:\n",
      "      Successfully uninstalled protobuf-4.21.6\n",
      "  Attempting uninstall: filelock\n",
      "    Found existing installation: filelock 3.8.0\n",
      "    Uninstalling filelock-3.8.0:\n",
      "      Successfully uninstalled filelock-3.8.0\n",
      "  Attempting uninstall: blis\n",
      "    Found existing installation: blis 0.2.4\n",
      "    Uninstalling blis-0.2.4:\n",
      "      Successfully uninstalled blis-0.2.4\n"
     ]
    },
    {
     "name": "stderr",
     "output_type": "stream",
     "text": [
      "ERROR: Could not install packages due to an OSError: [WinError 5] Access is denied: 'c:\\\\users\\\\gcm\\\\anaconda3\\\\envs\\\\lit\\\\lib\\\\site-packages\\\\~lis\\\\cy.cp37-win_amd64.pyd'\n",
      "Consider using the `--user` option or check the permissions.\n",
      "\n"
     ]
    },
    {
     "name": "stdout",
     "output_type": "stream",
     "text": [
      "Requirement already satisfied: google-cloud-storage in c:\\users\\gcm\\anaconda3\\envs\\lit\\lib\\site-packages (2.5.0)\n",
      "Requirement already satisfied: google-cloud-core<3.0dev,>=2.3.0 in c:\\users\\gcm\\anaconda3\\envs\\lit\\lib\\site-packages (from google-cloud-storage) (2.3.2)\n",
      "Requirement already satisfied: google-resumable-media>=2.3.2 in c:\\users\\gcm\\anaconda3\\envs\\lit\\lib\\site-packages (from google-cloud-storage) (2.3.3)\n",
      "Requirement already satisfied: requests<3.0.0dev,>=2.18.0 in c:\\users\\gcm\\anaconda3\\envs\\lit\\lib\\site-packages (from google-cloud-storage) (2.28.1)\n",
      "Requirement already satisfied: google-api-core!=2.0.*,!=2.1.*,!=2.2.*,!=2.3.0,<3.0.0dev,>=1.31.5 in c:\\users\\gcm\\anaconda3\\envs\\lit\\lib\\site-packages (from google-cloud-storage) (2.10.1)\n",
      "Requirement already satisfied: google-auth<3.0dev,>=1.25.0 in c:\\users\\gcm\\anaconda3\\envs\\lit\\lib\\site-packages (from google-cloud-storage) (2.12.0)\n",
      "Requirement already satisfied: googleapis-common-protos<2.0dev,>=1.56.2 in c:\\users\\gcm\\anaconda3\\envs\\lit\\lib\\site-packages (from google-api-core!=2.0.*,!=2.1.*,!=2.2.*,!=2.3.0,<3.0.0dev,>=1.31.5->google-cloud-storage) (1.56.4)\n",
      "Collecting protobuf<5.0.0dev,>=3.20.1\n",
      "  Using cached protobuf-4.21.6-cp37-cp37m-win_amd64.whl (524 kB)\n",
      "Requirement already satisfied: pyasn1-modules>=0.2.1 in c:\\users\\gcm\\anaconda3\\envs\\lit\\lib\\site-packages (from google-auth<3.0dev,>=1.25.0->google-cloud-storage) (0.2.8)\n",
      "Requirement already satisfied: rsa<5,>=3.1.4 in c:\\users\\gcm\\anaconda3\\envs\\lit\\lib\\site-packages (from google-auth<3.0dev,>=1.25.0->google-cloud-storage) (4.9)\n",
      "Requirement already satisfied: six>=1.9.0 in c:\\users\\gcm\\anaconda3\\envs\\lit\\lib\\site-packages (from google-auth<3.0dev,>=1.25.0->google-cloud-storage) (1.16.0)\n",
      "Requirement already satisfied: cachetools<6.0,>=2.0.0 in c:\\users\\gcm\\anaconda3\\envs\\lit\\lib\\site-packages (from google-auth<3.0dev,>=1.25.0->google-cloud-storage) (5.2.0)\n",
      "Requirement already satisfied: google-crc32c<2.0dev,>=1.0 in c:\\users\\gcm\\anaconda3\\envs\\lit\\lib\\site-packages (from google-resumable-media>=2.3.2->google-cloud-storage) (1.5.0)\n",
      "Requirement already satisfied: certifi>=2017.4.17 in c:\\users\\gcm\\anaconda3\\envs\\lit\\lib\\site-packages (from requests<3.0.0dev,>=2.18.0->google-cloud-storage) (2022.9.14)\n",
      "Requirement already satisfied: idna<4,>=2.5 in c:\\users\\gcm\\anaconda3\\envs\\lit\\lib\\site-packages (from requests<3.0.0dev,>=2.18.0->google-cloud-storage) (3.4)\n",
      "Requirement already satisfied: charset-normalizer<3,>=2 in c:\\users\\gcm\\anaconda3\\envs\\lit\\lib\\site-packages (from requests<3.0.0dev,>=2.18.0->google-cloud-storage) (2.1.1)\n",
      "Requirement already satisfied: urllib3<1.27,>=1.21.1 in c:\\users\\gcm\\anaconda3\\envs\\lit\\lib\\site-packages (from requests<3.0.0dev,>=2.18.0->google-cloud-storage) (1.26.12)\n",
      "Requirement already satisfied: pyasn1<0.5.0,>=0.4.6 in c:\\users\\gcm\\anaconda3\\envs\\lit\\lib\\site-packages (from pyasn1-modules>=0.2.1->google-auth<3.0dev,>=1.25.0->google-cloud-storage) (0.4.8)\n",
      "Installing collected packages: protobuf\n",
      "  Attempting uninstall: protobuf\n",
      "    Found existing installation: protobuf 3.20.0\n",
      "    Uninstalling protobuf-3.20.0:\n",
      "      Successfully uninstalled protobuf-3.20.0\n",
      "Successfully installed protobuf-4.21.6\n",
      "Requirement already satisfied: transformers==4.18.0 in c:\\users\\gcm\\anaconda3\\envs\\lit\\lib\\site-packages (4.18.0)\n",
      "Requirement already satisfied: tokenizers!=0.11.3,<0.13,>=0.11.1 in c:\\users\\gcm\\anaconda3\\envs\\lit\\lib\\site-packages (from transformers==4.18.0) (0.12.1)\n",
      "Requirement already satisfied: huggingface-hub<1.0,>=0.1.0 in c:\\users\\gcm\\anaconda3\\envs\\lit\\lib\\site-packages (from transformers==4.18.0) (0.9.1)\n",
      "Requirement already satisfied: requests in c:\\users\\gcm\\anaconda3\\envs\\lit\\lib\\site-packages (from transformers==4.18.0) (2.28.1)\n",
      "Requirement already satisfied: numpy>=1.17 in c:\\users\\gcm\\anaconda3\\envs\\lit\\lib\\site-packages (from transformers==4.18.0) (1.21.6)\n",
      "Requirement already satisfied: tqdm>=4.27 in c:\\users\\gcm\\anaconda3\\envs\\lit\\lib\\site-packages (from transformers==4.18.0) (4.64.1)\n",
      "Requirement already satisfied: importlib-metadata in c:\\users\\gcm\\anaconda3\\envs\\lit\\lib\\site-packages (from transformers==4.18.0) (4.11.3)\n",
      "Requirement already satisfied: pyyaml>=5.1 in c:\\users\\gcm\\anaconda3\\envs\\lit\\lib\\site-packages (from transformers==4.18.0) (6.0)\n",
      "Requirement already satisfied: filelock in c:\\users\\gcm\\anaconda3\\envs\\lit\\lib\\site-packages (from transformers==4.18.0) (3.7.1)\n",
      "Requirement already satisfied: packaging>=20.0 in c:\\users\\gcm\\anaconda3\\envs\\lit\\lib\\site-packages (from transformers==4.18.0) (21.3)\n",
      "Requirement already satisfied: regex!=2019.12.17 in c:\\users\\gcm\\anaconda3\\envs\\lit\\lib\\site-packages (from transformers==4.18.0) (2022.3.15)\n",
      "Requirement already satisfied: sacremoses in c:\\users\\gcm\\anaconda3\\envs\\lit\\lib\\site-packages (from transformers==4.18.0) (0.0.53)\n",
      "Requirement already satisfied: typing-extensions>=3.7.4.3 in c:\\users\\gcm\\anaconda3\\envs\\lit\\lib\\site-packages (from huggingface-hub<1.0,>=0.1.0->transformers==4.18.0) (4.1.1)\n",
      "Requirement already satisfied: pyparsing!=3.0.5,>=2.0.2 in c:\\users\\gcm\\anaconda3\\envs\\lit\\lib\\site-packages (from packaging>=20.0->transformers==4.18.0) (3.0.4)\n",
      "Requirement already satisfied: colorama in c:\\users\\gcm\\anaconda3\\envs\\lit\\lib\\site-packages (from tqdm>=4.27->transformers==4.18.0) (0.4.5)\n",
      "Requirement already satisfied: zipp>=0.5 in c:\\users\\gcm\\anaconda3\\envs\\lit\\lib\\site-packages (from importlib-metadata->transformers==4.18.0) (3.8.0)\n",
      "Requirement already satisfied: urllib3<1.27,>=1.21.1 in c:\\users\\gcm\\anaconda3\\envs\\lit\\lib\\site-packages (from requests->transformers==4.18.0) (1.26.12)\n",
      "Requirement already satisfied: charset-normalizer<3,>=2 in c:\\users\\gcm\\anaconda3\\envs\\lit\\lib\\site-packages (from requests->transformers==4.18.0) (2.1.1)\n",
      "Requirement already satisfied: idna<4,>=2.5 in c:\\users\\gcm\\anaconda3\\envs\\lit\\lib\\site-packages (from requests->transformers==4.18.0) (3.4)\n",
      "Requirement already satisfied: certifi>=2017.4.17 in c:\\users\\gcm\\anaconda3\\envs\\lit\\lib\\site-packages (from requests->transformers==4.18.0) (2022.9.14)\n",
      "Requirement already satisfied: joblib in c:\\users\\gcm\\anaconda3\\envs\\lit\\lib\\site-packages (from sacremoses->transformers==4.18.0) (1.1.0)\n",
      "Requirement already satisfied: click in c:\\users\\gcm\\anaconda3\\envs\\lit\\lib\\site-packages (from sacremoses->transformers==4.18.0) (8.0.4)\n",
      "Requirement already satisfied: six in c:\\users\\gcm\\anaconda3\\envs\\lit\\lib\\site-packages (from sacremoses->transformers==4.18.0) (1.16.0)\n",
      "Collecting en_core_web_sm==2.1.0\n",
      "  Downloading https://github.com/explosion/spacy-models/releases/download/en_core_web_sm-2.1.0/en_core_web_sm-2.1.0.tar.gz (11.1 MB)\n",
      "     --------------------------------------- 11.1/11.1 MB 31.2 MB/s eta 0:00:00\n",
      "  Preparing metadata (setup.py): started\n",
      "  Preparing metadata (setup.py): finished with status 'done'\n",
      "[+] Download and installation successful\n",
      "You can now load the model via spacy.load('en_core_web_sm')\n"
     ]
    }
   ],
   "source": [
    "# !pip install crosslingual-coreference==0.2.3 spacy-transformers==1.1.5 wikipedia neo4j\n",
    "# !pip install --upgrade google-cloud-storage\n",
    "# !pip install transformers==4.18.0\n",
    "# !python -m spacy download en_core_web_sm\n"
   ]
  },
  {
   "cell_type": "markdown",
   "metadata": {
    "id": "hJfrLdtEIR9s"
   },
   "source": [
    "# Restart runtime"
   ]
  },
  {
   "cell_type": "markdown",
   "metadata": {
    "id": "0truD94Fb_Du"
   },
   "source": [
    "Since I first dabbled with natural language processing, I have had a special place in my heart for information extraction (IE) pipelines. Information extraction (IE) pipelines extract structured data from unstructured data like text. The internet provides an abundance of information in the form of various articles and other content formats. However, while you might read the news or subscribe to multiple podcasts, it is virtually impossible to keep track of all the new information released daily. Even if you could manually read all the latest reports and articles, it would be incredibly tedious and labor-intensive to structure the data so that you can easily query and aggregate it with your preferred tools. I definitely wouldn't want to be doing that as my job. Luckily, we can resort to using the latest state-of-the-art NLP techniques to do the information extraction for us automatically.\n",
    "\n",
    "# Developing IE pipeline in SpaCy\n",
    "There has been much development around [SpaCy](https://spacy.io/) in the last couple of weeks, so I decided to try out the new plugins and use them to construct an information extraction pipeline.\n",
    "\n",
    "## Coreference resolution\n",
    "First off, we are going to be using the new [Crosslingual Coreference](https://spacy.io/universe/project/crosslingualcoreference) model contributed by [David Berenstein](https://www.linkedin.com/in/david-berenstein-1bab11105/) to the SpaCy Universe. SpaCy Universe is a collection of open-source plugins or addons for SpaCy. The cool thing about the SpaCy universe project is that it's straightforward to add the models to our pipeline.\n",
    "\n",
    "## Relation extraction\n",
    "You might wonder why we skipped the named entity recognition and linking step. Well, the reason is that we will be using the [Rebel project](https://github.com/Babelscape/rebel) that recognizes both the entities and relations from the text. If I understand correctly, the Rebel project was developed by [Pere-Lluís Huguet Cabot](https://www.linkedin.com/in/perelluis/) as a part of his PhD study. Again, a massive shoutout to Pere for creating such an incredible library with state-of-the-art results for relation extraction. The Rebel model is available on Hugginface as well as in the form of SpaCy component.\n",
    "However, the model doesn't do any entity linking, so we will implement our version of entity linking. We will simply search for entities on WikiData by calling the search entities WikiData API.\n",
    "\n",
    "I've been looking at how to improve entity linking and stumbled upon the [ExtEnd project](https://github.com/SapienzaNLP/extend). ExtEnd project is a novel approach to entity disambiguation and is available as a demo on Huggingface as well as a SpaCy component. I've played around with it a bit and managed to get it working using WikiData API for candidates instead of the original AIDA candidates. However, when I wanted to have all three projects (Coref, Rebel, ExtEnd) in the same pipeline, there were some dependency issues as they use a different version of PyTorch, so I gave up for now. However, the ExtEnd code I developed is available on GitHub, and if someone wants to help me get it working, I am more than happy to accept Pull requests."
   ]
  },
  {
   "cell_type": "code",
   "execution_count": 2,
   "metadata": {
    "colab": {
     "base_uri": "https://localhost:8080/"
    },
    "execution": {
     "iopub.execute_input": "2022-09-28T02:09:55.203981Z",
     "iopub.status.busy": "2022-09-28T02:09:55.203981Z",
     "iopub.status.idle": "2022-09-28T02:09:56.691481Z",
     "shell.execute_reply": "2022-09-28T02:09:56.689981Z",
     "shell.execute_reply.started": "2022-09-28T02:09:55.203981Z"
    },
    "id": "BrcXpPzTSszu",
    "outputId": "4af118e9-57bc-4313-f930-9c2348d2f219"
   },
   "outputs": [
    {
     "name": "stderr",
     "output_type": "stream",
     "text": [
      "C:\\Users\\GCM\\anaconda3\\envs\\LIT\\lib\\site-packages\\tqdm\\auto.py:22: TqdmWarning: IProgress not found. Please update jupyter and ipywidgets. See https://ipywidgets.readthedocs.io/en/stable/user_install.html\n",
      "  from .autonotebook import tqdm as notebook_tqdm\n"
     ]
    },
    {
     "ename": "ModuleNotFoundError",
     "evalue": "No module named 'crosslingual_coreference'",
     "output_type": "error",
     "traceback": [
      "\u001b[1;31m---------------------------------------------------------------------------\u001b[0m",
      "\u001b[1;31mModuleNotFoundError\u001b[0m                       Traceback (most recent call last)",
      "\u001b[1;32m~\\AppData\\Local\\Temp\\ipykernel_20332\\1189511377.py\u001b[0m in \u001b[0;36m<module>\u001b[1;34m\u001b[0m\n\u001b[0;32m      1\u001b[0m \u001b[1;32mimport\u001b[0m \u001b[0mspacy\u001b[0m\u001b[1;33m\u001b[0m\u001b[1;33m\u001b[0m\u001b[0m\n\u001b[1;32m----> 2\u001b[1;33m \u001b[1;32mimport\u001b[0m \u001b[0mcrosslingual_coreference\u001b[0m\u001b[1;33m\u001b[0m\u001b[1;33m\u001b[0m\u001b[0m\n\u001b[0m",
      "\u001b[1;31mModuleNotFoundError\u001b[0m: No module named 'crosslingual_coreference'"
     ]
    }
   ],
   "source": [
    "import spacy\n",
    "import crosslingual_coreference"
   ]
  },
  {
   "cell_type": "markdown",
   "metadata": {
    "id": "PEWS7OiCcUxo"
   },
   "source": [
    "Ok, so for now, we won't be using the ExtEnd project but will use a simplified version of entity linking by simply taking the first candidate fetched from the WikiData API. The only thing we need to do is incorporate our simplified entity linking solution in the Rebel pipeline. Since the Rebel component is not available directly as a SpaCy Universe project, we must copy the component definition from their repository manually. I've taken the liberty to implement my version of the set_annotations function in the Rebel SpaCy component, while the rest of the code is the same as the original."
   ]
  },
  {
   "cell_type": "code",
   "execution_count": null,
   "metadata": {
    "execution": {
     "iopub.status.busy": "2022-09-28T02:09:56.692980Z",
     "iopub.status.idle": "2022-09-28T02:09:56.693480Z",
     "shell.execute_reply": "2022-09-28T02:09:56.692980Z",
     "shell.execute_reply.started": "2022-09-28T02:09:56.692980Z"
    },
    "id": "cGsgtd8lxhVo",
    "tags": []
   },
   "outputs": [],
   "source": [
    "# Add rebel component https://github.com/Babelscape/rebel/blob/main/spacy_component.py\n",
    "import requests\n",
    "import re\n",
    "import hashlib\n",
    "from spacy import Language\n",
    "from typing import List\n",
    "\n",
    "from spacy.tokens import Doc, Span\n",
    "\n",
    "from transformers import pipeline\n",
    "\n",
    "def call_wiki_api(item):\n",
    "    try:\n",
    "    url = f\"https://www.wikidata.org/w/api.php?action=wbsearchentities&search={item}&language=en&format=json\"\n",
    "    data = requests.get(url).json()\n",
    "    # Return the first id (Could upgrade this in the future)\n",
    "    return data['search'][0]['id']\n",
    "  except:\n",
    "    return 'id-less'\n",
    "\n",
    "def extract_triplets(text):\n",
    "    \"\"\"\n",
    "    Function to parse the generated text and extract the triplets\n",
    "    \"\"\"\n",
    "    triplets = []\n",
    "    relation, subject, relation, object_ = '', '', '', ''\n",
    "    text = text.strip()\n",
    "    current = 'x'\n",
    "    for token in text.replace(\"<s>\", \"\").replace(\"<pad>\", \"\").replace(\"</s>\", \"\").split():\n",
    "        if token == \"<triplet>\":\n",
    "            current = 't'\n",
    "            if relation != '':\n",
    "                triplets.append({'head': subject.strip(), 'type': relation.strip(),'tail': object_.strip()})\n",
    "                relation = ''\n",
    "            subject = ''\n",
    "        elif token == \"<subj>\":\n",
    "            current = 's'\n",
    "            if relation != '':\n",
    "                triplets.append({'head': subject.strip(), 'type': relation.strip(),'tail': object_.strip()})\n",
    "            object_ = ''\n",
    "        elif token == \"<obj>\":\n",
    "            current = 'o'\n",
    "            relation = ''\n",
    "        else:\n",
    "            if current == 't':\n",
    "                subject += ' ' + token\n",
    "            elif current == 's':\n",
    "                object_ += ' ' + token\n",
    "            elif current == 'o':\n",
    "                relation += ' ' + token\n",
    "    if subject != '' and relation != '' and object_ != '':\n",
    "        triplets.append({'head': subject.strip(), 'type': relation.strip(),'tail': object_.strip()})\n",
    "\n",
    "    return triplets\n",
    "\n",
    "\n",
    "@Language.factory(\n",
    "    \"rebel\",\n",
    "    requires=[\"doc.sents\"],\n",
    "    assigns=[\"doc._.rel\"],\n",
    "    default_config={\n",
    "        \"model_name\": \"Babelscape/rebel-large\",\n",
    "        \"device\": 0,\n",
    "    },\n",
    ")\n",
    "class RebelComponent:\n",
    "    def __init__(\n",
    "        self,\n",
    "        nlp,\n",
    "        name,\n",
    "        model_name: str,\n",
    "        device: int,\n",
    "    ):\n",
    "        assert model_name is not None, \"\"\n",
    "        self.triplet_extractor = pipeline(\"text2text-generation\", model=model_name, tokenizer=model_name, device=device)\n",
    "        self.entity_mapping = {}\n",
    "        # Register custom extension on the Doc\n",
    "        if not Doc.has_extension(\"rel\"):\n",
    "            Doc.set_extension(\"rel\", default={})\n",
    "\n",
    "    def get_wiki_id(self, item: str):\n",
    "        mapping = self.entity_mapping.get(item)\n",
    "        if mapping:\n",
    "            return mapping\n",
    "        else:\n",
    "            res = call_wiki_api(item)\n",
    "            self.entity_mapping[item] = res\n",
    "            return res\n",
    "\n",
    "    \n",
    "    def _generate_triplets(self, sent: Span) -> List[dict]:\n",
    "        output_ids = self.triplet_extractor(sent.text, return_tensors=True, return_text=False)[0][\"generated_token_ids\"][\"output_ids\"]\n",
    "        extracted_text = self.triplet_extractor.tokenizer.batch_decode(output_ids[0])\n",
    "        extracted_triplets = extract_triplets(extracted_text[0])\n",
    "        return extracted_triplets\n",
    "\n",
    "    def set_annotations(self, doc: Doc, triplets: List[dict]):\n",
    "        for triplet in triplets:\n",
    "\n",
    "            # Remove self-loops (relationships that start and end at the entity)\n",
    "            if triplet['head'] == triplet['tail']:\n",
    "                continue\n",
    "\n",
    "            # Use regex to search for entities\n",
    "            head_span = re.search(triplet[\"head\"], doc.text)\n",
    "            tail_span = re.search(triplet[\"tail\"], doc.text)\n",
    "\n",
    "            # Skip the relation if both head and tail entities are not present in the text\n",
    "            # Sometimes the Rebel model hallucinates some entities\n",
    "            if not head_span or not tail_span:\n",
    "                continue\n",
    "\n",
    "            index = hashlib.sha1(\"\".join([triplet['head'], triplet['tail'], triplet['type']]).encode('utf-8')).hexdigest()\n",
    "            if index not in doc._.rel:\n",
    "                # Get wiki ids and store results\n",
    "                doc._.rel[index] = {\"relation\": triplet[\"type\"], \"head_span\": {'text': triplet['head'], 'id': self.get_wiki_id(triplet['head'])}, \"tail_span\": {'text': triplet['tail'], 'id': self.get_wiki_id(triplet['tail'])}}\n",
    "\n",
    "    def __call__(self, doc: Doc) -> Doc:\n",
    "        for sent in doc.sents:\n",
    "            sentence_triplets = self._generate_triplets(sent)\n",
    "            self.set_annotations(doc, sentence_triplets)\n",
    "        return doc"
   ]
  },
  {
   "cell_type": "markdown",
   "metadata": {
    "id": "0U--nmKZcY7t"
   },
   "source": [
    "The set_annotations function handles how we store the results back to the SpaCy's Doc object. First, we ignore all the self-loops. Self-loops are relationships that start and end at the same entity. Next, we search for both the head and tail entities of the relation in the text using regex. I've noticed that the Rebel model sometimes hallucinates some entities which are not in the original text. For that reason, I added a step that verifies that both entities are actually in the text before appending them to the results.\n",
    "Lastly, we use the WikiData API to map extracted entities to WikiData ids. As mentioned, this is a simplified version of entity disambiguation and linking, and you can take a more novel approach like the ExtEnd model, for example.\n",
    "\n",
    "Now that the Rebel SpaCy component is defined, we can create a two SpaCy pipelines to handle coreference resolution as well as relation extraction and entity linking."
   ]
  },
  {
   "cell_type": "code",
   "execution_count": null,
   "metadata": {
    "colab": {
     "base_uri": "https://localhost:8080/"
    },
    "execution": {
     "iopub.status.busy": "2022-09-28T02:09:56.694481Z",
     "iopub.status.idle": "2022-09-28T02:09:56.694981Z",
     "shell.execute_reply": "2022-09-28T02:09:56.694981Z",
     "shell.execute_reply.started": "2022-09-28T02:09:56.694481Z"
    },
    "id": "SSTDfj3nSSca",
    "outputId": "0dbdbb3c-7a6c-46a3-8b9e-dc89f8af7486"
   },
   "outputs": [],
   "source": [
    "DEVICE = -1 # Number of the GPU, -1 if want to use CPU\n",
    "\n",
    "# Add coreference resolution model\n",
    "coref = spacy.load('en_core_web_sm', disable=['ner', 'tagger', 'parser', 'attribute_ruler', 'lemmatizer'])\n",
    "coref.add_pipe(\n",
    "    \"xx_coref\", config={\"chunk_size\": 2500, \"chunk_overlap\": 2, \"device\": DEVICE})\n",
    "\n",
    "# Define rel extraction model\n",
    "\n",
    "rel_ext = spacy.load('en_core_web_sm', disable=['ner', 'lemmatizer', 'attribute_rules', 'tagger'])\n",
    "rel_ext.add_pipe(\"rebel\", config={\n",
    "    'device':DEVICE, # Number of the GPU, -1 if want to use CPU\n",
    "    'model_name':'Babelscape/rebel-large'} # Model used, will default to 'Babelscape/rebel-large' if not given\n",
    "    )\n",
    "\n"
   ]
  },
  {
   "cell_type": "code",
   "execution_count": null,
   "metadata": {
    "colab": {
     "base_uri": "https://localhost:8080/"
    },
    "execution": {
     "iopub.status.busy": "2022-09-28T02:09:56.696483Z",
     "iopub.status.idle": "2022-09-28T02:09:56.696983Z",
     "shell.execute_reply": "2022-09-28T02:09:56.696983Z",
     "shell.execute_reply.started": "2022-09-28T02:09:56.696983Z"
    },
    "id": "-uEgInLc-X3n",
    "outputId": "4e788c98-1173-4b36-e085-6687845638a9"
   },
   "outputs": [],
   "source": [
    "input_text = \"Christian Drosten works in Germany. He likes to work for Google.\"\n",
    "\n",
    "coref_text = coref(input_text)._.resolved_text\n",
    "\n",
    "doc = rel_ext(coref_text)\n",
    "\n",
    "for value, rel_dict in doc._.rel.items():\n",
    "    print(f\"{value}: {rel_dict}\")"
   ]
  },
  {
   "cell_type": "markdown",
   "metadata": {
    "id": "ShXY3PF4cmLk"
   },
   "source": [
    "The Rebel model extracted two relations from the text. For example, it recognized that Christian Drosten, with the WikiData id Q1079331, is employed by Google, which has an id Q95.\n",
    "# Storing the information extraction pipeline results\n",
    "Whenever I hear about relation information between entities, I think of a graph. A graph database is developed to store relations between entities, so what better fit to store the information extraction pipeline results.\n",
    "As you might know, I am biased towards Neo4j, but you can use whatever tool you like. Here, I will demonstrate how to store the results of my implementation of the information extraction pipeline into Neo4j. We will process a couple of Wikipedia summaries of famous women scientists and store the results as a graph.\n",
    "If you want to follow with the code examples, I would suggest you to create a [Blank Project in Neo4j Sandbox](https://sandbox.neo4j.com/?usecase=blank-sandbox) environment. After you have created the Neo4j Sandbox instance, you can copy the credentials to the code."
   ]
  },
  {
   "cell_type": "code",
   "execution_count": null,
   "metadata": {
    "execution": {
     "iopub.status.busy": "2022-09-28T02:09:56.698483Z",
     "iopub.status.idle": "2022-09-28T02:09:56.698483Z",
     "shell.execute_reply": "2022-09-28T02:09:56.698483Z",
     "shell.execute_reply.started": "2022-09-28T02:09:56.698483Z"
    },
    "id": "4lYZUb-CefzH",
    "tags": []
   },
   "outputs": [],
   "source": [
    "import pandas as pd\n",
    "import wikipedia\n",
    "from neo4j import GraphDatabase\n",
    "\n",
    "# Define Neo4j connection\n",
    "host = 'bolt://3.236.134.179:7687'\n",
    "user = 'neo4j'\n",
    "password = 'writer-calibers-steels'\n",
    "driver = GraphDatabase.driver(host,auth=(user, password))\n",
    "\n",
    "import_query = \"\"\"\n",
    "UNWIND $data AS row\n",
    "MERGE (h:Entity {id: CASE WHEN NOT row.head_span.id = 'id-less' THEN row.head_span.id ELSE row.head_span.text END})\n",
    "ON CREATE SET h.text = row.head_span.text\n",
    "MERGE (t:Entity {id: CASE WHEN NOT row.tail_span.id = 'id-less' THEN row.tail_span.id ELSE row.tail_span.text END})\n",
    "ON CREATE SET t.text = row.tail_span.text\n",
    "WITH row, h, t\n",
    "CALL apoc.merge.relationship(h, toUpper(replace(row.relation,' ', '_')),\n",
    "  {},\n",
    "  {},\n",
    "  t,\n",
    "  {}\n",
    ")\n",
    "YIELD rel\n",
    "RETURN distinct 'done' AS result;\n",
    "\"\"\"\n",
    "\n",
    "\n",
    "def run_query(query, params={}):\n",
    "    with driver.session() as session:\n",
    "        result = session.run(query, params)\n",
    "        return pd.DataFrame([r.values() for r in result], columns=result.keys())\n",
    "\n",
    "def store_wikipedia_summary(page):\n",
    "    try:\n",
    "        input_text = wikipedia.page(page).summary\n",
    "        coref_text = coref(input_text)._.resolved_text\n",
    "        doc = rel_ext(coref_text)\n",
    "        params = [rel_dict for value, rel_dict in doc._.rel.items()]\n",
    "        run_query(import_query, {'data': params})\n",
    "    except Exception as e:\n",
    "        print(f\"Couldn't parse text for {page} due to {e}\")\n"
   ]
  },
  {
   "cell_type": "markdown",
   "metadata": {
    "id": "C-JNNxbTcrcz"
   },
   "source": [
    "We've used the wikipedia python library to help us fetch the summaries from Wikipedia. Next, we need to define the Cypher statement used to import the information extraction results. I won't go into details of Cypher syntax, but basically, we first merge the head and tail entities by their WikiData id and then use a procedure from the APOC library to merge the relationship. I recommend going through courses in the Neo4j Graph Academy if you are looking for resources to learn more about Cypher syntax.\n",
    "\n",
    "Now that we have everything ready, we can go ahead and parse a couple of Wikipedia summaries."
   ]
  },
  {
   "cell_type": "code",
   "execution_count": null,
   "metadata": {
    "colab": {
     "base_uri": "https://localhost:8080/"
    },
    "execution": {
     "iopub.status.busy": "2022-09-28T02:09:56.699982Z",
     "iopub.status.idle": "2022-09-28T02:09:56.700481Z",
     "shell.execute_reply": "2022-09-28T02:09:56.699982Z",
     "shell.execute_reply.started": "2022-09-28T02:09:56.699982Z"
    },
    "id": "nVD9mMgfXJ7Z",
    "outputId": "b91fc7ee-ff3a-4abf-d777-5dedad13e57d"
   },
   "outputs": [],
   "source": [
    "ladies = [\"Jennifer Doudna\", \"Rachel Carson\", \"Sara Seager OC\", \"Gertrude Elion\", \"Rita Levi-Montalcini\"]\n",
    "\n",
    "for l in ladies:\n",
    "    print(f\"Parsing {l}\")\n",
    "    store_wikipedia_summary(l)"
   ]
  },
  {
   "cell_type": "markdown",
   "metadata": {
    "id": "uwkDgt1Ecwxd"
   },
   "source": [
    "# Enriching the graph\n",
    "Since we have mapped our entities to the WikiData ids, we can further use the WikiData API to enrich our graph. I will show you how to extract INSTANCE_OF relations from WikiData and store them to Neo4j with the help of the APOC library, which allows us to call web APIs and store results in the database.\n",
    "To be able to call WikiData API, you need to have a basic understanding of SPARQL syntax, but that is beyond the scope of this blog post. However, I've written a [post some time about that shows more SPARQL queries used to enrich a Neo4j graph and delves into SPARQL syntax](https://towardsdatascience.com/lord-of-the-wiki-ring-importing-wikidata-into-neo4j-and-analyzing-family-trees-da27f64d675e).\n",
    "By executing the following query, we add the Class nodes to the graph and link them with the appropriate entities."
   ]
  },
  {
   "cell_type": "code",
   "execution_count": null,
   "metadata": {
    "colab": {
     "base_uri": "https://localhost:8080/",
     "height": 142
    },
    "execution": {
     "iopub.status.busy": "2022-09-28T02:09:56.701481Z",
     "iopub.status.idle": "2022-09-28T02:09:56.701481Z",
     "shell.execute_reply": "2022-09-28T02:09:56.701481Z",
     "shell.execute_reply.started": "2022-09-28T02:09:56.701481Z"
    },
    "id": "qk41QfxBmDRq",
    "outputId": "def62e81-2e10-4038-d71e-f0f46ccd1833"
   },
   "outputs": [],
   "source": [
    "run_query(\"\"\"\n",
    "CALL apoc.periodic.iterate(\"\n",
    "  MATCH (e:Entity)\n",
    "  WHERE e.id STARTS WITH 'Q'\n",
    "  RETURN e\n",
    "\",\"\n",
    "  // Prepare a SparQL query\n",
    "  WITH 'SELECT * WHERE{ ?item rdfs:label ?name . filter (?item = wd:' + e.id + ') filter (lang(?name) = \\\\\\\"en\\\\\\\") ' +\n",
    "     'OPTIONAL {?item wdt:P31 [rdfs:label ?label] .filter(lang(?label)=\\\\\\\"en\\\\\\\")}}' AS sparql, e\n",
    "  // make a request to Wikidata\n",
    "  CALL apoc.load.jsonParams(\n",
    "    'https://query.wikidata.org/sparql?query=' + \n",
    "      sparql,\n",
    "      { Accept: 'application/sparql-results+json'}, null)\n",
    "  YIELD value\n",
    "  UNWIND value['results']['bindings'] as row\n",
    "  SET e.wikipedia_name = row.name.value\n",
    "  WITH e, row.label.value AS label\n",
    "  MERGE (c:Class {id:label})\n",
    "  MERGE (e)-[:INSTANCE_OF]->(c)\n",
    "  RETURN distinct 'done'\", {batchSize:1, retry:1})\n",
    "\"\"\")"
   ]
  },
  {
   "cell_type": "markdown",
   "metadata": {
    "id": "wFiNO_f9c1d7"
   },
   "source": [
    "# Conclusion\n",
    "I really like what SpaCy is doing lately and all the open-source projects around it. I noticed that various open-source projects are primarily standalone, and it can be tricky to combine multiple models into a single SpaCy pipeline. For example, you can see that we had to have two pipelines in this project, one for coreference resolution and one for relation extraction and entity linking.\n",
    "\n",
    "As for the results of the IE pipeline, I am delighted with how well it turned out. As you can observe in the Rebel repository, their solution is state-of-the-art on many NLP datasets, so it is not a big surprise that the results are so good. The only weak link in my implementation is the Entity Linking step. As I said, it would probably greatly benefit from adding something like the ExtEnd library for more accurate entity disambiguation and linking. Perhaps that's something I'll do next time.\n",
    "\n",
    "Try out the IE implementation, and please let me know what you think or if you have some ideas for improvements. There are a ton of opportunities to make this pipeline better!"
   ]
  },
  {
   "cell_type": "code",
   "execution_count": null,
   "metadata": {
    "id": "XvdDiBgkodMU"
   },
   "outputs": [],
   "source": []
  }
 ],
 "metadata": {
  "accelerator": "GPU",
  "colab": {
   "authorship_tag": "ABX9TyMBWTg5N5Y3Uo6duje/bFUk",
   "include_colab_link": true,
   "name": "SpaCy-informationextraction.ipynb",
   "provenance": []
  },
  "kernelspec": {
   "display_name": "Python 3 (ipykernel)",
   "language": "python",
   "name": "python3"
  },
  "language_info": {
   "codemirror_mode": {
    "name": "ipython",
    "version": 3
   },
   "file_extension": ".py",
   "mimetype": "text/x-python",
   "name": "python",
   "nbconvert_exporter": "python",
   "pygments_lexer": "ipython3",
   "version": "3.7.13"
  }
 },
 "nbformat": 4,
 "nbformat_minor": 4
}
