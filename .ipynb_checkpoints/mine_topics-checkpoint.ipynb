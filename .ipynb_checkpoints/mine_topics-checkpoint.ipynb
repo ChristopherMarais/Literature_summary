{
 "cells": [
  {
   "cell_type": "code",
   "execution_count": 1,
   "id": "d3de1ea6-b02d-4b9f-a69c-e4caa950f5e3",
   "metadata": {
    "execution": {
     "iopub.execute_input": "2022-09-26T23:39:39.504709Z",
     "iopub.status.busy": "2022-09-26T23:39:39.504211Z",
     "iopub.status.idle": "2022-09-26T23:39:39.947757Z",
     "shell.execute_reply": "2022-09-26T23:39:39.947256Z",
     "shell.execute_reply.started": "2022-09-26T23:39:39.504211Z"
    }
   },
   "outputs": [],
   "source": [
    "import pandas as pd"
   ]
  },
  {
   "cell_type": "code",
   "execution_count": 2,
   "id": "09cb4c7d-8fca-4286-8951-016d62c7a273",
   "metadata": {
    "execution": {
     "iopub.execute_input": "2022-09-26T23:39:39.948756Z",
     "iopub.status.busy": "2022-09-26T23:39:39.948259Z",
     "iopub.status.idle": "2022-09-26T23:39:40.939757Z",
     "shell.execute_reply": "2022-09-26T23:39:40.939256Z",
     "shell.execute_reply.started": "2022-09-26T23:39:39.948756Z"
    }
   },
   "outputs": [],
   "source": [
    "# import data\n",
    "data_df = pd.read_csv('E:\\\\GIT_REPOS\\\\LAB\\\\Literature_summary\\\\Papers\\\\scopus_bark_ambrosia_beetles.csv')\n",
    "data_df.columns"
   ]
  },
  {
   "cell_type": "code",
   "execution_count": 8,
   "id": "d29464db-6876-4375-803c-14b1f16b06fb",
   "metadata": {
    "execution": {
     "iopub.execute_input": "2022-09-26T23:41:20.084051Z",
     "iopub.status.busy": "2022-09-26T23:41:20.083551Z",
     "iopub.status.idle": "2022-09-26T23:41:20.106052Z",
     "shell.execute_reply": "2022-09-26T23:41:20.105051Z",
     "shell.execute_reply.started": "2022-09-26T23:41:20.084051Z"
    },
    "tags": []
   },
   "outputs": [
    {
     "data": {
      "text/plain": [
       "0       Scolytinae species that, in high populations, ...\n",
       "1       Bamboo (Bambusa sp.) is a grass species with h...\n",
       "2       Background: Biological invasions are responsib...\n",
       "3       Background: Fungi associated with insects repr...\n",
       "4       Background: Separation of biotic and abiotic i...\n",
       "                              ...                        \n",
       "3672    Background: Wood-feeding insects often work in...\n",
       "3673    Twig beetles in the genus Pityophthorus Eichho...\n",
       "3674    All 8237 species-group taxa of Coleoptera know...\n",
       "3675    In Australia, the bark beetle Ips grandicollis...\n",
       "3676    The taxonomic status of Thamnurgus rossicus wa...\n",
       "Name: Abstract, Length: 3677, dtype: object"
      ]
     },
     "execution_count": 8,
     "metadata": {},
     "output_type": "execute_result"
    }
   ],
   "source": [
    "data_df['Abstract']"
   ]
  },
  {
   "cell_type": "markdown",
   "id": "d300a885-b274-434d-9f74-93d39e8637f7",
   "metadata": {},
   "source": [
    "## Coreference resolution"
   ]
  },
  {
   "cell_type": "markdown",
   "id": "fc65beaa-78c1-4d16-adae-58d405ae2ee0",
   "metadata": {},
   "source": [
    "## Named Entity Linking"
   ]
  },
  {
   "cell_type": "markdown",
   "id": "2edf1e88-3be0-454d-b8df-b097673edbc1",
   "metadata": {},
   "source": [
    "## Relationship extraction"
   ]
  },
  {
   "cell_type": "markdown",
   "id": "de35aca1-8989-4f30-a2da-8afcb5c247c8",
   "metadata": {},
   "source": [
    "## Knowledge graph"
   ]
  },
  {
   "cell_type": "markdown",
   "id": "6f1072e5-f9f4-49b8-9aec-584a7bb5cf81",
   "metadata": {},
   "source": []
  }
 ],
 "metadata": {
  "kernelspec": {
   "display_name": "Python 3 (ipykernel)",
   "language": "python",
   "name": "python3"
  },
  "language_info": {
   "codemirror_mode": {
    "name": "ipython",
    "version": 3
   },
   "file_extension": ".py",
   "mimetype": "text/x-python",
   "name": "python",
   "nbconvert_exporter": "python",
   "pygments_lexer": "ipython3",
   "version": "3.9.13"
  }
 },
 "nbformat": 4,
 "nbformat_minor": 5
}
