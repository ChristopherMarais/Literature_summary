{
 "cells": [
  {
   "cell_type": "code",
   "execution_count": 1,
   "id": "c114b7ef-db63-40aa-a5b7-5bf93eb09377",
   "metadata": {
    "execution": {
     "iopub.execute_input": "2022-09-26T23:37:43.568925Z",
     "iopub.status.busy": "2022-09-26T23:37:43.568424Z",
     "iopub.status.idle": "2022-09-26T23:37:44.022696Z",
     "shell.execute_reply": "2022-09-26T23:37:44.021697Z",
     "shell.execute_reply.started": "2022-09-26T23:37:43.568424Z"
    }
   },
   "outputs": [],
   "source": [
    "import pandas as pd\n",
    "import csv"
   ]
  },
  {
   "cell_type": "code",
   "execution_count": null,
   "id": "ef245616-7252-454a-8e15-616f68f9c006",
   "metadata": {
    "execution": {
     "iopub.execute_input": "2022-09-26T23:37:44.024195Z",
     "iopub.status.busy": "2022-09-26T23:37:44.023696Z"
    },
    "tags": []
   },
   "outputs": [],
   "source": [
    "csv.field_size_limit(100000000)\n",
    "ldf = pd.read_csv('E:\\\\GIT_REPOS\\\\LAB\\\\Literature_summary\\\\Papers\\\\scopus_latest.csv', engine='python', error_bad_lines=False)\n",
    "rdf = pd.read_csv('E:\\\\GIT_REPOS\\\\LAB\\\\Literature_summary\\\\Papers\\\\scopus_earliest.csv', engine='python', error_bad_lines=False)\n",
    "\n",
    "df = pd.concat([ldf , rdf])\n",
    "df = df.drop_duplicates()\n",
    "\n",
    "df.to_csv(\"E:\\\\GIT_REPOS\\\\LAB\\\\Literature_summary\\\\Papers\\\\scopus_bark_ambrosia_beetles.csv\")"
   ]
  }
 ],
 "metadata": {
  "kernelspec": {
   "display_name": "Python 3 (ipykernel)",
   "language": "python",
   "name": "python3"
  },
  "language_info": {
   "codemirror_mode": {
    "name": "ipython",
    "version": 3
   },
   "file_extension": ".py",
   "mimetype": "text/x-python",
   "name": "python",
   "nbconvert_exporter": "python",
   "pygments_lexer": "ipython3",
   "version": "3.9.13"
  }
 },
 "nbformat": 4,
 "nbformat_minor": 5
}
