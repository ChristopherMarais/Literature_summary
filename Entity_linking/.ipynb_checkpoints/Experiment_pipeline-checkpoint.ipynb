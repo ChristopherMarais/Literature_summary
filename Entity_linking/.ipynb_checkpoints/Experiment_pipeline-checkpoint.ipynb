{
 "cells": [
  {
   "cell_type": "code",
   "execution_count": 2,
   "id": "f0062c3b-6783-4fa8-b754-403d2f7300f0",
   "metadata": {
    "execution": {
     "iopub.execute_input": "2022-09-29T00:00:14.193761Z",
     "iopub.status.busy": "2022-09-29T00:00:14.193761Z",
     "iopub.status.idle": "2022-09-29T00:00:16.647916Z",
     "shell.execute_reply": "2022-09-29T00:00:16.646915Z",
     "shell.execute_reply.started": "2022-09-29T00:00:14.193761Z"
    },
    "tags": []
   },
   "outputs": [],
   "source": [
    "import spacy\n",
    "import coreferee\n",
    "import pandas as pd"
   ]
  },
  {
   "cell_type": "code",
   "execution_count": 3,
   "id": "9bfdde71-61ba-4f7a-ab38-33c01e6d3351",
   "metadata": {
    "execution": {
     "iopub.execute_input": "2022-09-29T00:00:55.724920Z",
     "iopub.status.busy": "2022-09-29T00:00:55.723924Z",
     "iopub.status.idle": "2022-09-29T00:00:55.867904Z",
     "shell.execute_reply": "2022-09-29T00:00:55.865906Z",
     "shell.execute_reply.started": "2022-09-29T00:00:55.724920Z"
    }
   },
   "outputs": [
    {
     "ename": "NameError",
     "evalue": "name 'nlp_model_en' is not defined",
     "output_type": "error",
     "traceback": [
      "\u001b[1;31m---------------------------------------------------------------------------\u001b[0m",
      "\u001b[1;31mNameError\u001b[0m                                 Traceback (most recent call last)",
      "\u001b[1;32m~\\AppData\\Local\\Temp\\ipykernel_21372\\758687075.py\u001b[0m in \u001b[0;36m<module>\u001b[1;34m\u001b[0m\n\u001b[1;32m----> 1\u001b[1;33m \u001b[0mnlp_model_en\u001b[0m\u001b[1;33m.\u001b[0m\u001b[0madd_pipe\u001b[0m\u001b[1;33m(\u001b[0m\u001b[1;34m\"entityfishing\"\u001b[0m\u001b[1;33m)\u001b[0m\u001b[1;33m\u001b[0m\u001b[1;33m\u001b[0m\u001b[0m\n\u001b[0m\u001b[0;32m      2\u001b[0m \u001b[0mnlp\u001b[0m \u001b[1;33m=\u001b[0m \u001b[0mspacy\u001b[0m\u001b[1;33m.\u001b[0m\u001b[0mload\u001b[0m\u001b[1;33m(\u001b[0m\u001b[1;34m'en_core_web_trf'\u001b[0m\u001b[1;33m)\u001b[0m\u001b[1;33m\u001b[0m\u001b[1;33m\u001b[0m\u001b[0m\n",
      "\u001b[1;31mNameError\u001b[0m: name 'nlp_model_en' is not defined"
     ]
    }
   ],
   "source": [
    "\n",
    "# nlp_model_en.add_pipe(\"entityfishing\")\n",
    "nlp = spacy.load('en_core_web_trf')\n",
    "nlp.add_pipe('coreferee')"
   ]
  },
  {
   "cell_type": "code",
   "execution_count": 1,
   "id": "2d158970-bfd1-4c0f-86f5-9f9ef9ea09a0",
   "metadata": {
    "execution": {
     "iopub.execute_input": "2022-09-28T23:57:18.686348Z",
     "iopub.status.busy": "2022-09-28T23:57:18.686348Z",
     "iopub.status.idle": "2022-09-28T23:57:18.703374Z",
     "shell.execute_reply": "2022-09-28T23:57:18.701358Z",
     "shell.execute_reply.started": "2022-09-28T23:57:18.686348Z"
    },
    "tags": []
   },
   "outputs": [],
   "source": [
    "# # Load your usual SpaCy model (one of SpaCy English models)\n",
    "# import spacy\n",
    "# nlp = spacy.load('en_core_web_sm') #spacy.load('en')\n",
    "\n",
    "# # load NeuralCoref and add it to the pipe of SpaCy's model\n",
    "# import neuralcoref\n",
    "# coref = neuralcoref.NeuralCoref(nlp.vocab)\n",
    "# nlp.add_pipe(coref, name='neuralcoref')\n"
   ]
  },
  {
   "cell_type": "code",
   "execution_count": null,
   "id": "3b0620a2-ab81-4488-bb23-f8790ea56f9c",
   "metadata": {
    "execution": {
     "iopub.status.busy": "2022-09-28T23:52:43.680209Z",
     "iopub.status.idle": "2022-09-28T23:52:43.680209Z",
     "shell.execute_reply": "2022-09-28T23:52:43.680209Z",
     "shell.execute_reply.started": "2022-09-28T23:52:43.680209Z"
    },
    "tags": []
   },
   "outputs": [],
   "source": [
    "# import data\n",
    "data_df = pd.read_csv('C:\\\\Users\\\\gcmar\\\\Desktop\\\\GIT_REPOS\\\\LAB\\\\Literature_summary\\\\Papers\\\\scopus_bark_ambrosia_beetles.csv')\n",
    "data_df.columns"
   ]
  },
  {
   "cell_type": "code",
   "execution_count": null,
   "id": "baba3352-e1d6-4b67-812a-c52fdd7ff6ad",
   "metadata": {
    "execution": {
     "iopub.status.busy": "2022-09-28T23:52:43.682199Z",
     "iopub.status.idle": "2022-09-28T23:52:43.682199Z",
     "shell.execute_reply": "2022-09-28T23:52:43.682199Z",
     "shell.execute_reply.started": "2022-09-28T23:52:43.682199Z"
    },
    "tags": []
   },
   "outputs": [],
   "source": [
    "def coref_res(text_series):\n",
    "    coref_text_series = text_series.apply(lambda text : nlp(text)._.coref_resolved)\n",
    "    return(coref_text_series)"
   ]
  },
  {
   "cell_type": "code",
   "execution_count": null,
   "id": "59884505-977e-478f-bc71-d1130c4be1cd",
   "metadata": {
    "execution": {
     "iopub.status.busy": "2022-09-28T23:52:43.684196Z",
     "iopub.status.idle": "2022-09-28T23:52:43.684196Z",
     "shell.execute_reply": "2022-09-28T23:52:43.684196Z",
     "shell.execute_reply.started": "2022-09-28T23:52:43.684196Z"
    },
    "tags": []
   },
   "outputs": [],
   "source": [
    "coref_df = pd.DataFrame(coref_res(text_series=data_df[\"Abstract\"][:10]))"
   ]
  },
  {
   "cell_type": "code",
   "execution_count": null,
   "id": "eb0041b0-3739-49d3-ad63-0d02a696026c",
   "metadata": {
    "execution": {
     "iopub.status.busy": "2022-09-28T23:52:43.686208Z",
     "iopub.status.idle": "2022-09-28T23:52:43.687208Z",
     "shell.execute_reply": "2022-09-28T23:52:43.687208Z",
     "shell.execute_reply.started": "2022-09-28T23:52:43.687208Z"
    },
    "tags": []
   },
   "outputs": [],
   "source": [
    "coref_df"
   ]
  },
  {
   "cell_type": "code",
   "execution_count": null,
   "id": "6b094cb3-ee29-40e7-90a2-83ed88d52d88",
   "metadata": {},
   "outputs": [],
   "source": []
  },
  {
   "cell_type": "code",
   "execution_count": null,
   "id": "9e317fb2-68a1-4d27-842d-78298f4980a5",
   "metadata": {},
   "outputs": [],
   "source": []
  }
 ],
 "metadata": {
  "kernelspec": {
   "display_name": "Python 3 (ipykernel)",
   "language": "python",
   "name": "python3"
  },
  "language_info": {
   "codemirror_mode": {
    "name": "ipython",
    "version": 3
   },
   "file_extension": ".py",
   "mimetype": "text/x-python",
   "name": "python",
   "nbconvert_exporter": "python",
   "pygments_lexer": "ipython3",
   "version": "3.7.13"
  }
 },
 "nbformat": 4,
 "nbformat_minor": 5
}
