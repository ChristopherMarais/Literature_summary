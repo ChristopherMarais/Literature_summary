{
 "cells": [
  {
   "cell_type": "markdown",
   "id": "b4227ea0-4f31-48a8-b1f6-4361be4983bd",
   "metadata": {},
   "source": [
    "## Install packages"
   ]
  },
  {
   "cell_type": "code",
   "execution_count": 1,
   "id": "32c6c104-81b1-44d5-9960-10323d3cd54c",
   "metadata": {
    "execution": {
     "iopub.execute_input": "2022-09-29T16:58:24.180962Z",
     "iopub.status.busy": "2022-09-29T16:58:24.180962Z",
     "iopub.status.idle": "2022-09-29T16:58:24.200461Z",
     "shell.execute_reply": "2022-09-29T16:58:24.198960Z",
     "shell.execute_reply.started": "2022-09-29T16:58:24.180962Z"
    }
   },
   "outputs": [],
   "source": [
    "# # install packages in following order\n",
    "# !pip install pandas\n",
    "# !pip install spacy\n",
    "# !python -m spacy download en_core_web_trf\n",
    "# !python -m spacy download en_core_web_sm\n",
    "# !pip install crosslingual-coreference\n",
    "# !pip install ipywidgets\n",
    "# !pip uninstall torch\n",
    "# !conda install pytorch torchvision torchaudio cudatoolkit=11.6 -c pytorch -c conda-forge\n",
    "# !pip install spacyfishing"
   ]
  },
  {
   "cell_type": "code",
   "execution_count": 2,
   "id": "f0062c3b-6783-4fa8-b754-403d2f7300f0",
   "metadata": {
    "execution": {
     "iopub.execute_input": "2022-09-29T16:58:24.203460Z",
     "iopub.status.busy": "2022-09-29T16:58:24.203460Z",
     "iopub.status.idle": "2022-09-29T16:58:29.172584Z",
     "shell.execute_reply": "2022-09-29T16:58:29.172082Z",
     "shell.execute_reply.started": "2022-09-29T16:58:24.203460Z"
    },
    "tags": []
   },
   "outputs": [
    {
     "name": "stderr",
     "output_type": "stream",
     "text": [
      "[nltk_data] Downloading package omw-1.4 to\n",
      "[nltk_data]     C:\\Users\\GCM\\AppData\\Roaming\\nltk_data...\n",
      "[nltk_data]   Package omw-1.4 is already up-to-date!\n"
     ]
    }
   ],
   "source": [
    "import spacy\n",
    "import crosslingual_coreference\n",
    "import pandas as pd"
   ]
  },
  {
   "cell_type": "markdown",
   "id": "467dc40a-1959-45de-922c-4d2b1c803984",
   "metadata": {},
   "source": [
    "## Import Data"
   ]
  },
  {
   "cell_type": "markdown",
   "id": "ba36aa5a-8654-4de7-9c84-5eb9234bef90",
   "metadata": {},
   "source": [
    "Data was obtained by exporting a csv from scopus. This includes abstracts of all articles."
   ]
  },
  {
   "cell_type": "code",
   "execution_count": 3,
   "id": "3b0620a2-ab81-4488-bb23-f8790ea56f9c",
   "metadata": {
    "execution": {
     "iopub.execute_input": "2022-09-29T16:58:29.174583Z",
     "iopub.status.busy": "2022-09-29T16:58:29.174084Z",
     "iopub.status.idle": "2022-09-29T16:58:29.901583Z",
     "shell.execute_reply": "2022-09-29T16:58:29.900582Z",
     "shell.execute_reply.started": "2022-09-29T16:58:29.174084Z"
    },
    "tags": []
   },
   "outputs": [],
   "source": [
    "# import data\n",
    "data_df = pd.read_csv('E:\\GIT_REPOS\\LAB\\Literature_summary\\Papers\\\\scopus_bark_ambrosia_beetles.csv')"
   ]
  },
  {
   "cell_type": "markdown",
   "id": "979d53a2-1b4b-4894-b9a8-2d7332fde82f",
   "metadata": {},
   "source": [
    "## Coreference resolution"
   ]
  },
  {
   "cell_type": "code",
   "execution_count": 4,
   "id": "ef2355e9-b9f1-4fa5-b23c-835a58e6149a",
   "metadata": {
    "execution": {
     "iopub.execute_input": "2022-09-29T16:58:29.903083Z",
     "iopub.status.busy": "2022-09-29T16:58:29.902584Z",
     "iopub.status.idle": "2022-09-29T16:58:50.351530Z",
     "shell.execute_reply": "2022-09-29T16:58:50.350527Z",
     "shell.execute_reply.started": "2022-09-29T16:58:29.903083Z"
    },
    "tags": []
   },
   "outputs": [
    {
     "name": "stderr",
     "output_type": "stream",
     "text": [
      "error loading _jsonnet (this is expected on Windows), treating C:\\Users\\GCM\\AppData\\Local\\Temp\\tmpr2dr5je7\\config.json as plain json\n",
      "Some weights of the model checkpoint at nreimers/mMiniLMv2-L12-H384-distilled-from-XLMR-Large were not used when initializing XLMRobertaModel: ['lm_head.bias', 'lm_head.dense.weight', 'lm_head.layer_norm.weight', 'lm_head.dense.bias', 'lm_head.layer_norm.bias']\n",
      "- This IS expected if you are initializing XLMRobertaModel from the checkpoint of a model trained on another task or with another architecture (e.g. initializing a BertForSequenceClassification model from a BertForPreTraining model).\n",
      "- This IS NOT expected if you are initializing XLMRobertaModel from the checkpoint of a model that you expect to be exactly identical (initializing a BertForSequenceClassification model from a BertForSequenceClassification model).\n",
      "Some weights of XLMRobertaModel were not initialized from the model checkpoint at nreimers/mMiniLMv2-L12-H384-distilled-from-XLMR-Large and are newly initialized: ['roberta.pooler.dense.weight', 'roberta.pooler.dense.bias']\n",
      "You should probably TRAIN this model on a down-stream task to be able to use it for predictions and inference.\n"
     ]
    }
   ],
   "source": [
    "# crosslingual_coreference implementation\n",
    "nlp = spacy.load('en_core_web_trf')\n",
    "nlp.add_pipe(\"xx_coref\", config={\"chunk_size\": 2500, \"chunk_overlap\": 2, \"device\": 0})\n",
    "\n",
    "def coref_res(text_series):\n",
    "    coref_text_series = text_series.apply(lambda x : nlp(x)._.resolved_text)\n",
    "    return(coref_text_series)\n",
    "\n",
    "# # choose minilm for speed/memory and info_xlm for accuracy\n",
    "# predictor = Predictor(\n",
    "#     language=\"en_core_web_sm\", device=-1, model_name=\"minilm\"\n",
    "# )"
   ]
  },
  {
   "cell_type": "code",
   "execution_count": 5,
   "id": "59884505-977e-478f-bc71-d1130c4be1cd",
   "metadata": {
    "execution": {
     "iopub.execute_input": "2022-09-29T16:58:50.353029Z",
     "iopub.status.busy": "2022-09-29T16:58:50.352530Z",
     "iopub.status.idle": "2022-09-29T16:59:45.361028Z",
     "shell.execute_reply": "2022-09-29T16:59:45.360032Z",
     "shell.execute_reply.started": "2022-09-29T16:58:50.353029Z"
    },
    "tags": []
   },
   "outputs": [],
   "source": [
    "coref_df = pd.DataFrame(coref_res(text_series=data_df[\"Abstract\"][:10]))"
   ]
  },
  {
   "cell_type": "markdown",
   "id": "f500a959-122e-47f0-ab37-32c20a0a3636",
   "metadata": {},
   "source": [
    "## Entity labelling"
   ]
  },
  {
   "cell_type": "code",
   "execution_count": 6,
   "id": "c9f7f9d9-8f4a-4dc3-87df-b4af1bfe67fa",
   "metadata": {
    "execution": {
     "iopub.execute_input": "2022-09-29T16:59:45.363029Z",
     "iopub.status.busy": "2022-09-29T16:59:45.362528Z",
     "iopub.status.idle": "2022-09-29T16:59:48.275029Z",
     "shell.execute_reply": "2022-09-29T16:59:48.274027Z",
     "shell.execute_reply.started": "2022-09-29T16:59:45.362528Z"
    },
    "tags": []
   },
   "outputs": [],
   "source": [
    "nlp_model_en = spacy.load(\"en_core_web_trf\")\n",
    "nlp_model_en.add_pipe(\"entityfishing\")\n",
    "\n",
    "def link_entities_text(text):\n",
    "    text_entities = nlp_model_en(text)\n",
    "    entity_df = pd.DataFrame()\n",
    "    text_lst = []\n",
    "    label_lst = []\n",
    "    kb_qid_lst = []\n",
    "    url_wikidata = []\n",
    "    nerd_score = []\n",
    "    for entity in text_entities.ents:\n",
    "        text_lst.append(entity.text)\n",
    "        label_lst.append(entity.label_)\n",
    "        kb_qid_lst.append(entity._.kb_qid)\n",
    "        url_wikidata.append(entity._.url_wikidata)\n",
    "        nerd_score.append(entity._.nerd_score)\n",
    "    entity_df['text'] = text_lst\n",
    "    entity_df['label'] = label_lst\n",
    "    entity_df['kb_qid'] = kb_qid_lst\n",
    "    entity_df['url_wikidata'] = url_wikidata\n",
    "    entity_df['nerd_score'] = nerd_score\n",
    "    return(entity_df)\n",
    "\n",
    "def link_entities(text_series):\n",
    "    entity_df_series = text_series.apply(lambda x : link_entities_text(x))\n",
    "    return(entity_df_series)"
   ]
  },
  {
   "cell_type": "code",
   "execution_count": 7,
   "id": "eb0041b0-3739-49d3-ad63-0d02a696026c",
   "metadata": {
    "execution": {
     "iopub.execute_input": "2022-09-29T16:59:48.278032Z",
     "iopub.status.busy": "2022-09-29T16:59:48.277530Z",
     "iopub.status.idle": "2022-09-29T17:00:09.925452Z",
     "shell.execute_reply": "2022-09-29T17:00:09.924451Z",
     "shell.execute_reply.started": "2022-09-29T16:59:48.277530Z"
    },
    "tags": []
   },
   "outputs": [],
   "source": [
    "entity_df_lst = link_entities(text_series = coref_df['Abstract']).tolist()\n",
    "all_entities_df = pd.concat(entity_df_lst).reset_index(drop=True)"
   ]
  },
  {
   "cell_type": "code",
   "execution_count": 8,
   "id": "ed6c3595-b391-42cf-a198-f1a917fa81b9",
   "metadata": {
    "execution": {
     "iopub.execute_input": "2022-09-29T17:00:09.926454Z",
     "iopub.status.busy": "2022-09-29T17:00:09.926454Z",
     "iopub.status.idle": "2022-09-29T17:00:09.941955Z",
     "shell.execute_reply": "2022-09-29T17:00:09.939959Z",
     "shell.execute_reply.started": "2022-09-29T17:00:09.926454Z"
    },
    "tags": []
   },
   "outputs": [],
   "source": [
    "# clean entities\n",
    "all_entities_df.sort_values(by='nerd_score',ascending=False, inplace=True)\n",
    "all_entities_df = all_entities_df[all_entities_df['kb_qid'].notna()].reset_index(drop=True)"
   ]
  },
  {
   "cell_type": "code",
   "execution_count": 9,
   "id": "397a24ca-c2bd-4dcb-92e3-2534e8cbf0e5",
   "metadata": {
    "execution": {
     "iopub.execute_input": "2022-09-29T17:00:09.944954Z",
     "iopub.status.busy": "2022-09-29T17:00:09.944453Z",
     "iopub.status.idle": "2022-09-29T17:00:10.389498Z",
     "shell.execute_reply": "2022-09-29T17:00:10.388497Z",
     "shell.execute_reply.started": "2022-09-29T17:00:09.944954Z"
    },
    "tags": []
   },
   "outputs": [
    {
     "data": {
      "text/plain": [
       "array(['GPE', 'ORG', 'LOC', 'NORP', 'DATE', 'CARDINAL'], dtype=object)"
      ]
     },
     "execution_count": 9,
     "metadata": {},
     "output_type": "execute_result"
    }
   ],
   "source": [
    "all_entities_df['label'].unique()"
   ]
  },
  {
   "cell_type": "code",
   "execution_count": 21,
   "id": "eca55a3b-7ff3-4b98-9a0d-351ae22f84a9",
   "metadata": {
    "execution": {
     "iopub.execute_input": "2022-09-29T17:05:49.361196Z",
     "iopub.status.busy": "2022-09-29T17:05:49.360695Z",
     "iopub.status.idle": "2022-09-29T17:05:49.382697Z",
     "shell.execute_reply": "2022-09-29T17:05:49.381194Z",
     "shell.execute_reply.started": "2022-09-29T17:05:49.360695Z"
    },
    "tags": []
   },
   "outputs": [],
   "source": [
    "count_entities_df = all_entities_df[['kb_qid', 'text', 'label', 'url_wikidata']]\n",
    "count_entities_df['count'] = 1\n",
    "count_entities_df = count_entities_df.groupby(['kb_qid', 'text', 'label', 'url_wikidata'], as_index=False).count()\n",
    "count_entities_df = count_entities_df.sort_values('count', ascending=False).reset_index(drop=True)"
   ]
  },
  {
   "cell_type": "code",
   "execution_count": 22,
   "id": "427eea9f-8162-4bb9-a0a0-33e8e84c1dbb",
   "metadata": {
    "execution": {
     "iopub.execute_input": "2022-09-29T17:05:50.150372Z",
     "iopub.status.busy": "2022-09-29T17:05:50.149869Z",
     "iopub.status.idle": "2022-09-29T17:05:50.308868Z",
     "shell.execute_reply": "2022-09-29T17:05:50.307867Z",
     "shell.execute_reply.started": "2022-09-29T17:05:50.150372Z"
    },
    "tags": []
   },
   "outputs": [
    {
     "data": {
      "text/plain": [
       "<AxesSubplot: >"
      ]
     },
     "execution_count": 22,
     "metadata": {},
     "output_type": "execute_result"
    },
    {
     "data": {
      "image/png": "[encoded data removed]",
      "text/plain": [
       "<Figure size 640x480 with 1 Axes>"
      ]
     },
     "metadata": {},
     "output_type": "display_data"
    }
   ],
   "source": [
    "count_entities_df['count'].hist()"
   ]
  },
  {
   "cell_type": "code",
   "execution_count": 24,
   "id": "4571cfd5-08f5-4387-905c-b9a6d9c8941b",
   "metadata": {
    "execution": {
     "iopub.execute_input": "2022-09-29T17:06:03.314552Z",
     "iopub.status.busy": "2022-09-29T17:06:03.314050Z",
     "iopub.status.idle": "2022-09-29T17:06:03.340050Z",
     "shell.execute_reply": "2022-09-29T17:06:03.339050Z",
     "shell.execute_reply.started": "2022-09-29T17:06:03.314552Z"
    },
    "tags": []
   },
   "outputs": [
    {
     "data": {
      "text/html": [
       "<div>\n",
       "<style scoped>\n",
       "    .dataframe tbody tr th:only-of-type {\n",
       "        vertical-align: middle;\n",
       "    }\n",
       "\n",
       "    .dataframe tbody tr th {\n",
       "        vertical-align: top;\n",
       "    }\n",
       "\n",
       "    .dataframe thead th {\n",
       "        text-align: right;\n",
       "    }\n",
       "</style>\n",
       "<table border=\"1\" class=\"dataframe\">\n",
       "  <thead>\n",
       "    <tr style=\"text-align: right;\">\n",
       "      <th></th>\n",
       "      <th>kb_qid</th>\n",
       "      <th>text</th>\n",
       "      <th>label</th>\n",
       "      <th>url_wikidata</th>\n",
       "      <th>count</th>\n",
       "    </tr>\n",
       "  </thead>\n",
       "  <tbody>\n",
       "    <tr>\n",
       "      <th>0</th>\n",
       "      <td>Q148</td>\n",
       "      <td>China</td>\n",
       "      <td>GPE</td>\n",
       "      <td>https://www.wikidata.org/wiki/Q148</td>\n",
       "      <td>4</td>\n",
       "    </tr>\n",
       "    <tr>\n",
       "      <th>1</th>\n",
       "      <td>Q42824</td>\n",
       "      <td>Mato Grosso</td>\n",
       "      <td>GPE</td>\n",
       "      <td>https://www.wikidata.org/wiki/Q42824</td>\n",
       "      <td>1</td>\n",
       "    </tr>\n",
       "    <tr>\n",
       "      <th>2</th>\n",
       "      <td>Q7850</td>\n",
       "      <td>Chinese</td>\n",
       "      <td>NORP</td>\n",
       "      <td>https://www.wikidata.org/wiki/Q7850</td>\n",
       "      <td>1</td>\n",
       "    </tr>\n",
       "    <tr>\n",
       "      <th>3</th>\n",
       "      <td>Q746413</td>\n",
       "      <td>Elsevier B.V.</td>\n",
       "      <td>ORG</td>\n",
       "      <td>https://www.wikidata.org/wiki/Q746413</td>\n",
       "      <td>1</td>\n",
       "    </tr>\n",
       "    <tr>\n",
       "      <th>4</th>\n",
       "      <td>Q49</td>\n",
       "      <td>North American</td>\n",
       "      <td>NORP</td>\n",
       "      <td>https://www.wikidata.org/wiki/Q49</td>\n",
       "      <td>1</td>\n",
       "    </tr>\n",
       "    <tr>\n",
       "      <th>5</th>\n",
       "      <td>Q49</td>\n",
       "      <td>North America</td>\n",
       "      <td>LOC</td>\n",
       "      <td>https://www.wikidata.org/wiki/Q49</td>\n",
       "      <td>1</td>\n",
       "    </tr>\n",
       "    <tr>\n",
       "      <th>6</th>\n",
       "      <td>Q433574</td>\n",
       "      <td>Alta Floresta</td>\n",
       "      <td>GPE</td>\n",
       "      <td>https://www.wikidata.org/wiki/Q433574</td>\n",
       "      <td>1</td>\n",
       "    </tr>\n",
       "    <tr>\n",
       "      <th>7</th>\n",
       "      <td>Q1255792</td>\n",
       "      <td>Mountain</td>\n",
       "      <td>LOC</td>\n",
       "      <td>https://www.wikidata.org/wiki/Q1255792</td>\n",
       "      <td>1</td>\n",
       "    </tr>\n",
       "    <tr>\n",
       "      <th>8</th>\n",
       "      <td>Q2585125</td>\n",
       "      <td>British Society for Plant Pathology</td>\n",
       "      <td>ORG</td>\n",
       "      <td>https://www.wikidata.org/wiki/Q2585125</td>\n",
       "      <td>1</td>\n",
       "    </tr>\n",
       "    <tr>\n",
       "      <th>9</th>\n",
       "      <td>Q155</td>\n",
       "      <td>Brazil</td>\n",
       "      <td>GPE</td>\n",
       "      <td>https://www.wikidata.org/wiki/Q155</td>\n",
       "      <td>1</td>\n",
       "    </tr>\n",
       "    <tr>\n",
       "      <th>10</th>\n",
       "      <td>Q1261</td>\n",
       "      <td>Colorado</td>\n",
       "      <td>GPE</td>\n",
       "      <td>https://www.wikidata.org/wiki/Q1261</td>\n",
       "      <td>1</td>\n",
       "    </tr>\n",
       "  </tbody>\n",
       "</table>\n",
       "</div>"
      ],
      "text/plain": [
       "      kb_qid                                 text label  \\\n",
       "0       Q148                                China   GPE   \n",
       "1     Q42824                          Mato Grosso   GPE   \n",
       "2      Q7850                              Chinese  NORP   \n",
       "3    Q746413                        Elsevier B.V.   ORG   \n",
       "4        Q49                       North American  NORP   \n",
       "5        Q49                        North America   LOC   \n",
       "6    Q433574                        Alta Floresta   GPE   \n",
       "7   Q1255792                             Mountain   LOC   \n",
       "8   Q2585125  British Society for Plant Pathology   ORG   \n",
       "9       Q155                               Brazil   GPE   \n",
       "10     Q1261                             Colorado   GPE   \n",
       "\n",
       "                              url_wikidata  count  \n",
       "0       https://www.wikidata.org/wiki/Q148      4  \n",
       "1     https://www.wikidata.org/wiki/Q42824      1  \n",
       "2      https://www.wikidata.org/wiki/Q7850      1  \n",
       "3    https://www.wikidata.org/wiki/Q746413      1  \n",
       "4        https://www.wikidata.org/wiki/Q49      1  \n",
       "5        https://www.wikidata.org/wiki/Q49      1  \n",
       "6    https://www.wikidata.org/wiki/Q433574      1  \n",
       "7   https://www.wikidata.org/wiki/Q1255792      1  \n",
       "8   https://www.wikidata.org/wiki/Q2585125      1  \n",
       "9       https://www.wikidata.org/wiki/Q155      1  \n",
       "10     https://www.wikidata.org/wiki/Q1261      1  "
      ]
     },
     "execution_count": 24,
     "metadata": {},
     "output_type": "execute_result"
    }
   ],
   "source": [
    "count_entities_df[~count_entities_df['label'].isin(['DATE', 'CARDINAL'])].reset_index(drop=True)"
   ]
  },
  {
   "cell_type": "markdown",
   "id": "2d1d96ad-9f42-4857-b964-495567ac7226",
   "metadata": {},
   "source": [
    "## Entity linking"
   ]
  },
  {
   "cell_type": "code",
   "execution_count": null,
   "id": "ccaa8d1d-5d48-4e79-8af7-d795ea687d0c",
   "metadata": {
    "execution": {
     "iopub.execute_input": "2022-09-29T17:16:53.633811Z",
     "iopub.status.busy": "2022-09-29T17:16:53.633311Z"
    },
    "tags": []
   },
   "outputs": [
    {
     "data": {
      "application/vnd.jupyter.widget-view+json": {
       "model_id": "81571f95027a4340890227310866ce71",
       "version_major": 2,
       "version_minor": 0
      },
      "text/plain": [
       "Downloading:   0%|          | 0.00/1.39k [00:00<?, ?B/s]"
      ]
     },
     "metadata": {},
     "output_type": "display_data"
    },
    {
     "data": {
      "application/vnd.jupyter.widget-view+json": {
       "model_id": "ccc792d222714c15bbf8c1382362b14e",
       "version_major": 2,
       "version_minor": 0
      },
      "text/plain": [
       "Downloading:   0%|          | 0.00/1.51G [00:00<?, ?B/s]"
      ]
     },
     "metadata": {},
     "output_type": "display_data"
    }
   ],
   "source": [
    "import spacy_component\n",
    "\n",
    "nlp_rebel = spacy.load(\"en_core_web_trf\")\n",
    "\n",
    "nlp_rebel.add_pipe(\"rebel\", after=\"senter\", config={\n",
    "    'device':0, # Number of the GPU, -1 if want to use CPU\n",
    "    'model_name':'Babelscape/rebel-large'} # Model used, will default to 'Babelscape/rebel-large' if not given\n",
    "    )"
   ]
  },
  {
   "cell_type": "markdown",
   "id": "dd0fd3d2-96a6-44cc-8c72-888fb29b7715",
   "metadata": {},
   "source": [
    "## Graph construction"
   ]
  },
  {
   "cell_type": "code",
   "execution_count": null,
   "id": "cbe1afcf-dab8-4deb-8fc4-a2c1b2e48ed9",
   "metadata": {},
   "outputs": [],
   "source": []
  }
 ],
 "metadata": {
  "kernelspec": {
   "display_name": "Python 3 (ipykernel)",
   "language": "python",
   "name": "python3"
  },
  "language_info": {
   "codemirror_mode": {
    "name": "ipython",
    "version": 3
   },
   "file_extension": ".py",
   "mimetype": "text/x-python",
   "name": "python",
   "nbconvert_exporter": "python",
   "pygments_lexer": "ipython3",
   "version": "3.9.13"
  }
 },
 "nbformat": 4,
 "nbformat_minor": 5
}
