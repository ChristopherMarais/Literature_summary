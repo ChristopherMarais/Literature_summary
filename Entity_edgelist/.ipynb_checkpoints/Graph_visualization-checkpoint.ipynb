{
 "cells": [
  {
   "cell_type": "code",
   "execution_count": null,
   "id": "91cd675a-f572-4c6e-a3ca-58a15c5c64ab",
   "metadata": {},
   "outputs": [],
   "source": [
    "import pandas as pd"
   ]
  },
  {
   "cell_type": "code",
   "execution_count": 1,
   "id": "b0207479-ee07-4c87-b5ca-7233f192ded1",
   "metadata": {
    "execution": {
     "iopub.execute_input": "2022-10-02T00:38:56.638051Z",
     "iopub.status.busy": "2022-10-02T00:38:56.638051Z",
     "iopub.status.idle": "2022-10-02T00:38:56.653050Z",
     "shell.execute_reply": "2022-10-02T00:38:56.652550Z",
     "shell.execute_reply.started": "2022-10-02T00:38:56.638051Z"
    },
    "tags": []
   },
   "outputs": [],
   "source": [
    "# import data\n",
    "entity_wel_df = pd.read_csv('entity_weighted_edgelist.csv', index_col=0)\n",
    "entity_wel_df['ent_rel_pair'] = entity_wel_df['head_text'] +' '+entity_wel_df['relation']+' '+entity_wel_df['tail_text']\n",
    "topic_wel_df = pd.read_csv('keywords_edgelist.csv')"
   ]
  }
 ],
 "metadata": {
  "kernelspec": {
   "display_name": "Python 3 (ipykernel)",
   "language": "python",
   "name": "python3"
  },
  "language_info": {
   "codemirror_mode": {
    "name": "ipython",
    "version": 3
   },
   "file_extension": ".py",
   "mimetype": "text/x-python",
   "name": "python",
   "nbconvert_exporter": "python",
   "pygments_lexer": "ipython3",
   "version": "3.9.13"
  }
 },
 "nbformat": 4,
 "nbformat_minor": 5
}
