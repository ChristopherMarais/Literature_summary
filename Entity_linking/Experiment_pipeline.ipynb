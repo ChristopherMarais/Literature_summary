{
 "cells": [
  {
   "cell_type": "markdown",
   "id": "b4227ea0-4f31-48a8-b1f6-4361be4983bd",
   "metadata": {},
   "source": [
    "## Install packages"
   ]
  },
  {
   "cell_type": "code",
   "execution_count": null,
   "id": "32c6c104-81b1-44d5-9960-10323d3cd54c",
   "metadata": {},
   "outputs": [],
   "source": [
    "# # install packages in following order\n",
    "# !pip install pandas\n",
    "# !pip install spacy\n",
    "# !python -m spacy download en_core_web_trf\n",
    "# !python -m spacy download en_core_web_sm\n",
    "# !pip install crosslingual-coreference\n",
    "# !pip install ipywidgets\n",
    "# !pip uninstall torch\n",
    "# !conda install pytorch torchvision torchaudio cudatoolkit=11.6 -c pytorch -c conda-forge\n",
    "# !pip install spacyfishing"
   ]
  },
  {
   "cell_type": "code",
   "execution_count": 1,
   "id": "f0062c3b-6783-4fa8-b754-403d2f7300f0",
   "metadata": {
    "execution": {
     "iopub.execute_input": "2022-09-29T02:54:55.695790Z",
     "iopub.status.busy": "2022-09-29T02:54:55.695790Z",
     "iopub.status.idle": "2022-09-29T02:55:01.715302Z",
     "shell.execute_reply": "2022-09-29T02:55:01.714287Z",
     "shell.execute_reply.started": "2022-09-29T02:54:55.695790Z"
    },
    "tags": []
   },
   "outputs": [
    {
     "name": "stderr",
     "output_type": "stream",
     "text": [
      "[nltk_data] Downloading package omw-1.4 to\n",
      "[nltk_data]     C:\\Users\\gcmar\\AppData\\Roaming\\nltk_data...\n",
      "[nltk_data]   Package omw-1.4 is already up-to-date!\n"
     ]
    }
   ],
   "source": [
    "import spacy\n",
    "import crosslingual_coreference\n",
    "import pandas as pd"
   ]
  },
  {
   "cell_type": "markdown",
   "id": "467dc40a-1959-45de-922c-4d2b1c803984",
   "metadata": {},
   "source": [
    "## Import Data"
   ]
  },
  {
   "cell_type": "markdown",
   "id": "ba36aa5a-8654-4de7-9c84-5eb9234bef90",
   "metadata": {},
   "source": [
    "Data was obtained by exporting a csv from scopus. This includes abstracts of all articles."
   ]
  },
  {
   "cell_type": "code",
   "execution_count": 4,
   "id": "3b0620a2-ab81-4488-bb23-f8790ea56f9c",
   "metadata": {
    "execution": {
     "iopub.execute_input": "2022-09-29T02:55:16.019874Z",
     "iopub.status.busy": "2022-09-29T02:55:16.019874Z",
     "iopub.status.idle": "2022-09-29T02:55:16.684895Z",
     "shell.execute_reply": "2022-09-29T02:55:16.683894Z",
     "shell.execute_reply.started": "2022-09-29T02:55:16.019874Z"
    },
    "tags": []
   },
   "outputs": [],
   "source": [
    "# import data\n",
    "data_df = pd.read_csv('C:\\\\Users\\\\gcmar\\\\Desktop\\\\GIT_REPOS\\\\LAB\\\\Literature_summary\\\\Papers\\\\scopus_bark_ambrosia_beetles.csv')"
   ]
  },
  {
   "cell_type": "markdown",
   "id": "979d53a2-1b4b-4894-b9a8-2d7332fde82f",
   "metadata": {},
   "source": [
    "## Coreference resolution"
   ]
  },
  {
   "cell_type": "code",
   "execution_count": 3,
   "id": "ef2355e9-b9f1-4fa5-b23c-835a58e6149a",
   "metadata": {
    "execution": {
     "iopub.execute_input": "2022-09-29T02:55:01.732032Z",
     "iopub.status.busy": "2022-09-29T02:55:01.732032Z",
     "iopub.status.idle": "2022-09-29T02:55:16.018894Z",
     "shell.execute_reply": "2022-09-29T02:55:16.017894Z",
     "shell.execute_reply.started": "2022-09-29T02:55:01.732032Z"
    },
    "tags": []
   },
   "outputs": [
    {
     "name": "stderr",
     "output_type": "stream",
     "text": [
      "error loading _jsonnet (this is expected on Windows), treating C:\\Users\\gcmar\\AppData\\Local\\Temp\\tmpcr2lphyg\\config.json as plain json\n",
      "Some weights of the model checkpoint at nreimers/mMiniLMv2-L12-H384-distilled-from-XLMR-Large were not used when initializing XLMRobertaModel: ['lm_head.dense.weight', 'lm_head.dense.bias', 'lm_head.layer_norm.weight', 'lm_head.layer_norm.bias', 'lm_head.bias']\n",
      "- This IS expected if you are initializing XLMRobertaModel from the checkpoint of a model trained on another task or with another architecture (e.g. initializing a BertForSequenceClassification model from a BertForPreTraining model).\n",
      "- This IS NOT expected if you are initializing XLMRobertaModel from the checkpoint of a model that you expect to be exactly identical (initializing a BertForSequenceClassification model from a BertForSequenceClassification model).\n",
      "Some weights of XLMRobertaModel were not initialized from the model checkpoint at nreimers/mMiniLMv2-L12-H384-distilled-from-XLMR-Large and are newly initialized: ['roberta.pooler.dense.bias', 'roberta.pooler.dense.weight']\n",
      "You should probably TRAIN this model on a down-stream task to be able to use it for predictions and inference.\n"
     ]
    }
   ],
   "source": [
    "# crosslingual_coreference implementation\n",
    "nlp = spacy.load('en_core_web_sm')\n",
    "nlp.add_pipe(\"xx_coref\", config={\"chunk_size\": 2500, \"chunk_overlap\": 2, \"device\": 0})\n",
    "\n",
    "def coref_res(text_series):\n",
    "    coref_text_series = text_series.apply(lambda x : nlp(x)._.resolved_text)\n",
    "    return(coref_text_series)\n",
    "\n",
    "# # choose minilm for speed/memory and info_xlm for accuracy\n",
    "# predictor = Predictor(\n",
    "#     language=\"en_core_web_sm\", device=-1, model_name=\"minilm\"\n",
    "# )"
   ]
  },
  {
   "cell_type": "code",
   "execution_count": 5,
   "id": "59884505-977e-478f-bc71-d1130c4be1cd",
   "metadata": {
    "execution": {
     "iopub.execute_input": "2022-09-29T02:55:16.685886Z",
     "iopub.status.busy": "2022-09-29T02:55:16.685886Z",
     "iopub.status.idle": "2022-09-29T02:55:24.579885Z",
     "shell.execute_reply": "2022-09-29T02:55:24.578875Z",
     "shell.execute_reply.started": "2022-09-29T02:55:16.685886Z"
    },
    "tags": []
   },
   "outputs": [],
   "source": [
    "coref_df = pd.DataFrame(coref_res(text_series=data_df[\"Abstract\"][:10]))"
   ]
  },
  {
   "cell_type": "markdown",
   "id": "f500a959-122e-47f0-ab37-32c20a0a3636",
   "metadata": {},
   "source": [
    "## Entity linking"
   ]
  },
  {
   "cell_type": "code",
   "execution_count": 14,
   "id": "c9f7f9d9-8f4a-4dc3-87df-b4af1bfe67fa",
   "metadata": {
    "execution": {
     "iopub.execute_input": "2022-09-29T03:03:54.112862Z",
     "iopub.status.busy": "2022-09-29T03:03:54.111829Z",
     "iopub.status.idle": "2022-09-29T03:03:54.474837Z",
     "shell.execute_reply": "2022-09-29T03:03:54.473842Z",
     "shell.execute_reply.started": "2022-09-29T03:03:54.112862Z"
    },
    "tags": []
   },
   "outputs": [],
   "source": [
    "nlp_model_en = spacy.load(\"en_core_web_sm\")\n",
    "nlp_model_en.add_pipe(\"entityfishing\")\n",
    "\n",
    "def link_entities_text(text):\n",
    "    text_entities = nlp_model_en(text)\n",
    "    entity_dict = {}\n",
    "    for entity in text_entities.ents:\n",
    "            entity_dict['text'] = entity.text\n",
    "            entity_dict['label'] = entity.label_\n",
    "            entity_dict['kb_qid'] = entity._.kb_qid\n",
    "            entity_dict['url_wikidata'] = entity._.url_wikidata\n",
    "            entity_dict['nerd_score'] = entity._.nerd_score\n",
    "    return(entity_dict)\n",
    "\n",
    "def link_entities(text_series):\n",
    "    linked_entities_dict_series = text_series.apply(lambda x : link_entities_text(x))\n",
    "    return(linked_entities_dict_series)"
   ]
  },
  {
   "cell_type": "code",
   "execution_count": 6,
   "id": "eb0041b0-3739-49d3-ad63-0d02a696026c",
   "metadata": {
    "execution": {
     "iopub.execute_input": "2022-09-29T02:55:24.580884Z",
     "iopub.status.busy": "2022-09-29T02:55:24.580884Z",
     "iopub.status.idle": "2022-09-29T02:55:24.611869Z",
     "shell.execute_reply": "2022-09-29T02:55:24.610865Z",
     "shell.execute_reply.started": "2022-09-29T02:55:24.580884Z"
    },
    "tags": []
   },
   "outputs": [
    {
     "data": {
      "text/html": [
       "<div>\n",
       "<style scoped>\n",
       "    .dataframe tbody tr th:only-of-type {\n",
       "        vertical-align: middle;\n",
       "    }\n",
       "\n",
       "    .dataframe tbody tr th {\n",
       "        vertical-align: top;\n",
       "    }\n",
       "\n",
       "    .dataframe thead th {\n",
       "        text-align: right;\n",
       "    }\n",
       "</style>\n",
       "<table border=\"1\" class=\"dataframe\">\n",
       "  <thead>\n",
       "    <tr style=\"text-align: right;\">\n",
       "      <th></th>\n",
       "      <th>Abstract</th>\n",
       "    </tr>\n",
       "  </thead>\n",
       "  <tbody>\n",
       "    <tr>\n",
       "      <th>0</th>\n",
       "      <td>Scolytinae species that, in high populations, ...</td>\n",
       "    </tr>\n",
       "    <tr>\n",
       "      <th>1</th>\n",
       "      <td>Bamboo (Bambusa sp.) is a grass species with h...</td>\n",
       "    </tr>\n",
       "    <tr>\n",
       "      <th>2</th>\n",
       "      <td>Background: Biological invasions are responsib...</td>\n",
       "    </tr>\n",
       "    <tr>\n",
       "      <th>3</th>\n",
       "      <td>Background: Fungi associated with insects repr...</td>\n",
       "    </tr>\n",
       "    <tr>\n",
       "      <th>4</th>\n",
       "      <td>Background: Separation of biotic and abiotic i...</td>\n",
       "    </tr>\n",
       "    <tr>\n",
       "      <th>5</th>\n",
       "      <td>Microbial contamination of the domestic enviro...</td>\n",
       "    </tr>\n",
       "    <tr>\n",
       "      <th>6</th>\n",
       "      <td>Trunk internal decay is a common phenomenon in...</td>\n",
       "    </tr>\n",
       "    <tr>\n",
       "      <th>7</th>\n",
       "      <td>Wildfire is a widespread phenomenon on the ear...</td>\n",
       "    </tr>\n",
       "    <tr>\n",
       "      <th>8</th>\n",
       "      <td>The polyphagous shot hole borer (PSHB) Euwalla...</td>\n",
       "    </tr>\n",
       "    <tr>\n",
       "      <th>9</th>\n",
       "      <td>Innovation in environmental fields such as pla...</td>\n",
       "    </tr>\n",
       "  </tbody>\n",
       "</table>\n",
       "</div>"
      ],
      "text/plain": [
       "                                            Abstract\n",
       "0  Scolytinae species that, in high populations, ...\n",
       "1  Bamboo (Bambusa sp.) is a grass species with h...\n",
       "2  Background: Biological invasions are responsib...\n",
       "3  Background: Fungi associated with insects repr...\n",
       "4  Background: Separation of biotic and abiotic i...\n",
       "5  Microbial contamination of the domestic enviro...\n",
       "6  Trunk internal decay is a common phenomenon in...\n",
       "7  Wildfire is a widespread phenomenon on the ear...\n",
       "8  The polyphagous shot hole borer (PSHB) Euwalla...\n",
       "9  Innovation in environmental fields such as pla..."
      ]
     },
     "execution_count": 6,
     "metadata": {},
     "output_type": "execute_result"
    }
   ],
   "source": [
    "coref_df['entities'] = link_entities(text_series = coref_df['Abstract'])"
   ]
  },
  {
   "cell_type": "markdown",
   "id": "2d1d96ad-9f42-4857-b964-495567ac7226",
   "metadata": {},
   "source": [
    "## Relationship extraction"
   ]
  },
  {
   "cell_type": "code",
   "execution_count": null,
   "id": "ccaa8d1d-5d48-4e79-8af7-d795ea687d0c",
   "metadata": {},
   "outputs": [],
   "source": []
  },
  {
   "cell_type": "markdown",
   "id": "dd0fd3d2-96a6-44cc-8c72-888fb29b7715",
   "metadata": {},
   "source": [
    "## Graph construction"
   ]
  },
  {
   "cell_type": "code",
   "execution_count": null,
   "id": "cbe1afcf-dab8-4deb-8fc4-a2c1b2e48ed9",
   "metadata": {},
   "outputs": [],
   "source": []
  }
 ],
 "metadata": {
  "kernelspec": {
   "display_name": "Python 3 (ipykernel)",
   "language": "python",
   "name": "python3"
  },
  "language_info": {
   "codemirror_mode": {
    "name": "ipython",
    "version": 3
   },
   "file_extension": ".py",
   "mimetype": "text/x-python",
   "name": "python",
   "nbconvert_exporter": "python",
   "pygments_lexer": "ipython3",
   "version": "3.9.13"
  }
 },
 "nbformat": 4,
 "nbformat_minor": 5
}
