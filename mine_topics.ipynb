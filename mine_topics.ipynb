{
 "cells": [
  {
   "cell_type": "code",
   "execution_count": 1,
   "id": "d3de1ea6-b02d-4b9f-a69c-e4caa950f5e3",
   "metadata": {
    "execution": {
     "iopub.execute_input": "2022-09-28T01:57:24.598897Z",
     "iopub.status.busy": "2022-09-28T01:57:24.598397Z",
     "iopub.status.idle": "2022-09-28T01:57:26.014894Z",
     "shell.execute_reply": "2022-09-28T01:57:26.013894Z",
     "shell.execute_reply.started": "2022-09-28T01:57:24.598897Z"
    },
    "tags": []
   },
   "outputs": [],
   "source": [
    "import pandas as pd\n",
    "import spacy\n",
    "import neuralcoref\n",
    "import urllib\n",
    "from string import punctuation\n",
    "import nltk\n",
    "import json\n",
    "import urllib\n",
    "import pandas as pd\n",
    "from neo4j import GraphDatabase\n",
    "import itertools\n",
    "\n",
    "# download english files\n",
    "# spacy.cli.download(\"en_core_web_md\")\n",
    "# python -m spacy download en"
   ]
  },
  {
   "cell_type": "code",
   "execution_count": 2,
   "id": "09cb4c7d-8fca-4286-8951-016d62c7a273",
   "metadata": {
    "execution": {
     "iopub.execute_input": "2022-09-28T01:57:26.015896Z",
     "iopub.status.busy": "2022-09-28T01:57:26.015896Z",
     "iopub.status.idle": "2022-09-28T01:57:26.990897Z",
     "shell.execute_reply": "2022-09-28T01:57:26.990395Z",
     "shell.execute_reply.started": "2022-09-28T01:57:26.015896Z"
    },
    "tags": []
   },
   "outputs": [
    {
     "data": {
      "text/plain": [
       "Index(['Unnamed: 0', 'Authors', 'Author(s) ID', 'Title', 'Year',\n",
       "       'Source title', 'Volume', 'Issue', 'Art. No.', 'Page start', 'Page end',\n",
       "       'Page count', 'Cited by', 'DOI', 'Link', 'Affiliations',\n",
       "       'Authors with affiliations', 'Abstract', 'Author Keywords',\n",
       "       'Index Keywords', 'Molecular Sequence Numbers', 'Chemicals/CAS',\n",
       "       'Tradenames', 'Manufacturers', 'Funding Details', 'Funding Text 1',\n",
       "       'Funding Text 2', 'Funding Text 3', 'Funding Text 4', 'Funding Text 5',\n",
       "       'Funding Text 6', 'Funding Text 7', 'Funding Text 8', 'Funding Text 9',\n",
       "       'Funding Text 10', 'References', 'Correspondence Address', 'Editors',\n",
       "       'Sponsors', 'Publisher', 'Conference name', 'Conference date',\n",
       "       'Conference location', 'Conference code', 'ISSN', 'ISBN', 'CODEN',\n",
       "       'PubMed ID', 'Language of Original Document',\n",
       "       'Abbreviated Source Title', 'Document Type', 'Publication Stage',\n",
       "       'Open Access', 'Source', 'EID'],\n",
       "      dtype='object')"
      ]
     },
     "execution_count": 2,
     "metadata": {},
     "output_type": "execute_result"
    }
   ],
   "source": [
    "# import data\n",
    "data_df = pd.read_csv('E:\\\\GIT_REPOS\\\\LAB\\\\Literature_summary\\\\Papers\\\\scopus_bark_ambrosia_beetles.csv')\n",
    "data_df.columns"
   ]
  },
  {
   "cell_type": "code",
   "execution_count": 3,
   "id": "d29464db-6876-4375-803c-14b1f16b06fb",
   "metadata": {
    "execution": {
     "iopub.execute_input": "2022-09-28T01:57:26.992396Z",
     "iopub.status.busy": "2022-09-28T01:57:26.992396Z",
     "iopub.status.idle": "2022-09-28T01:57:27.006396Z",
     "shell.execute_reply": "2022-09-28T01:57:27.005894Z",
     "shell.execute_reply.started": "2022-09-28T01:57:26.992396Z"
    },
    "tags": []
   },
   "outputs": [
    {
     "data": {
      "text/plain": [
       "0       Scolytinae species that, in high populations, ...\n",
       "1       Bamboo (Bambusa sp.) is a grass species with h...\n",
       "2       Background: Biological invasions are responsib...\n",
       "3       Background: Fungi associated with insects repr...\n",
       "4       Background: Separation of biotic and abiotic i...\n",
       "                              ...                        \n",
       "3672    Background: Wood-feeding insects often work in...\n",
       "3673    Twig beetles in the genus Pityophthorus Eichho...\n",
       "3674    All 8237 species-group taxa of Coleoptera know...\n",
       "3675    In Australia, the bark beetle Ips grandicollis...\n",
       "3676    The taxonomic status of Thamnurgus rossicus wa...\n",
       "Name: Abstract, Length: 3677, dtype: object"
      ]
     },
     "execution_count": 3,
     "metadata": {},
     "output_type": "execute_result"
    }
   ],
   "source": [
    "data_df['Abstract']"
   ]
  },
  {
   "cell_type": "code",
   "execution_count": 4,
   "id": "dde79ea2-42f5-478b-b633-1c7147f2c57b",
   "metadata": {
    "execution": {
     "iopub.execute_input": "2022-09-28T01:57:27.008896Z",
     "iopub.status.busy": "2022-09-28T01:57:27.008396Z",
     "iopub.status.idle": "2022-09-28T01:57:27.378304Z",
     "shell.execute_reply": "2022-09-28T01:57:27.377804Z",
     "shell.execute_reply.started": "2022-09-28T01:57:27.008896Z"
    },
    "tags": []
   },
   "outputs": [],
   "source": [
    "sentence = \"\"\"Elon Musk is a business magnate, industrial designer, and engineer. \n",
    "Elon Musk is the founder, CEO, CTO, and chief designer of SpaceX. \n",
    "Elon Musk is also early investor, CEO, and product architect of Tesla, Inc. \n",
    "Elon Musk is also the founder of The Boring Company and the co-founder of Neuralink.\n",
    "A centibillionaire, Musk became the richest person in the world in January 2021, \n",
    "with an estimated net worth of $185 billion at the time, surpassing Jeff Bezos.\n",
    "Musk was born to a Canadian mother and South African father and raised in Pretoria, South Africa. \n",
    "Elon Musk briefly attended the University of Pretoria before moving to Canada aged 17 to attend Queen's University.\n",
    "Elon Musk transferred to the University of Pennsylvania two years later, \n",
    "where Elon Musk received dual bachelor's degrees in economics and physics. Elon Musk moved to California in 1995 to attend Stanford University, \n",
    "but decided instead to pursue a business career. Elon Musk went on co-founding a web software company Zip2 with Elon Musk brother Kimbal Musk.\"\"\""
   ]
  },
  {
   "cell_type": "markdown",
   "id": "d300a885-b274-434d-9f74-93d39e8637f7",
   "metadata": {},
   "source": [
    "## Coreference resolution"
   ]
  },
  {
   "cell_type": "code",
   "execution_count": 5,
   "id": "2747296e-a053-49cc-b4b9-8266d5603057",
   "metadata": {
    "execution": {
     "iopub.execute_input": "2022-09-28T01:57:27.379807Z",
     "iopub.status.busy": "2022-09-28T01:57:27.379304Z",
     "iopub.status.idle": "2022-09-28T01:57:28.106356Z",
     "shell.execute_reply": "2022-09-28T01:57:28.105853Z",
     "shell.execute_reply.started": "2022-09-28T01:57:27.379807Z"
    },
    "tags": []
   },
   "outputs": [],
   "source": [
    "# Load SpaCy\n",
    "nlp = spacy.load('en')\n",
    "# Add neural coref to SpaCy's pipe\n",
    "neuralcoref.add_to_pipe(nlp)\n",
    "\n",
    "def coref_resolution(text):\n",
    "    \"\"\"Function that executes coreference resolution on a given text\"\"\"\n",
    "    doc = nlp(text)\n",
    "    # fetches tokens with whitespaces from spacy document\n",
    "    tok_list = list(token.text_with_ws for token in doc)\n",
    "    for cluster in doc._.coref_clusters:\n",
    "        # get tokens from representative cluster name\n",
    "        cluster_main_words = set(cluster.main.text.split(' '))\n",
    "        for coref in cluster:\n",
    "            if coref != cluster.main:  # if coreference element is not the representative element of that cluster\n",
    "                if coref.text != cluster.main.text and bool(set(coref.text.split(' ')).intersection(cluster_main_words)) == False:\n",
    "                    # if coreference element text and representative element text are not equal and none of the coreference element words are in representative element. This was done to handle nested coreference scenarios\n",
    "                    tok_list[coref.start] = cluster.main.text + \\\n",
    "                        doc[coref.end-1].whitespace_\n",
    "                    for i in range(coref.start+1, coref.end):\n",
    "                        tok_list[i] = \"\"\n",
    "\n",
    "    return \"\".join(tok_list)"
   ]
  },
  {
   "cell_type": "markdown",
   "id": "fc65beaa-78c1-4d16-adae-58d405ae2ee0",
   "metadata": {},
   "source": [
    "## Named Entity Linking"
   ]
  },
  {
   "cell_type": "code",
   "execution_count": 6,
   "id": "74270246-5cc5-4f36-a1c5-084f37314239",
   "metadata": {
    "execution": {
     "iopub.execute_input": "2022-09-28T01:57:28.107357Z",
     "iopub.status.busy": "2022-09-28T01:57:28.107357Z",
     "iopub.status.idle": "2022-09-28T01:57:28.137360Z",
     "shell.execute_reply": "2022-09-28T01:57:28.136854Z",
     "shell.execute_reply.started": "2022-09-28T01:57:28.107357Z"
    },
    "tags": []
   },
   "outputs": [],
   "source": [
    "ENTITY_TYPES = [\"human\", \"person\", \"company\", \"enterprise\", \"business\", \"geographic region\",\n",
    "                \"human settlement\", \"geographic entity\", \"territorial entity type\", \"organization\"]\n",
    "\n",
    "def wikifier(text, lang=\"en\", threshold=0.8):\n",
    "    \"\"\"Function that fetches entity linking results from wikifier.com API\"\"\"\n",
    "    # Prepare the URL.\n",
    "    data = urllib.parse.urlencode([\n",
    "        (\"text\", text), (\"lang\", lang),\n",
    "        (\"userKey\", \"tgbdmkpmkluegqfbawcwjywieevmza\"),\n",
    "        (\"pageRankSqThreshold\", \"%g\" %\n",
    "         threshold), (\"applyPageRankSqThreshold\", \"true\"),\n",
    "        (\"nTopDfValuesToIgnore\", \"100\"), (\"nWordsToIgnoreFromList\", \"100\"),\n",
    "        (\"wikiDataClasses\", \"true\"), (\"wikiDataClassIds\", \"false\"),\n",
    "        (\"support\", \"true\"), (\"ranges\", \"false\"), (\"minLinkFrequency\", \"2\"),\n",
    "        (\"includeCosines\", \"false\"), (\"maxMentionEntropy\", \"3\")\n",
    "    ])\n",
    "    url = \"http://www.wikifier.org/annotate-article\"\n",
    "    # Call the Wikifier and read the response.\n",
    "    req = urllib.request.Request(url, data=data.encode(\"utf8\"), method=\"POST\")\n",
    "    with urllib.request.urlopen(req, timeout=60) as f:\n",
    "        response = f.read()\n",
    "        response = json.loads(response.decode(\"utf8\"))\n",
    "    # Output the annotations.\n",
    "    results = list()\n",
    "    for annotation in response[\"annotations\"]:\n",
    "        # Filter out desired entity classes\n",
    "        if ('wikiDataClasses' in annotation) and (any([el['enLabel'] in ENTITY_TYPES for el in annotation['wikiDataClasses']])):\n",
    "\n",
    "            # Specify entity label\n",
    "            if any([el['enLabel'] in [\"human\", \"person\"] for el in annotation['wikiDataClasses']]):\n",
    "                label = 'Person'\n",
    "            elif any([el['enLabel'] in [\"company\", \"enterprise\", \"business\", \"organization\"] for el in annotation['wikiDataClasses']]):\n",
    "                label = 'Organization'\n",
    "            elif any([el['enLabel'] in [\"geographic region\", \"human settlement\", \"geographic entity\", \"territorial entity type\"] for el in annotation['wikiDataClasses']]):\n",
    "                label = 'Location'\n",
    "            else:\n",
    "                label = None\n",
    "\n",
    "            results.append({'title': annotation['title'], 'wikiId': annotation['wikiDataItemId'], 'label': label,\n",
    "                            'characters': [(el['chFrom'], el['chTo']) for el in annotation['support']]})\n",
    "    return results"
   ]
  },
  {
   "cell_type": "markdown",
   "id": "2edf1e88-3be0-454d-b8df-b097673edbc1",
   "metadata": {},
   "source": [
    "## Relationship extraction"
   ]
  },
  {
   "cell_type": "code",
   "execution_count": 7,
   "id": "a0b7b2e6-cc79-4576-a6cd-9944cbbfa510",
   "metadata": {
    "execution": {
     "iopub.execute_input": "2022-09-28T01:57:28.138857Z",
     "iopub.status.busy": "2022-09-28T01:57:28.138357Z",
     "iopub.status.idle": "2022-09-28T01:57:30.183357Z",
     "shell.execute_reply": "2022-09-28T01:57:30.182853Z",
     "shell.execute_reply.started": "2022-09-28T01:57:28.138857Z"
    },
    "tags": []
   },
   "outputs": [],
   "source": [
    "entities_threshold = 0.1\n",
    "# First get all the entities in the sentence\n",
    "entities = wikifier(sentence, threshold=entities_threshold)\n",
    "# Iterate over every permutation pair of entities\n",
    "for permutation in itertools.permutations(entities, 2):\n",
    "    for source in permutation[0]['characters']:\n",
    "        for target in permutation[1]['characters']:\n",
    "            # Relationship extraction with OpenNRE\n",
    "            data = relation_model.infer(\n",
    "                {'text': sentence, 'h': {'pos': [source[0], source[1] + 1]}, 't': {'pos': [target[0], target[1] + 1]}})\n",
    "            if data[1] > relation_threshold:\n",
    "                relations_list.append(\n",
    "                    {'source': permutation[0]['title'], 'target': permutation[1]['title'], 'type': data[0]})\n"
   ]
  },
  {
   "cell_type": "markdown",
   "id": "de35aca1-8989-4f30-a2da-8afcb5c247c8",
   "metadata": {},
   "source": [
    "## Knowledge graph"
   ]
  },
  {
   "cell_type": "code",
   "execution_count": 9,
   "id": "d935815a-b510-447d-9127-6d053319dab6",
   "metadata": {
    "execution": {
     "iopub.execute_input": "2022-09-28T01:58:37.905406Z",
     "iopub.status.busy": "2022-09-28T01:58:37.905406Z",
     "iopub.status.idle": "2022-09-28T01:58:38.052907Z",
     "shell.execute_reply": "2022-09-28T01:58:38.051907Z",
     "shell.execute_reply.started": "2022-09-28T01:58:37.905406Z"
    }
   },
   "outputs": [
    {
     "ename": "NameError",
     "evalue": "name 'data' is not defined",
     "output_type": "error",
     "traceback": [
      "\u001b[1;31m---------------------------------------------------------------------------\u001b[0m",
      "\u001b[1;31mNameError\u001b[0m                                 Traceback (most recent call last)",
      "\u001b[1;32m~\\AppData\\Local\\Temp\\ipykernel_14732\\1645450754.py\u001b[0m in \u001b[0;36m<module>\u001b[1;34m\u001b[0m\n\u001b[0;32m     35\u001b[0m \u001b[1;32mwith\u001b[0m \u001b[0mdriver\u001b[0m\u001b[1;33m.\u001b[0m\u001b[0msession\u001b[0m\u001b[1;33m(\u001b[0m\u001b[1;33m)\u001b[0m \u001b[1;32mas\u001b[0m \u001b[0msession\u001b[0m\u001b[1;33m:\u001b[0m\u001b[1;33m\u001b[0m\u001b[1;33m\u001b[0m\u001b[0m\n\u001b[0;32m     36\u001b[0m     \u001b[0mparams\u001b[0m \u001b[1;33m=\u001b[0m \u001b[1;33m[\u001b[0m\u001b[1;33m]\u001b[0m\u001b[1;33m\u001b[0m\u001b[1;33m\u001b[0m\u001b[0m\n\u001b[1;32m---> 37\u001b[1;33m     \u001b[1;32mfor\u001b[0m \u001b[0mi\u001b[0m\u001b[1;33m,\u001b[0m\u001b[0marticle\u001b[0m \u001b[1;32min\u001b[0m \u001b[0mlist\u001b[0m\u001b[1;33m(\u001b[0m\u001b[0mdata\u001b[0m\u001b[1;33m.\u001b[0m\u001b[0miterrows\u001b[0m\u001b[1;33m(\u001b[0m\u001b[1;33m)\u001b[0m\u001b[1;33m)\u001b[0m\u001b[1;33m[\u001b[0m\u001b[1;33m:\u001b[0m\u001b[1;36m500\u001b[0m\u001b[1;33m]\u001b[0m\u001b[1;33m:\u001b[0m\u001b[1;33m\u001b[0m\u001b[1;33m\u001b[0m\u001b[0m\n\u001b[0m\u001b[0;32m     38\u001b[0m         \u001b[0mcontent\u001b[0m \u001b[1;33m=\u001b[0m \u001b[0marticle\u001b[0m\u001b[1;33m[\u001b[0m\u001b[1;34m'content'\u001b[0m\u001b[1;33m]\u001b[0m\u001b[1;33m\u001b[0m\u001b[1;33m\u001b[0m\u001b[0m\n\u001b[0;32m     39\u001b[0m         \u001b[0mie_data\u001b[0m \u001b[1;33m=\u001b[0m \u001b[0mie_pipeline\u001b[0m\u001b[1;33m(\u001b[0m\u001b[0mcontent\u001b[0m\u001b[1;33m)\u001b[0m\u001b[1;33m\u001b[0m\u001b[1;33m\u001b[0m\u001b[0m\n",
      "\u001b[1;31mNameError\u001b[0m: name 'data' is not defined"
     ]
    }
   ],
   "source": [
    "driver = GraphDatabase.driver('bolt://localhost:7687', auth=('neo4j', 'letmein'))\n",
    "\n",
    "def ie_pipeline(text, relation_threshold=0.9, entities_threshold=0.8):\n",
    "    # Prepare the URL.\n",
    "    data = urllib.parse.urlencode([\n",
    "        (\"text\", text), (\"relation_threshold\", relation_threshold),\n",
    "        (\"entities_threshold\", entities_threshold)])\n",
    "    \n",
    "    url = \"http://localhost:5000?\" + data\n",
    "    req = urllib.request.Request(url, data=data.encode(\"utf8\"), method=\"GET\")\n",
    "    with urllib.request.urlopen(req, timeout=150) as f:\n",
    "        response = f.read()\n",
    "        response = json.loads(response.decode(\"utf8\"))\n",
    "    # Output the annotations.\n",
    "    return response\n",
    "\n",
    "import_refactored_query = \"\"\"\n",
    "UNWIND $params as value\n",
    "CREATE (a:Article{content:value.content})\n",
    "FOREACH (rel in value.ie.relations | \n",
    "  MERGE (s:Entity{name:rel.source})\n",
    "  MERGE (t:Entity{name:rel.target})\n",
    "  MERGE (s)-[:RELATION]->(r:Relation{type:rel.type})-[:RELATION]->(t)\n",
    "  MERGE (a)-[:MENTIONS_REL]->(r))\n",
    "WITH value, a\n",
    "UNWIND value.ie.entities as entity\n",
    "MERGE (e:Entity{name:entity.title})\n",
    "SET e.wikiId = entity.wikiId\n",
    "MERGE (a)-[:MENTIONS_ENT]->(e)\n",
    "WITH entity, e\n",
    "CALL apoc.create.addLabels(e,[entity.label]) YIELD node\n",
    "RETURN distinct 'done'\n",
    "\"\"\"\n",
    "\n",
    "with driver.session() as session:\n",
    "    params = []\n",
    "    for i,article in list(data.iterrows())[:500]:\n",
    "        content = article['content']\n",
    "        ie_data = ie_pipeline(content)\n",
    "        params.append({'content':content, 'ie':ie_data})\n",
    "\n",
    "        if (len(params) % 100 == 0):\n",
    "            session.run(import_refactored_query, {'params':params})\n",
    "            params = []\n",
    "\n",
    "    session.run(update_query, {'params':params})"
   ]
  },
  {
   "cell_type": "markdown",
   "id": "6f1072e5-f9f4-49b8-9aec-584a7bb5cf81",
   "metadata": {},
   "source": []
  }
 ],
 "metadata": {
  "kernelspec": {
   "display_name": "Python 3 (ipykernel)",
   "language": "python",
   "name": "python3"
  },
  "language_info": {
   "codemirror_mode": {
    "name": "ipython",
    "version": 3
   },
   "file_extension": ".py",
   "mimetype": "text/x-python",
   "name": "python",
   "nbconvert_exporter": "python",
   "pygments_lexer": "ipython3",
   "version": "3.7.13"
  }
 },
 "nbformat": 4,
 "nbformat_minor": 5
}
