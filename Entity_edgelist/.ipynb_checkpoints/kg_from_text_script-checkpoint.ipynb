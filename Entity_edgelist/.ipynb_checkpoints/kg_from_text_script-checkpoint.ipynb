{
 "cells": [
  {
   "cell_type": "code",
   "execution_count": 1,
   "id": "963c8478-f33a-4217-86ea-3c42911c0b1f",
   "metadata": {
    "colab": {
     "base_uri": "https://localhost:8080/"
    },
    "execution": {
     "iopub.execute_input": "2022-09-29T20:33:09.300856Z",
     "iopub.status.busy": "2022-09-29T20:33:09.300856Z",
     "iopub.status.idle": "2022-09-29T20:33:13.920540Z",
     "shell.execute_reply": "2022-09-29T20:33:13.920040Z",
     "shell.execute_reply.started": "2022-09-29T20:33:09.300856Z"
    },
    "id": "BrcXpPzTSszu",
    "outputId": "4af118e9-57bc-4313-f930-9c2348d2f219",
    "tags": []
   },
   "outputs": [
    {
     "name": "stderr",
     "output_type": "stream",
     "text": [
      "[nltk_data] Downloading package omw-1.4 to\n",
      "[nltk_data]     C:\\Users\\GCM\\AppData\\Roaming\\nltk_data...\n",
      "[nltk_data]   Package omw-1.4 is already up-to-date!\n"
     ]
    }
   ],
   "source": [
    "# Add rebel component https://github.com/Babelscape/rebel/blob/main/spacy_component.py\n",
    "import spacy\n",
    "import crosslingual_coreference\n",
    "import requests\n",
    "import re\n",
    "import hashlib\n",
    "import pandas as pd\n",
    "from spacy import Language\n",
    "from typing import List\n",
    "from spacy.tokens import Doc, Span\n",
    "from transformers import pipeline"
   ]
  },
  {
   "cell_type": "code",
   "execution_count": 2,
   "id": "63af62f8-d9d2-43f8-8464-f73aaee85eb6",
   "metadata": {
    "execution": {
     "iopub.execute_input": "2022-09-29T20:33:13.923040Z",
     "iopub.status.busy": "2022-09-29T20:33:13.922539Z",
     "iopub.status.idle": "2022-09-29T20:33:13.952040Z",
     "shell.execute_reply": "2022-09-29T20:33:13.951039Z",
     "shell.execute_reply.started": "2022-09-29T20:33:13.923040Z"
    },
    "id": "cGsgtd8lxhVo"
   },
   "outputs": [],
   "source": [
    "def call_wiki_api(item):\n",
    "    try:\n",
    "        url = f\"https://www.wikidata.org/w/api.php?action=wbsearchentities&search={item}&language=en&format=json\"\n",
    "        data = requests.get(url).json()\n",
    "        # Return the first id (Could upgrade this in the future)\n",
    "        return data['search'][0]['id']\n",
    "    except:\n",
    "        return 'id-less'\n",
    "\n",
    "def extract_triplets(text):\n",
    "    \"\"\"\n",
    "    Function to parse the generated text and extract the triplets\n",
    "    \"\"\"\n",
    "    triplets = []\n",
    "    relation, subject, relation, object_ = '', '', '', ''\n",
    "    text = text.strip()\n",
    "    current = 'x'\n",
    "    for token in text.replace(\"<s>\", \"\").replace(\"<pad>\", \"\").replace(\"</s>\", \"\").split():\n",
    "        if token == \"<triplet>\":\n",
    "            current = 't'\n",
    "            if relation != '':\n",
    "                triplets.append({'head': subject.strip(), 'type': relation.strip(),'tail': object_.strip()})\n",
    "                relation = ''\n",
    "            subject = ''\n",
    "        elif token == \"<subj>\":\n",
    "            current = 's'\n",
    "            if relation != '':\n",
    "                triplets.append({'head': subject.strip(), 'type': relation.strip(),'tail': object_.strip()})\n",
    "            object_ = ''\n",
    "        elif token == \"<obj>\":\n",
    "            current = 'o'\n",
    "            relation = ''\n",
    "        else:\n",
    "            if current == 't':\n",
    "                subject += ' ' + token\n",
    "            elif current == 's':\n",
    "                object_ += ' ' + token\n",
    "            elif current == 'o':\n",
    "                relation += ' ' + token\n",
    "    if subject != '' and relation != '' and object_ != '':\n",
    "        triplets.append({'head': subject.strip(), 'type': relation.strip(),'tail': object_.strip()})\n",
    "\n",
    "    return triplets\n",
    "\n",
    "\n",
    "@Language.factory(\n",
    "    \"rebel\",\n",
    "    requires=[\"doc.sents\"],\n",
    "    assigns=[\"doc._.rel\"],\n",
    "    default_config={\n",
    "        \"model_name\": \"Babelscape/rebel-large\",\n",
    "        \"device\": 0,\n",
    "    },\n",
    ")\n",
    "class RebelComponent:\n",
    "    def __init__(\n",
    "        self,\n",
    "        nlp,\n",
    "        name,\n",
    "        model_name: str,\n",
    "        device: int,\n",
    "    ):\n",
    "        assert model_name is not None, \"\"\n",
    "        self.triplet_extractor = pipeline(\"text2text-generation\", model=model_name, tokenizer=model_name, device=device)\n",
    "        self.entity_mapping = {}\n",
    "        # Register custom extension on the Doc\n",
    "        if not Doc.has_extension(\"rel\"):\n",
    "            Doc.set_extension(\"rel\", default={})\n",
    "\n",
    "    def get_wiki_id(self, item: str):\n",
    "        mapping = self.entity_mapping.get(item)\n",
    "        if mapping:\n",
    "            return mapping\n",
    "        else:\n",
    "            res = call_wiki_api(item)\n",
    "            self.entity_mapping[item] = res\n",
    "            return res\n",
    "\n",
    "    \n",
    "    def _generate_triplets(self, sent: Span) -> List[dict]:\n",
    "        output_ids = self.triplet_extractor(sent.text, return_tensors=True, return_text=False)[0][\"generated_token_ids\"][\"output_ids\"]\n",
    "        extracted_text = self.triplet_extractor.tokenizer.batch_decode(output_ids[0])\n",
    "        extracted_triplets = extract_triplets(extracted_text[0])\n",
    "        return extracted_triplets\n",
    "\n",
    "    def set_annotations(self, doc: Doc, triplets: List[dict]):\n",
    "        for triplet in triplets:\n",
    "\n",
    "            # Remove self-loops (relationships that start and end at the entity)\n",
    "            if triplet['head'] == triplet['tail']:\n",
    "                continue\n",
    "\n",
    "            # Use regex to search for entities\n",
    "            head_span = re.search(triplet[\"head\"], doc.text)\n",
    "            tail_span = re.search(triplet[\"tail\"], doc.text)\n",
    "\n",
    "            # Skip the relation if both head and tail entities are not present in the text\n",
    "            # Sometimes the Rebel model hallucinates some entities\n",
    "            if not head_span or not tail_span:\n",
    "                continue\n",
    "\n",
    "            index = hashlib.sha1(\"\".join([triplet['head'], triplet['tail'], triplet['type']]).encode('utf-8')).hexdigest()\n",
    "            if index not in doc._.rel:\n",
    "                # Get wiki ids and store results\n",
    "                doc._.rel[index] = {\"relation\": triplet[\"type\"], \"head_span\": {'text': triplet['head'], 'id': self.get_wiki_id(triplet['head'])}, \"tail_span\": {'text': triplet['tail'], 'id': self.get_wiki_id(triplet['tail'])}}\n",
    "\n",
    "    def __call__(self, doc: Doc) -> Doc:\n",
    "        for sent in doc.sents:\n",
    "            sentence_triplets = self._generate_triplets(sent)\n",
    "            self.set_annotations(doc, sentence_triplets)\n",
    "        return doc"
   ]
  },
  {
   "cell_type": "code",
   "execution_count": 3,
   "id": "d1241c1d-d664-4897-9af5-87facc47b718",
   "metadata": {
    "colab": {
     "base_uri": "https://localhost:8080/"
    },
    "execution": {
     "iopub.execute_input": "2022-09-29T20:33:13.953542Z",
     "iopub.status.busy": "2022-09-29T20:33:13.953542Z",
     "iopub.status.idle": "2022-09-29T20:33:43.206648Z",
     "shell.execute_reply": "2022-09-29T20:33:43.205649Z",
     "shell.execute_reply.started": "2022-09-29T20:33:13.953542Z"
    },
    "id": "SSTDfj3nSSca",
    "outputId": "0dbdbb3c-7a6c-46a3-8b9e-dc89f8af7486",
    "tags": []
   },
   "outputs": [
    {
     "name": "stderr",
     "output_type": "stream",
     "text": [
      "error loading _jsonnet (this is expected on Windows), treating C:\\Users\\GCM\\AppData\\Local\\Temp\\tmp8369git3\\config.json as plain json\n",
      "Some weights of the model checkpoint at nreimers/mMiniLMv2-L12-H384-distilled-from-XLMR-Large were not used when initializing XLMRobertaModel: ['lm_head.layer_norm.bias', 'lm_head.dense.weight', 'lm_head.dense.bias', 'lm_head.bias', 'lm_head.layer_norm.weight']\n",
      "- This IS expected if you are initializing XLMRobertaModel from the checkpoint of a model trained on another task or with another architecture (e.g. initializing a BertForSequenceClassification model from a BertForPreTraining model).\n",
      "- This IS NOT expected if you are initializing XLMRobertaModel from the checkpoint of a model that you expect to be exactly identical (initializing a BertForSequenceClassification model from a BertForSequenceClassification model).\n",
      "Some weights of XLMRobertaModel were not initialized from the model checkpoint at nreimers/mMiniLMv2-L12-H384-distilled-from-XLMR-Large and are newly initialized: ['roberta.pooler.dense.weight', 'roberta.pooler.dense.bias']\n",
      "You should probably TRAIN this model on a down-stream task to be able to use it for predictions and inference.\n"
     ]
    },
    {
     "data": {
      "text/plain": [
       "<__main__.RebelComponent at 0x274092e6640>"
      ]
     },
     "execution_count": 3,
     "metadata": {},
     "output_type": "execute_result"
    }
   ],
   "source": [
    "DEVICE = 0 # Number of the GPU, -1 if want to use CPU\n",
    "\n",
    "# Add coreference resolution model\n",
    "coref = spacy.load('en_core_web_trf', disable=['ner', 'tagger', 'parser', 'attribute_ruler', 'lemmatizer'])\n",
    "coref.add_pipe(\"xx_coref\", \n",
    "    config={\"chunk_size\": 2500, \n",
    "            \"chunk_overlap\": 2, \n",
    "            \"device\": DEVICE}\n",
    "              )\n",
    "\n",
    "# Define rel extraction model\n",
    "rel_ext = spacy.load('en_core_web_trf', disable=['ner', 'lemmatizer', 'attribute_rules', 'tagger'])\n",
    "rel_ext.add_pipe(\"rebel\", \n",
    "                 config={\n",
    "                     'device':DEVICE,\n",
    "                     'model_name':'Babelscape/rebel-large'} # Model used, will default to 'Babelscape/rebel-large' if not given\n",
    "                )"
   ]
  },
  {
   "cell_type": "code",
   "execution_count": 4,
   "id": "d5b0524a-a834-4e5f-995a-e20c9f5a2b97",
   "metadata": {
    "execution": {
     "iopub.execute_input": "2022-09-29T20:33:43.208649Z",
     "iopub.status.busy": "2022-09-29T20:33:43.208149Z",
     "iopub.status.idle": "2022-09-29T20:33:43.222151Z",
     "shell.execute_reply": "2022-09-29T20:33:43.221148Z",
     "shell.execute_reply.started": "2022-09-29T20:33:43.208649Z"
    }
   },
   "outputs": [],
   "source": [
    "# crosslingual_coreference implementation\n",
    "def coref_res(text_series):\n",
    "    coref_text_series = text_series.apply(lambda x : coref(x)._.resolved_text)\n",
    "    return(coref_text_series)\n",
    "\n",
    "# # choose minilm for speed/memory and info_xlm for accuracy\n",
    "# predictor = Predictor(\n",
    "#     language=\"en_core_web_sm\", device=-1, model_name=\"minilm\"\n",
    "# )"
   ]
  },
  {
   "cell_type": "code",
   "execution_count": 5,
   "id": "35c9b2b0-fc17-4219-a3f2-7814f71e1c33",
   "metadata": {
    "execution": {
     "iopub.execute_input": "2022-09-29T20:33:43.224650Z",
     "iopub.status.busy": "2022-09-29T20:33:43.224151Z",
     "iopub.status.idle": "2022-09-29T20:33:43.346149Z",
     "shell.execute_reply": "2022-09-29T20:33:43.345148Z",
     "shell.execute_reply.started": "2022-09-29T20:33:43.224650Z"
    }
   },
   "outputs": [],
   "source": [
    "def link_entities_text(text):\n",
    "    ent_rel_lst = list(rel_ext(text)._.rel.values())\n",
    "    entity_df = pd.DataFrame()\n",
    "    rel_lst = []\n",
    "    head_text_lst = []\n",
    "    head_wiki_id_lst = []\n",
    "    tail_text_lst = []\n",
    "    tail_wiki_id_lst = []\n",
    "    for i in range(len(ent_rel_lst)):\n",
    "        rel_lst.append(ent_rel_lst[i]['relation'])\n",
    "        head_text_lst.append(ent_rel_lst[i]['head_span']['text'])\n",
    "        head_wiki_id_lst.append(ent_rel_lst[i]['head_span']['id'])\n",
    "        tail_text_lst.append(ent_rel_lst[i]['tail_span']['text'])\n",
    "        tail_wiki_id_lst.append(ent_rel_lst[i]['tail_span']['id'])\n",
    "    entity_df['head_text'] = head_text_lst\n",
    "    entity_df['head_wiki_id'] = head_wiki_id_lst\n",
    "    entity_df['relation'] = rel_lst\n",
    "    entity_df['tail_text'] = tail_text_lst\n",
    "    entity_df['tail_wiki_id'] = tail_wiki_id_lst\n",
    "    return(entity_df)\n",
    "\n",
    "def link_entities(text_series):\n",
    "    entity_df_series = text_series.apply(lambda x : link_entities_text(x))\n",
    "    return(entity_df_series)"
   ]
  },
  {
   "cell_type": "code",
   "execution_count": 6,
   "id": "90b2f9c9-0580-4015-a0d5-f61738c54de1",
   "metadata": {
    "execution": {
     "iopub.execute_input": "2022-09-29T20:33:43.347649Z",
     "iopub.status.busy": "2022-09-29T20:33:43.347150Z",
     "iopub.status.idle": "2022-09-29T20:33:44.181988Z",
     "shell.execute_reply": "2022-09-29T20:33:44.181487Z",
     "shell.execute_reply.started": "2022-09-29T20:33:43.347649Z"
    },
    "tags": []
   },
   "outputs": [],
   "source": [
    "# import data\n",
    "data_df = pd.read_csv('E:\\GIT_REPOS\\LAB\\Literature_summary\\Papers\\\\scopus_bark_ambrosia_beetles.csv')"
   ]
  },
  {
   "cell_type": "code",
   "execution_count": 7,
   "id": "10e67d72-1de9-46da-ba7c-79829ee02a95",
   "metadata": {
    "execution": {
     "iopub.execute_input": "2022-09-29T20:33:44.184488Z",
     "iopub.status.busy": "2022-09-29T20:33:44.183989Z",
     "iopub.status.idle": "2022-09-29T20:37:06.686855Z",
     "shell.execute_reply": "2022-09-29T20:37:06.685854Z",
     "shell.execute_reply.started": "2022-09-29T20:33:44.184488Z"
    }
   },
   "outputs": [],
   "source": [
    "# create coref dataframe\n",
    "coref_series = coref_res(text_series=data_df[\"Abstract\"][:10])\n",
    "print('finished coref')\n",
    "link_entities_series = link_entities(text_series=coref_series)\n",
    "all_entities_df = pd.concat(link_entities_series.tolist())"
   ]
  },
  {
   "cell_type": "code",
   "execution_count": 17,
   "id": "3c4a4770-4438-49fb-8936-e5b4c11aa017",
   "metadata": {
    "execution": {
     "iopub.execute_input": "2022-09-29T20:41:05.222489Z",
     "iopub.status.busy": "2022-09-29T20:41:05.221986Z",
     "iopub.status.idle": "2022-09-29T20:41:05.247487Z",
     "shell.execute_reply": "2022-09-29T20:41:05.246486Z",
     "shell.execute_reply.started": "2022-09-29T20:41:05.222489Z"
    },
    "tags": []
   },
   "outputs": [
    {
     "data": {
      "text/html": [
       "<div>\n",
       "<style scoped>\n",
       "    .dataframe tbody tr th:only-of-type {\n",
       "        vertical-align: middle;\n",
       "    }\n",
       "\n",
       "    .dataframe tbody tr th {\n",
       "        vertical-align: top;\n",
       "    }\n",
       "\n",
       "    .dataframe thead th {\n",
       "        text-align: right;\n",
       "    }\n",
       "</style>\n",
       "<table border=\"1\" class=\"dataframe\">\n",
       "  <thead>\n",
       "    <tr style=\"text-align: right;\">\n",
       "      <th></th>\n",
       "      <th>head_text</th>\n",
       "      <th>head_wiki_id</th>\n",
       "      <th>relation</th>\n",
       "      <th>tail_text</th>\n",
       "      <th>tail_wiki_id</th>\n",
       "    </tr>\n",
       "  </thead>\n",
       "  <tbody>\n",
       "    <tr>\n",
       "      <th>0</th>\n",
       "      <td>forest crops</td>\n",
       "      <td>id-less</td>\n",
       "      <td>subclass of</td>\n",
       "      <td>wood production</td>\n",
       "      <td>Q8032311</td>\n",
       "    </tr>\n",
       "    <tr>\n",
       "      <th>1</th>\n",
       "      <td>baited</td>\n",
       "      <td>Q17002658</td>\n",
       "      <td>subclass of</td>\n",
       "      <td>traps</td>\n",
       "      <td>Q128309</td>\n",
       "    </tr>\n",
       "    <tr>\n",
       "      <th>2</th>\n",
       "      <td>semi-funnel trap</td>\n",
       "      <td>id-less</td>\n",
       "      <td>use</td>\n",
       "      <td>capture efficiency</td>\n",
       "      <td>Q29008393</td>\n",
       "    </tr>\n",
       "    <tr>\n",
       "      <th>3</th>\n",
       "      <td>Eucalyptus urophylla</td>\n",
       "      <td>Q5405723</td>\n",
       "      <td>parent taxon</td>\n",
       "      <td>Cedrela sp.</td>\n",
       "      <td>id-less</td>\n",
       "    </tr>\n",
       "    <tr>\n",
       "      <th>4</th>\n",
       "      <td>Pet–Santa Maria trap</td>\n",
       "      <td>id-less</td>\n",
       "      <td>instance of</td>\n",
       "      <td>trap</td>\n",
       "      <td>Q2913982</td>\n",
       "    </tr>\n",
       "    <tr>\n",
       "      <th>...</th>\n",
       "      <td>...</td>\n",
       "      <td>...</td>\n",
       "      <td>...</td>\n",
       "      <td>...</td>\n",
       "      <td>...</td>\n",
       "    </tr>\n",
       "    <tr>\n",
       "      <th>9</th>\n",
       "      <td>iterative process</td>\n",
       "      <td>Q2321565</td>\n",
       "      <td>subclass of</td>\n",
       "      <td>technology development</td>\n",
       "      <td>Q105688765</td>\n",
       "    </tr>\n",
       "    <tr>\n",
       "      <th>10</th>\n",
       "      <td>TRL scale</td>\n",
       "      <td>id-less</td>\n",
       "      <td>facet of</td>\n",
       "      <td>End user engagement</td>\n",
       "      <td>Q114307184</td>\n",
       "    </tr>\n",
       "    <tr>\n",
       "      <th>11</th>\n",
       "      <td>TRL framework</td>\n",
       "      <td>id-less</td>\n",
       "      <td>instance of</td>\n",
       "      <td>technologies</td>\n",
       "      <td>Q11016</td>\n",
       "    </tr>\n",
       "    <tr>\n",
       "      <th>12</th>\n",
       "      <td>environmental management</td>\n",
       "      <td>Q929380</td>\n",
       "      <td>part of</td>\n",
       "      <td>socio-ecological technical landscape</td>\n",
       "      <td>id-less</td>\n",
       "    </tr>\n",
       "    <tr>\n",
       "      <th>13</th>\n",
       "      <td>socio-ecological technical landscape</td>\n",
       "      <td>id-less</td>\n",
       "      <td>has part</td>\n",
       "      <td>environmental management</td>\n",
       "      <td>Q929380</td>\n",
       "    </tr>\n",
       "  </tbody>\n",
       "</table>\n",
       "<p>164 rows × 5 columns</p>\n",
       "</div>"
      ],
      "text/plain": [
       "                               head_text head_wiki_id      relation  \\\n",
       "0                           forest crops      id-less   subclass of   \n",
       "1                                 baited    Q17002658   subclass of   \n",
       "2                       semi-funnel trap      id-less           use   \n",
       "3                   Eucalyptus urophylla     Q5405723  parent taxon   \n",
       "4                   Pet–Santa Maria trap      id-less   instance of   \n",
       "..                                   ...          ...           ...   \n",
       "9                      iterative process     Q2321565   subclass of   \n",
       "10                             TRL scale      id-less      facet of   \n",
       "11                         TRL framework      id-less   instance of   \n",
       "12              environmental management      Q929380       part of   \n",
       "13  socio-ecological technical landscape      id-less      has part   \n",
       "\n",
       "                               tail_text tail_wiki_id  \n",
       "0                        wood production     Q8032311  \n",
       "1                                  traps      Q128309  \n",
       "2                     capture efficiency    Q29008393  \n",
       "3                            Cedrela sp.      id-less  \n",
       "4                                   trap     Q2913982  \n",
       "..                                   ...          ...  \n",
       "9                 technology development   Q105688765  \n",
       "10                   End user engagement   Q114307184  \n",
       "11                          technologies       Q11016  \n",
       "12  socio-ecological technical landscape      id-less  \n",
       "13              environmental management      Q929380  \n",
       "\n",
       "[164 rows x 5 columns]"
      ]
     },
     "execution_count": 17,
     "metadata": {},
     "output_type": "execute_result"
    }
   ],
   "source": [
    "all_entities_df"
   ]
  }
 ],
 "metadata": {
  "kernelspec": {
   "display_name": "Python 3 (ipykernel)",
   "language": "python",
   "name": "python3"
  },
  "language_info": {
   "codemirror_mode": {
    "name": "ipython",
    "version": 3
   },
   "file_extension": ".py",
   "mimetype": "text/x-python",
   "name": "python",
   "nbconvert_exporter": "python",
   "pygments_lexer": "ipython3",
   "version": "3.9.13"
  }
 },
 "nbformat": 4,
 "nbformat_minor": 5
}
