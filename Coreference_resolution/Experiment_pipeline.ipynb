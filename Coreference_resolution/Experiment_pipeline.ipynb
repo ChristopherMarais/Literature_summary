{
 "cells": [
  {
   "cell_type": "code",
   "execution_count": 9,
   "id": "2d158970-bfd1-4c0f-86f5-9f9ef9ea09a0",
   "metadata": {
    "execution": {
     "iopub.execute_input": "2022-09-28T20:46:27.435264Z",
     "iopub.status.busy": "2022-09-28T20:46:27.435264Z",
     "iopub.status.idle": "2022-09-28T20:46:27.698762Z",
     "shell.execute_reply": "2022-09-28T20:46:27.698262Z",
     "shell.execute_reply.started": "2022-09-28T20:46:27.435264Z"
    },
    "tags": []
   },
   "outputs": [],
   "source": [
    "# Load your usual SpaCy model (one of SpaCy English models)\n",
    "import spacy\n",
    "nlp = spacy.load('en_core_web_sm') #spacy.load('en')\n",
    "\n",
    "# load NeuralCoref and add it to the pipe of SpaCy's model\n",
    "import neuralcoref\n",
    "coref = neuralcoref.NeuralCoref(nlp.vocab)\n",
    "nlp.add_pipe(coref, name='neuralcoref')"
   ]
  },
  {
   "cell_type": "code",
   "execution_count": 10,
   "id": "3b0620a2-ab81-4488-bb23-f8790ea56f9c",
   "metadata": {
    "execution": {
     "iopub.execute_input": "2022-09-28T20:46:27.700265Z",
     "iopub.status.busy": "2022-09-28T20:46:27.700265Z",
     "iopub.status.idle": "2022-09-28T20:46:28.566762Z",
     "shell.execute_reply": "2022-09-28T20:46:28.566264Z",
     "shell.execute_reply.started": "2022-09-28T20:46:27.700265Z"
    },
    "tags": []
   },
   "outputs": [
    {
     "data": {
      "text/plain": [
       "Index(['Unnamed: 0', 'Authors', 'Author(s) ID', 'Title', 'Year',\n",
       "       'Source title', 'Volume', 'Issue', 'Art. No.', 'Page start', 'Page end',\n",
       "       'Page count', 'Cited by', 'DOI', 'Link', 'Affiliations',\n",
       "       'Authors with affiliations', 'Abstract', 'Author Keywords',\n",
       "       'Index Keywords', 'Molecular Sequence Numbers', 'Chemicals/CAS',\n",
       "       'Tradenames', 'Manufacturers', 'Funding Details', 'Funding Text 1',\n",
       "       'Funding Text 2', 'Funding Text 3', 'Funding Text 4', 'Funding Text 5',\n",
       "       'Funding Text 6', 'Funding Text 7', 'Funding Text 8', 'Funding Text 9',\n",
       "       'Funding Text 10', 'References', 'Correspondence Address', 'Editors',\n",
       "       'Sponsors', 'Publisher', 'Conference name', 'Conference date',\n",
       "       'Conference location', 'Conference code', 'ISSN', 'ISBN', 'CODEN',\n",
       "       'PubMed ID', 'Language of Original Document',\n",
       "       'Abbreviated Source Title', 'Document Type', 'Publication Stage',\n",
       "       'Open Access', 'Source', 'EID'],\n",
       "      dtype='object')"
      ]
     },
     "execution_count": 10,
     "metadata": {},
     "output_type": "execute_result"
    }
   ],
   "source": [
    "# import data\n",
    "import pandas as pd\n",
    "data_df = pd.read_csv('E:\\\\GIT_REPOS\\\\LAB\\\\Literature_summary\\\\Papers\\\\scopus_bark_ambrosia_beetles.csv')\n",
    "data_df.columns"
   ]
  },
  {
   "cell_type": "code",
   "execution_count": 11,
   "id": "baba3352-e1d6-4b67-812a-c52fdd7ff6ad",
   "metadata": {
    "execution": {
     "iopub.execute_input": "2022-09-28T20:46:28.568261Z",
     "iopub.status.busy": "2022-09-28T20:46:28.568261Z",
     "iopub.status.idle": "2022-09-28T20:46:28.582767Z",
     "shell.execute_reply": "2022-09-28T20:46:28.581764Z",
     "shell.execute_reply.started": "2022-09-28T20:46:28.568261Z"
    },
    "tags": []
   },
   "outputs": [],
   "source": [
    "def coref_res(text_series):\n",
    "    coref_text_series = text_series.apply(lambda text : nlp(text)._.coref_resolved)\n",
    "    return(coref_text_series)"
   ]
  },
  {
   "cell_type": "code",
   "execution_count": 13,
   "id": "59884505-977e-478f-bc71-d1130c4be1cd",
   "metadata": {
    "execution": {
     "iopub.execute_input": "2022-09-28T20:47:17.709764Z",
     "iopub.status.busy": "2022-09-28T20:47:17.709764Z",
     "iopub.status.idle": "2022-09-28T20:47:43.383262Z",
     "shell.execute_reply": "2022-09-28T20:47:43.382761Z",
     "shell.execute_reply.started": "2022-09-28T20:47:17.709764Z"
    },
    "tags": []
   },
   "outputs": [],
   "source": [
    "coref_df = pd.DataFrame(coref_res(text_series=data_df[\"Abstract\"][:10]))"
   ]
  },
  {
   "cell_type": "code",
   "execution_count": 14,
   "id": "eb0041b0-3739-49d3-ad63-0d02a696026c",
   "metadata": {
    "execution": {
     "iopub.execute_input": "2022-09-28T20:48:38.291260Z",
     "iopub.status.busy": "2022-09-28T20:48:38.291260Z",
     "iopub.status.idle": "2022-09-28T20:48:38.423762Z",
     "shell.execute_reply": "2022-09-28T20:48:38.423260Z",
     "shell.execute_reply.started": "2022-09-28T20:48:38.291260Z"
    },
    "tags": []
   },
   "outputs": [
    {
     "data": {
      "text/html": [
       "<div>\n",
       "<style scoped>\n",
       "    .dataframe tbody tr th:only-of-type {\n",
       "        vertical-align: middle;\n",
       "    }\n",
       "\n",
       "    .dataframe tbody tr th {\n",
       "        vertical-align: top;\n",
       "    }\n",
       "\n",
       "    .dataframe thead th {\n",
       "        text-align: right;\n",
       "    }\n",
       "</style>\n",
       "<table border=\"1\" class=\"dataframe\">\n",
       "  <thead>\n",
       "    <tr style=\"text-align: right;\">\n",
       "      <th></th>\n",
       "      <th>Abstract</th>\n",
       "    </tr>\n",
       "  </thead>\n",
       "  <tbody>\n",
       "    <tr>\n",
       "      <th>0</th>\n",
       "      <td>Scolytinae species that, in high populations, ...</td>\n",
       "    </tr>\n",
       "    <tr>\n",
       "      <th>1</th>\n",
       "      <td>Bamboo (Bambusa sp.) is a grass species with h...</td>\n",
       "    </tr>\n",
       "    <tr>\n",
       "      <th>2</th>\n",
       "      <td>Background: Biological invasions are responsib...</td>\n",
       "    </tr>\n",
       "    <tr>\n",
       "      <th>3</th>\n",
       "      <td>Background: Fungi associated with insects repr...</td>\n",
       "    </tr>\n",
       "    <tr>\n",
       "      <th>4</th>\n",
       "      <td>Background: Separation of biotic and abiotic i...</td>\n",
       "    </tr>\n",
       "    <tr>\n",
       "      <th>5</th>\n",
       "      <td>Microbial contamination of the domestic enviro...</td>\n",
       "    </tr>\n",
       "    <tr>\n",
       "      <th>6</th>\n",
       "      <td>Trunk internal decay is a common phenomenon in...</td>\n",
       "    </tr>\n",
       "    <tr>\n",
       "      <th>7</th>\n",
       "      <td>Wildfire is a widespread phenomenon on the ear...</td>\n",
       "    </tr>\n",
       "    <tr>\n",
       "      <th>8</th>\n",
       "      <td>The polyphagous shot hole borer (PSHB) Euwalla...</td>\n",
       "    </tr>\n",
       "    <tr>\n",
       "      <th>9</th>\n",
       "      <td>Innovation in environmental fields such as pla...</td>\n",
       "    </tr>\n",
       "  </tbody>\n",
       "</table>\n",
       "</div>"
      ],
      "text/plain": [
       "                                            Abstract\n",
       "0  Scolytinae species that, in high populations, ...\n",
       "1  Bamboo (Bambusa sp.) is a grass species with h...\n",
       "2  Background: Biological invasions are responsib...\n",
       "3  Background: Fungi associated with insects repr...\n",
       "4  Background: Separation of biotic and abiotic i...\n",
       "5  Microbial contamination of the domestic enviro...\n",
       "6  Trunk internal decay is a common phenomenon in...\n",
       "7  Wildfire is a widespread phenomenon on the ear...\n",
       "8  The polyphagous shot hole borer (PSHB) Euwalla...\n",
       "9  Innovation in environmental fields such as pla..."
      ]
     },
     "execution_count": 14,
     "metadata": {},
     "output_type": "execute_result"
    }
   ],
   "source": [
    "coref_df"
   ]
  }
 ],
 "metadata": {
  "kernelspec": {
   "display_name": "Python 3 (ipykernel)",
   "language": "python",
   "name": "python3"
  },
  "language_info": {
   "codemirror_mode": {
    "name": "ipython",
    "version": 3
   },
   "file_extension": ".py",
   "mimetype": "text/x-python",
   "name": "python",
   "nbconvert_exporter": "python",
   "pygments_lexer": "ipython3",
   "version": "3.7.13"
  }
 },
 "nbformat": 4,
 "nbformat_minor": 5
}
