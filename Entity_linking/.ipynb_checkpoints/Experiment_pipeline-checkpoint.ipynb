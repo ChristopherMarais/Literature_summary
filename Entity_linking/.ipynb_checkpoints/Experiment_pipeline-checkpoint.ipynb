{
 "cells": [
  {
   "cell_type": "markdown",
   "id": "b4227ea0-4f31-48a8-b1f6-4361be4983bd",
   "metadata": {},
   "source": [
    "## Install packages"
   ]
  },
  {
   "cell_type": "code",
   "execution_count": 1,
   "id": "32c6c104-81b1-44d5-9960-10323d3cd54c",
   "metadata": {
    "execution": {
     "iopub.execute_input": "2022-09-29T15:29:49.410542Z",
     "iopub.status.busy": "2022-09-29T15:29:49.410542Z",
     "iopub.status.idle": "2022-09-29T15:29:49.418538Z",
     "shell.execute_reply": "2022-09-29T15:29:49.417538Z",
     "shell.execute_reply.started": "2022-09-29T15:29:49.410542Z"
    }
   },
   "outputs": [],
   "source": [
    "# # install packages in following order\n",
    "# !pip install pandas\n",
    "# !pip install spacy\n",
    "# !python -m spacy download en_core_web_trf\n",
    "# !python -m spacy download en_core_web_sm\n",
    "# !pip install crosslingual-coreference\n",
    "# !pip install ipywidgets\n",
    "# !pip uninstall torch\n",
    "# !conda install pytorch torchvision torchaudio cudatoolkit=11.6 -c pytorch -c conda-forge\n",
    "# !pip install spacyfishing"
   ]
  },
  {
   "cell_type": "code",
   "execution_count": 2,
   "id": "f0062c3b-6783-4fa8-b754-403d2f7300f0",
   "metadata": {
    "execution": {
     "iopub.execute_input": "2022-09-29T15:29:49.419545Z",
     "iopub.status.busy": "2022-09-29T15:29:49.419545Z",
     "iopub.status.idle": "2022-09-29T15:29:54.725081Z",
     "shell.execute_reply": "2022-09-29T15:29:54.724105Z",
     "shell.execute_reply.started": "2022-09-29T15:29:49.419545Z"
    },
    "tags": []
   },
   "outputs": [
    {
     "name": "stderr",
     "output_type": "stream",
     "text": [
      "[nltk_data] Downloading package omw-1.4 to\n",
      "[nltk_data]     C:\\Users\\gcmar\\AppData\\Roaming\\nltk_data...\n",
      "[nltk_data]   Package omw-1.4 is already up-to-date!\n"
     ]
    }
   ],
   "source": [
    "import spacy\n",
    "import crosslingual_coreference\n",
    "import pandas as pd"
   ]
  },
  {
   "cell_type": "markdown",
   "id": "467dc40a-1959-45de-922c-4d2b1c803984",
   "metadata": {},
   "source": [
    "## Import Data"
   ]
  },
  {
   "cell_type": "markdown",
   "id": "ba36aa5a-8654-4de7-9c84-5eb9234bef90",
   "metadata": {},
   "source": [
    "Data was obtained by exporting a csv from scopus. This includes abstracts of all articles."
   ]
  },
  {
   "cell_type": "code",
   "execution_count": 3,
   "id": "3b0620a2-ab81-4488-bb23-f8790ea56f9c",
   "metadata": {
    "execution": {
     "iopub.execute_input": "2022-09-29T15:29:54.726078Z",
     "iopub.status.busy": "2022-09-29T15:29:54.726078Z",
     "iopub.status.idle": "2022-09-29T15:29:55.390077Z",
     "shell.execute_reply": "2022-09-29T15:29:55.389105Z",
     "shell.execute_reply.started": "2022-09-29T15:29:54.726078Z"
    },
    "tags": []
   },
   "outputs": [],
   "source": [
    "# import data\n",
    "data_df = pd.read_csv('C:\\\\Users\\\\gcmar\\\\Desktop\\\\GIT_REPOS\\\\LAB\\\\Literature_summary\\\\Papers\\\\scopus_bark_ambrosia_beetles.csv')"
   ]
  },
  {
   "cell_type": "markdown",
   "id": "979d53a2-1b4b-4894-b9a8-2d7332fde82f",
   "metadata": {},
   "source": [
    "## Coreference resolution"
   ]
  },
  {
   "cell_type": "code",
   "execution_count": 4,
   "id": "ef2355e9-b9f1-4fa5-b23c-835a58e6149a",
   "metadata": {
    "execution": {
     "iopub.execute_input": "2022-09-29T15:29:55.391077Z",
     "iopub.status.busy": "2022-09-29T15:29:55.391077Z",
     "iopub.status.idle": "2022-09-29T15:30:10.387356Z",
     "shell.execute_reply": "2022-09-29T15:30:10.386356Z",
     "shell.execute_reply.started": "2022-09-29T15:29:55.391077Z"
    },
    "tags": []
   },
   "outputs": [
    {
     "name": "stderr",
     "output_type": "stream",
     "text": [
      "error loading _jsonnet (this is expected on Windows), treating C:\\Users\\gcmar\\AppData\\Local\\Temp\\tmpts8x79li\\config.json as plain json\n",
      "Some weights of the model checkpoint at nreimers/mMiniLMv2-L12-H384-distilled-from-XLMR-Large were not used when initializing XLMRobertaModel: ['lm_head.layer_norm.weight', 'lm_head.dense.bias', 'lm_head.bias', 'lm_head.dense.weight', 'lm_head.layer_norm.bias']\n",
      "- This IS expected if you are initializing XLMRobertaModel from the checkpoint of a model trained on another task or with another architecture (e.g. initializing a BertForSequenceClassification model from a BertForPreTraining model).\n",
      "- This IS NOT expected if you are initializing XLMRobertaModel from the checkpoint of a model that you expect to be exactly identical (initializing a BertForSequenceClassification model from a BertForSequenceClassification model).\n",
      "Some weights of XLMRobertaModel were not initialized from the model checkpoint at nreimers/mMiniLMv2-L12-H384-distilled-from-XLMR-Large and are newly initialized: ['roberta.pooler.dense.bias', 'roberta.pooler.dense.weight']\n",
      "You should probably TRAIN this model on a down-stream task to be able to use it for predictions and inference.\n"
     ]
    }
   ],
   "source": [
    "# crosslingual_coreference implementation\n",
    "nlp = spacy.load('en_core_web_trf')\n",
    "nlp.add_pipe(\"xx_coref\", config={\"chunk_size\": 2500, \"chunk_overlap\": 2, \"device\": 0})\n",
    "\n",
    "def coref_res(text_series):\n",
    "    coref_text_series = text_series.apply(lambda x : nlp(x)._.resolved_text)\n",
    "    return(coref_text_series)\n",
    "\n",
    "# from crosslingual_coreference import Predictor\n",
    "\n",
    "# # choose minilm for speed/memory and info_xlm for accuracy\n",
    "# predictor = Predictor(\n",
    "#     language=\"en_core_web_sm\", device=-1, model_name=\"minilm\"\n",
    "# )\n",
    "\n",
    "# print(predictor.predict(text)[\"resolved_text\"])"
   ]
  },
  {
   "cell_type": "code",
   "execution_count": 5,
   "id": "59884505-977e-478f-bc71-d1130c4be1cd",
   "metadata": {
    "execution": {
     "iopub.execute_input": "2022-09-29T15:30:10.388356Z",
     "iopub.status.busy": "2022-09-29T15:30:10.387356Z",
     "iopub.status.idle": "2022-09-29T15:37:42.704534Z",
     "shell.execute_reply": "2022-09-29T15:37:42.703535Z",
     "shell.execute_reply.started": "2022-09-29T15:30:10.388356Z"
    },
    "tags": []
   },
   "outputs": [],
   "source": [
    "coref_df = pd.DataFrame(coref_res(text_series=data_df[\"Abstract\"][:100]))"
   ]
  },
  {
   "cell_type": "markdown",
   "id": "f500a959-122e-47f0-ab37-32c20a0a3636",
   "metadata": {},
   "source": [
    "## Entity linking"
   ]
  },
  {
   "cell_type": "code",
   "execution_count": 6,
   "id": "c9f7f9d9-8f4a-4dc3-87df-b4af1bfe67fa",
   "metadata": {
    "execution": {
     "iopub.execute_input": "2022-09-29T15:37:42.705525Z",
     "iopub.status.busy": "2022-09-29T15:37:42.705525Z",
     "iopub.status.idle": "2022-09-29T15:37:43.074518Z",
     "shell.execute_reply": "2022-09-29T15:37:43.074518Z",
     "shell.execute_reply.started": "2022-09-29T15:37:42.705525Z"
    },
    "tags": []
   },
   "outputs": [],
   "source": [
    "nlp_model_en = spacy.load(\"en_core_web_trf\")\n",
    "nlp_model_en.add_pipe(\"entityfishing\")\n",
    "\n",
    "def link_entities_text(text):\n",
    "    text_entities = nlp_model_en(text)\n",
    "    entity_df = pd.DataFrame()\n",
    "    text_lst = []\n",
    "    label_lst = []\n",
    "    kb_qid_lst = []\n",
    "    url_wikidata = []\n",
    "    nerd_score = []\n",
    "    for entity in text_entities.ents:\n",
    "        text_lst.append(entity.text)\n",
    "        label_lst.append(entity.label_)\n",
    "        kb_qid_lst.append(entity._.kb_qid)\n",
    "        url_wikidata.append(entity._.url_wikidata)\n",
    "        nerd_score.append(entity._.nerd_score)\n",
    "    entity_df['text'] = text_lst\n",
    "    entity_df['label'] = label_lst\n",
    "    entity_df['kb_qid'] = kb_qid_lst\n",
    "    entity_df['url_wikidata'] = url_wikidata\n",
    "    entity_df['nerd_score'] = nerd_score\n",
    "    return(entity_df)\n",
    "\n",
    "def link_entities(text_series):\n",
    "    entity_df_series = text_series.apply(lambda x : link_entities_text(x))\n",
    "    return(entity_df_series)"
   ]
  },
  {
   "cell_type": "code",
   "execution_count": null,
   "id": "eb0041b0-3739-49d3-ad63-0d02a696026c",
   "metadata": {
    "execution": {
     "iopub.execute_input": "2022-09-29T15:37:43.076534Z",
     "iopub.status.busy": "2022-09-29T15:37:43.075515Z"
    },
    "tags": []
   },
   "outputs": [],
   "source": [
    "entity_df_lst = link_entities(text_series = coref_df['Abstract']).tolist()\n",
    "all_entities_df = pd.concat(entity_df_lst).reset_index(drop=True)"
   ]
  },
  {
   "cell_type": "code",
   "execution_count": null,
   "id": "ed6c3595-b391-42cf-a198-f1a917fa81b9",
   "metadata": {
    "tags": []
   },
   "outputs": [],
   "source": [
    "# clean entities\n",
    "all_entities_df.sort_values(by='nerd_score',ascending=False, inplace=True)\n",
    "all_entities_df = all_entities_df[all_entities_df['kb_qid'].notna()].reset_index(drop=True)"
   ]
  },
  {
   "cell_type": "code",
   "execution_count": null,
   "id": "397a24ca-c2bd-4dcb-92e3-2534e8cbf0e5",
   "metadata": {
    "tags": []
   },
   "outputs": [],
   "source": [
    "all_entities_df['label'].unique()"
   ]
  },
  {
   "cell_type": "code",
   "execution_count": null,
   "id": "eca55a3b-7ff3-4b98-9a0d-351ae22f84a9",
   "metadata": {
    "tags": []
   },
   "outputs": [],
   "source": [
    "count_entities_df = all_entities_df[['kb_qid', 'text', 'label', 'url_wikidata']]\n",
    "count_entities_df['count'] = 1\n",
    "count_entities_df = count_entities_df.groupby(['kb_qid', 'text', 'label', 'url_wikidata'], as_index=False).count()"
   ]
  },
  {
   "cell_type": "code",
   "execution_count": null,
   "id": "427eea9f-8162-4bb9-a0a0-33e8e84c1dbb",
   "metadata": {
    "tags": []
   },
   "outputs": [],
   "source": [
    "count_entities_df['count'].hist()"
   ]
  },
  {
   "cell_type": "markdown",
   "id": "2d1d96ad-9f42-4857-b964-495567ac7226",
   "metadata": {},
   "source": [
    "## Relationship extraction"
   ]
  },
  {
   "cell_type": "code",
   "execution_count": null,
   "id": "ccaa8d1d-5d48-4e79-8af7-d795ea687d0c",
   "metadata": {},
   "outputs": [],
   "source": []
  },
  {
   "cell_type": "markdown",
   "id": "dd0fd3d2-96a6-44cc-8c72-888fb29b7715",
   "metadata": {},
   "source": [
    "## Graph construction"
   ]
  },
  {
   "cell_type": "code",
   "execution_count": null,
   "id": "cbe1afcf-dab8-4deb-8fc4-a2c1b2e48ed9",
   "metadata": {},
   "outputs": [],
   "source": []
  }
 ],
 "metadata": {
  "kernelspec": {
   "display_name": "Python 3 (ipykernel)",
   "language": "python",
   "name": "python3"
  },
  "language_info": {
   "codemirror_mode": {
    "name": "ipython",
    "version": 3
   },
   "file_extension": ".py",
   "mimetype": "text/x-python",
   "name": "python",
   "nbconvert_exporter": "python",
   "pygments_lexer": "ipython3",
   "version": "3.9.13"
  }
 },
 "nbformat": 4,
 "nbformat_minor": 5
}
