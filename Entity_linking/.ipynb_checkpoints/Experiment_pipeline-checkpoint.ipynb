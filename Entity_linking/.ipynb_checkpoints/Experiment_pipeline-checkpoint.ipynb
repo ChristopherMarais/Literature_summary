{
 "cells": [
  {
   "cell_type": "code",
   "execution_count": 1,
   "id": "f0062c3b-6783-4fa8-b754-403d2f7300f0",
   "metadata": {
    "execution": {
     "iopub.execute_input": "2022-09-29T00:36:19.446641Z",
     "iopub.status.busy": "2022-09-29T00:36:19.446641Z",
     "iopub.status.idle": "2022-09-29T00:36:22.458707Z",
     "shell.execute_reply": "2022-09-29T00:36:22.457668Z",
     "shell.execute_reply.started": "2022-09-29T00:36:19.446641Z"
    },
    "tags": []
   },
   "outputs": [],
   "source": [
    "import spacy\n",
    "import coreferee\n",
    "import pandas as pd"
   ]
  },
  {
   "cell_type": "code",
   "execution_count": 2,
   "id": "9bfdde71-61ba-4f7a-ab38-33c01e6d3351",
   "metadata": {
    "execution": {
     "iopub.execute_input": "2022-09-29T00:36:22.460692Z",
     "iopub.status.busy": "2022-09-29T00:36:22.460692Z",
     "iopub.status.idle": "2022-09-29T00:36:27.950414Z",
     "shell.execute_reply": "2022-09-29T00:36:27.949448Z",
     "shell.execute_reply.started": "2022-09-29T00:36:22.460692Z"
    },
    "tags": []
   },
   "outputs": [
    {
     "data": {
      "text/plain": [
       "<coreferee.manager.CorefereeBroker at 0x2ab33ffa880>"
      ]
     },
     "execution_count": 2,
     "metadata": {},
     "output_type": "execute_result"
    }
   ],
   "source": [
    "nlp = spacy.load('en_core_web_trf')\n",
    "nlp.add_pipe('coreferee')"
   ]
  },
  {
   "cell_type": "code",
   "execution_count": 3,
   "id": "2d158970-bfd1-4c0f-86f5-9f9ef9ea09a0",
   "metadata": {
    "execution": {
     "iopub.execute_input": "2022-09-29T00:36:27.953414Z",
     "iopub.status.busy": "2022-09-29T00:36:27.953414Z",
     "iopub.status.idle": "2022-09-29T00:36:27.966417Z",
     "shell.execute_reply": "2022-09-29T00:36:27.965414Z",
     "shell.execute_reply.started": "2022-09-29T00:36:27.953414Z"
    },
    "tags": []
   },
   "outputs": [],
   "source": [
    "# # Load your usual SpaCy model (one of SpaCy English models)\n",
    "# import spacy\n",
    "# nlp = spacy.load('en_core_web_sm') #spacy.load('en')\n",
    "\n",
    "# # load NeuralCoref and add it to the pipe of SpaCy's model\n",
    "# import neuralcoref\n",
    "# coref = neuralcoref.NeuralCoref(nlp.vocab)\n",
    "# nlp.add_pipe(coref, name='neuralcoref')\n"
   ]
  },
  {
   "cell_type": "code",
   "execution_count": 4,
   "id": "3b0620a2-ab81-4488-bb23-f8790ea56f9c",
   "metadata": {
    "execution": {
     "iopub.execute_input": "2022-09-29T00:36:27.969416Z",
     "iopub.status.busy": "2022-09-29T00:36:27.968417Z",
     "iopub.status.idle": "2022-09-29T00:36:29.009441Z",
     "shell.execute_reply": "2022-09-29T00:36:29.009441Z",
     "shell.execute_reply.started": "2022-09-29T00:36:27.969416Z"
    },
    "tags": []
   },
   "outputs": [
    {
     "data": {
      "text/plain": [
       "Index(['Unnamed: 0', 'Authors', 'Author(s) ID', 'Title', 'Year',\n",
       "       'Source title', 'Volume', 'Issue', 'Art. No.', 'Page start', 'Page end',\n",
       "       'Page count', 'Cited by', 'DOI', 'Link', 'Affiliations',\n",
       "       'Authors with affiliations', 'Abstract', 'Author Keywords',\n",
       "       'Index Keywords', 'Molecular Sequence Numbers', 'Chemicals/CAS',\n",
       "       'Tradenames', 'Manufacturers', 'Funding Details', 'Funding Text 1',\n",
       "       'Funding Text 2', 'Funding Text 3', 'Funding Text 4', 'Funding Text 5',\n",
       "       'Funding Text 6', 'Funding Text 7', 'Funding Text 8', 'Funding Text 9',\n",
       "       'Funding Text 10', 'References', 'Correspondence Address', 'Editors',\n",
       "       'Sponsors', 'Publisher', 'Conference name', 'Conference date',\n",
       "       'Conference location', 'Conference code', 'ISSN', 'ISBN', 'CODEN',\n",
       "       'PubMed ID', 'Language of Original Document',\n",
       "       'Abbreviated Source Title', 'Document Type', 'Publication Stage',\n",
       "       'Open Access', 'Source', 'EID'],\n",
       "      dtype='object')"
      ]
     },
     "execution_count": 4,
     "metadata": {},
     "output_type": "execute_result"
    }
   ],
   "source": [
    "# import data\n",
    "data_df = pd.read_csv('C:\\\\Users\\\\gcmar\\\\Desktop\\\\GIT_REPOS\\\\LAB\\\\Literature_summary\\\\Papers\\\\scopus_bark_ambrosia_beetles.csv')\n",
    "data_df.columns"
   ]
  },
  {
   "cell_type": "code",
   "execution_count": 7,
   "id": "baba3352-e1d6-4b67-812a-c52fdd7ff6ad",
   "metadata": {
    "execution": {
     "iopub.execute_input": "2022-09-29T00:40:04.565795Z",
     "iopub.status.busy": "2022-09-29T00:40:04.564794Z",
     "iopub.status.idle": "2022-09-29T00:40:04.584795Z",
     "shell.execute_reply": "2022-09-29T00:40:04.582794Z",
     "shell.execute_reply.started": "2022-09-29T00:40:04.565795Z"
    },
    "tags": []
   },
   "outputs": [],
   "source": [
    "def coref_res(text_series):\n",
    "    coref_text_series = text_series.apply(lambda text : nlp(text))\n",
    "    return(coref_text_series)"
   ]
  },
  {
   "cell_type": "code",
   "execution_count": null,
   "id": "59884505-977e-478f-bc71-d1130c4be1cd",
   "metadata": {
    "execution": {
     "iopub.execute_input": "2022-09-29T00:40:04.714072Z",
     "iopub.status.busy": "2022-09-29T00:40:04.713082Z"
    },
    "tags": []
   },
   "outputs": [],
   "source": [
    "coref_df = pd.DataFrame(coref_res(text_series=data_df[\"Abstract\"][:10]))"
   ]
  },
  {
   "cell_type": "code",
   "execution_count": null,
   "id": "eb0041b0-3739-49d3-ad63-0d02a696026c",
   "metadata": {
    "execution": {
     "iopub.status.busy": "2022-09-29T00:36:32.110418Z",
     "iopub.status.idle": "2022-09-29T00:36:32.110418Z",
     "shell.execute_reply": "2022-09-29T00:36:32.110418Z",
     "shell.execute_reply.started": "2022-09-29T00:36:32.110418Z"
    },
    "tags": []
   },
   "outputs": [],
   "source": [
    "coref_df"
   ]
  },
  {
   "cell_type": "code",
   "execution_count": null,
   "id": "6b094cb3-ee29-40e7-90a2-83ed88d52d88",
   "metadata": {},
   "outputs": [],
   "source": []
  },
  {
   "cell_type": "code",
   "execution_count": null,
   "id": "9e317fb2-68a1-4d27-842d-78298f4980a5",
   "metadata": {},
   "outputs": [],
   "source": []
  }
 ],
 "metadata": {
  "kernelspec": {
   "display_name": "Python 3 (ipykernel)",
   "language": "python",
   "name": "python3"
  },
  "language_info": {
   "codemirror_mode": {
    "name": "ipython",
    "version": 3
   },
   "file_extension": ".py",
   "mimetype": "text/x-python",
   "name": "python",
   "nbconvert_exporter": "python",
   "pygments_lexer": "ipython3",
   "version": "3.9.13"
  }
 },
 "nbformat": 4,
 "nbformat_minor": 5
}
