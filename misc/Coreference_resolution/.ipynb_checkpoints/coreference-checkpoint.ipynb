{
 "cells": [
  {
   "cell_type": "code",
   "execution_count": 1,
   "id": "2d158970-bfd1-4c0f-86f5-9f9ef9ea09a0",
   "metadata": {
    "execution": {
     "iopub.execute_input": "2022-09-28T20:22:05.634817Z",
     "iopub.status.busy": "2022-09-28T20:22:05.634817Z",
     "iopub.status.idle": "2022-09-28T20:22:06.604819Z",
     "shell.execute_reply": "2022-09-28T20:22:06.604315Z",
     "shell.execute_reply.started": "2022-09-28T20:22:05.634817Z"
    },
    "tags": []
   },
   "outputs": [],
   "source": [
    "# Load your usual SpaCy model (one of SpaCy English models)\n",
    "import spacy\n",
    "nlp = spacy.load('en_core_web_sm') #spacy.load('en')\n",
    "\n",
    "# load NeuralCoref and add it to the pipe of SpaCy's model\n",
    "import neuralcoref\n",
    "coref = neuralcoref.NeuralCoref(nlp.vocab)\n",
    "nlp.add_pipe(coref, name='neuralcoref')"
   ]
  },
  {
   "cell_type": "code",
   "execution_count": 2,
   "id": "3b0620a2-ab81-4488-bb23-f8790ea56f9c",
   "metadata": {
    "execution": {
     "iopub.execute_input": "2022-09-28T20:22:06.605817Z",
     "iopub.status.busy": "2022-09-28T20:22:06.605316Z",
     "iopub.status.idle": "2022-09-28T20:22:07.829047Z",
     "shell.execute_reply": "2022-09-28T20:22:07.828547Z",
     "shell.execute_reply.started": "2022-09-28T20:22:06.605817Z"
    },
    "tags": []
   },
   "outputs": [],
   "source": [
    "# import data\n",
    "import pandas as pd\n",
    "data_df = pd.read_csv('E:\\\\GIT_REPOS\\\\LAB\\\\Literature_summary\\\\Papers\\\\scopus_bark_ambrosia_beetles.csv')"
   ]
  },
  {
   "cell_type": "code",
   "execution_count": 3,
   "id": "baba3352-e1d6-4b67-812a-c52fdd7ff6ad",
   "metadata": {
    "execution": {
     "iopub.execute_input": "2022-09-28T20:22:07.830547Z",
     "iopub.status.busy": "2022-09-28T20:22:07.830046Z",
     "iopub.status.idle": "2022-09-28T20:22:07.844546Z",
     "shell.execute_reply": "2022-09-28T20:22:07.844046Z",
     "shell.execute_reply.started": "2022-09-28T20:22:07.830547Z"
    },
    "tags": []
   },
   "outputs": [],
   "source": [
    "def coref_res(text_series):\n",
    "    coref_text_series = text_series.apply(lambda text : nlp(text)._.coref_resolved)\n",
    "    return(coref_text_series)"
   ]
  },
  {
   "cell_type": "code",
   "execution_count": null,
   "id": "59884505-977e-478f-bc71-d1130c4be1cd",
   "metadata": {
    "execution": {
     "iopub.execute_input": "2022-09-28T20:22:07.846548Z",
     "iopub.status.busy": "2022-09-28T20:22:07.846548Z"
    },
    "tags": []
   },
   "outputs": [],
   "source": [
    "data_df[\"Abstract_coref\"] = coref_res(text_series=data_df[\"Abstract\"])"
   ]
  },
  {
   "cell_type": "code",
   "execution_count": null,
   "id": "9b96b858-157c-49ee-8ae0-0cb2ceca105f",
   "metadata": {},
   "outputs": [],
   "source": [
    "data_df.to_csv('E:\\\\GIT_REPOS\\\\LAB\\\\Literature_summary\\\\Papers\\\\scopus_bark_ambrosia_beetles_coref.csv', index=False)"
   ]
  },
  {
   "cell_type": "code",
   "execution_count": null,
   "id": "3d0b4465-3c7b-4e35-b7cb-99285a1f84fc",
   "metadata": {
    "tags": []
   },
   "outputs": [],
   "source": [
    "# text = \"\"\"Elon Musk is a business magnate, industrial designer, and engineer. Elon Musk is the founder, CEO, CTO, and chief designer of SpaceX. Elon Musk is also early investor, CEO, and product architect of Tesla, Inc. Elon Musk is also the founder of The Boring Company and the co-founder of Neuralink.A centibillionaire, Musk became the richest person in the world in January 2021, with an estimated net worth of $185 billion at the time, surpassing Jeff Bezos.Musk was born to a Canadian mother and South African father and raised in Pretoria, South Africa. Elon Musk briefly attended the University of Pretoria before moving to Canada aged 17 to attend Queen's University.Elon Musk transferred to the University of Pennsylvania two years later, where Elon Musk received dual bachelor's degrees in economics and physics. Elon Musk moved to California in 1995 to attend Stanford University, but decided instead to pursue a business career. Elon Musk went on co-founding a web software company Zip2 with Elon Musk brother Kimbal Musk.\"\"\"\n",
    "\n",
    "# # Solve coreferences in sentences\n",
    "# doc = nlp(text)\n",
    "\n",
    "# doc._.has_coref\n",
    "# # True\n",
    "\n",
    "# doc._.coref_clusters\n",
    "# # [My sister: [My sister, She, She], a dog: [a dog, him, him]]\n",
    "\n",
    "# doc._.coref_resolved\n",
    "# # My sister has a dog. My sister loves a dog. My sister named a dog Billy."
   ]
  },
  {
   "cell_type": "code",
   "execution_count": null,
   "id": "eb0041b0-3739-49d3-ad63-0d02a696026c",
   "metadata": {},
   "outputs": [],
   "source": []
  }
 ],
 "metadata": {
  "kernelspec": {
   "display_name": "Python 3 (ipykernel)",
   "language": "python",
   "name": "python3"
  },
  "language_info": {
   "codemirror_mode": {
    "name": "ipython",
    "version": 3
   },
   "file_extension": ".py",
   "mimetype": "text/x-python",
   "name": "python",
   "nbconvert_exporter": "python",
   "pygments_lexer": "ipython3",
   "version": "3.7.13"
  }
 },
 "nbformat": 4,
 "nbformat_minor": 5
}
