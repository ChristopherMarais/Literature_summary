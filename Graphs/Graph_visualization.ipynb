{
 "cells": [
  {
   "cell_type": "code",
   "execution_count": 1,
   "id": "91cd675a-f572-4c6e-a3ca-58a15c5c64ab",
   "metadata": {
    "execution": {
     "iopub.execute_input": "2022-10-02T02:21:23.757705Z",
     "iopub.status.busy": "2022-10-02T02:21:23.757205Z",
     "iopub.status.idle": "2022-10-02T02:21:24.572619Z",
     "shell.execute_reply": "2022-10-02T02:21:24.571619Z",
     "shell.execute_reply.started": "2022-10-02T02:21:23.757705Z"
    },
    "tags": []
   },
   "outputs": [],
   "source": [
    "import pandas as pd\n",
    "import numpy as np\n",
    "import networkx as nx\n",
    "from pyvis.network import Network"
   ]
  },
  {
   "cell_type": "code",
   "execution_count": 2,
   "id": "b0207479-ee07-4c87-b5ca-7233f192ded1",
   "metadata": {
    "execution": {
     "iopub.execute_input": "2022-10-02T02:21:24.573619Z",
     "iopub.status.busy": "2022-10-02T02:21:24.573619Z",
     "iopub.status.idle": "2022-10-02T02:21:25.780621Z",
     "shell.execute_reply": "2022-10-02T02:21:25.780119Z",
     "shell.execute_reply.started": "2022-10-02T02:21:24.573619Z"
    },
    "tags": []
   },
   "outputs": [],
   "source": [
    "# import edgelist data\n",
    "entity_wel_df = pd.read_csv('entity_weighted_edgelist.csv', index_col=0)\n",
    "entity_wel_df['ent_rel_pair'] = entity_wel_df['head_text'] +' '+entity_wel_df['relation']+' '+entity_wel_df['tail_text']\n",
    "keyword_wel_df = pd.read_csv('keywords_edgelist.csv', index_col=0)\n",
    "og_df = pd.read_csv('scopus_bark_ambrosia_beetles_coref.csv', index_col=0)"
   ]
  },
  {
   "cell_type": "code",
   "execution_count": 15,
   "id": "451c7e12-ab8a-4518-8a39-a0abaf663213",
   "metadata": {
    "execution": {
     "iopub.execute_input": "2022-10-02T02:39:09.870421Z",
     "iopub.status.busy": "2022-10-02T02:39:09.870421Z",
     "iopub.status.idle": "2022-10-02T02:39:16.756920Z",
     "shell.execute_reply": "2022-10-02T02:39:16.755921Z",
     "shell.execute_reply.started": "2022-10-02T02:39:09.870421Z"
    },
    "tags": []
   },
   "outputs": [
    {
     "name": "stdout",
     "output_type": "stream",
     "text": [
      "Local cdn resources have problems on chrome/safari when used in jupyter-notebook. \n"
     ]
    },
    {
     "data": {
      "text/html": [
       "\n",
       "        <iframe\n",
       "            width=\"100%\"\n",
       "            height=\"600px\"\n",
       "            src=\"mygraph.html\"\n",
       "            frameborder=\"0\"\n",
       "            allowfullscreen\n",
       "            \n",
       "        ></iframe>\n",
       "        "
      ],
      "text/plain": [
       "<IPython.lib.display.IFrame at 0x1c021758e20>"
      ]
     },
     "execution_count": 15,
     "metadata": {},
     "output_type": "execute_result"
    }
   ],
   "source": [
    "df = entity_wel_df.iloc[:10000]\n",
    "G = nx.from_pandas_edgelist(df, source='head_text', target='tail_text') #, edge_attr='count'\n",
    "nt = Network(notebook=True)\n",
    "# populates the nodes and edges data structures\n",
    "nt.from_nx(G)\n",
    "nt.toggle_physics(True)\n",
    "nt.show('mygraph.html')"
   ]
  },
  {
   "cell_type": "code",
   "execution_count": 10,
   "id": "bb0d01b4-4f4e-4758-8dcd-f671190e6a5a",
   "metadata": {
    "execution": {
     "iopub.execute_input": "2022-10-02T02:24:39.705091Z",
     "iopub.status.busy": "2022-10-02T02:24:39.704594Z",
     "iopub.status.idle": "2022-10-02T02:24:39.751844Z",
     "shell.execute_reply": "2022-10-02T02:24:39.750841Z",
     "shell.execute_reply.started": "2022-10-02T02:24:39.705091Z"
    },
    "tags": []
   },
   "outputs": [
    {
     "name": "stdout",
     "output_type": "stream",
     "text": [
      "Local cdn resources have problems on chrome/safari when used in jupyter-notebook. \n"
     ]
    },
    {
     "data": {
      "text/html": [
       "\n",
       "        <iframe\n",
       "            width=\"100%\"\n",
       "            height=\"600px\"\n",
       "            src=\"mygraph.html\"\n",
       "            frameborder=\"0\"\n",
       "            allowfullscreen\n",
       "            \n",
       "        ></iframe>\n",
       "        "
      ],
      "text/plain": [
       "<IPython.lib.display.IFrame at 0x1c025602820>"
      ]
     },
     "execution_count": 10,
     "metadata": {},
     "output_type": "execute_result"
    }
   ],
   "source": [
    "df = keyword_wel_df.iloc[:100]\n",
    "G = nx.from_pandas_edgelist(df, source='head_node', target='tail_node') #, edge_attr='weight'\n",
    "nt = Network(notebook=True)\n",
    "# populates the nodes and edges data structures\n",
    "nt.from_nx(G)\n",
    "nt.toggle_physics(True)\n",
    "nt.show('mygraph.html')"
   ]
  },
  {
   "cell_type": "markdown",
   "id": "9f69ef5b-28bc-4aa9-9a55-05c485c3f226",
   "metadata": {},
   "source": [
    "# Explore OG Data"
   ]
  },
  {
   "cell_type": "code",
   "execution_count": 4,
   "id": "639054ed-6eac-40cd-9edd-43237c327ae4",
   "metadata": {
    "execution": {
     "iopub.execute_input": "2022-10-02T02:21:25.874663Z",
     "iopub.status.busy": "2022-10-02T02:21:25.874663Z",
     "iopub.status.idle": "2022-10-02T02:21:26.570313Z",
     "shell.execute_reply": "2022-10-02T02:21:26.569810Z",
     "shell.execute_reply.started": "2022-10-02T02:21:25.874663Z"
    },
    "tags": []
   },
   "outputs": [
    {
     "data": {
      "text/plain": [
       "['Authors',\n",
       " 'Author(s) ID',\n",
       " 'Title',\n",
       " 'Year',\n",
       " 'Source title',\n",
       " 'Volume',\n",
       " 'Issue',\n",
       " 'Art. No.',\n",
       " 'Page start',\n",
       " 'Page end',\n",
       " 'Page count',\n",
       " 'Cited by',\n",
       " 'DOI',\n",
       " 'Link',\n",
       " 'Affiliations',\n",
       " 'Authors with affiliations',\n",
       " 'Abstract',\n",
       " 'Author Keywords',\n",
       " 'Index Keywords',\n",
       " 'Molecular Sequence Numbers',\n",
       " 'Chemicals/CAS',\n",
       " 'Tradenames',\n",
       " 'Manufacturers',\n",
       " 'Funding Details',\n",
       " 'Funding Text 1',\n",
       " 'Funding Text 2',\n",
       " 'Funding Text 3',\n",
       " 'Funding Text 4',\n",
       " 'Funding Text 5',\n",
       " 'Funding Text 6',\n",
       " 'Funding Text 7',\n",
       " 'Funding Text 8',\n",
       " 'Funding Text 9',\n",
       " 'Funding Text 10',\n",
       " 'References',\n",
       " 'Correspondence Address',\n",
       " 'Editors',\n",
       " 'Sponsors',\n",
       " 'Publisher',\n",
       " 'Conference name',\n",
       " 'Conference date',\n",
       " 'Conference location',\n",
       " 'Conference code',\n",
       " 'ISSN',\n",
       " 'ISBN',\n",
       " 'CODEN',\n",
       " 'PubMed ID',\n",
       " 'Language of Original Document',\n",
       " 'Abbreviated Source Title',\n",
       " 'Document Type',\n",
       " 'Publication Stage',\n",
       " 'Open Access',\n",
       " 'Source',\n",
       " 'EID',\n",
       " 'Abstract_coref']"
      ]
     },
     "execution_count": 4,
     "metadata": {},
     "output_type": "execute_result"
    }
   ],
   "source": [
    "list(og_df.columns)"
   ]
  }
 ],
 "metadata": {
  "kernelspec": {
   "display_name": "Python 3 (ipykernel)",
   "language": "python",
   "name": "python3"
  },
  "language_info": {
   "codemirror_mode": {
    "name": "ipython",
    "version": 3
   },
   "file_extension": ".py",
   "mimetype": "text/x-python",
   "name": "python",
   "nbconvert_exporter": "python",
   "pygments_lexer": "ipython3",
   "version": "3.9.13"
  }
 },
 "nbformat": 4,
 "nbformat_minor": 5
}
