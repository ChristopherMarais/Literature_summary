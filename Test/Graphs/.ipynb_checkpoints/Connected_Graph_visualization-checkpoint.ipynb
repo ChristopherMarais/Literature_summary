{
 "cells": [
  {
   "cell_type": "code",
   "execution_count": 1,
   "id": "40092d4e",
   "metadata": {
    "execution": {
     "iopub.execute_input": "2022-10-04T14:16:09.074767Z",
     "iopub.status.busy": "2022-10-04T14:16:09.074767Z",
     "iopub.status.idle": "2022-10-04T14:16:09.758768Z",
     "shell.execute_reply": "2022-10-04T14:16:09.758266Z",
     "shell.execute_reply.started": "2022-10-04T14:16:09.074767Z"
    },
    "tags": []
   },
   "outputs": [],
   "source": [
    "import pandas as pd\n",
    "import numpy as np\n",
    "import networkx as nx\n",
    "from pyvis.network import Network"
   ]
  },
  {
   "cell_type": "code",
   "execution_count": 2,
   "id": "33bcc980",
   "metadata": {
    "execution": {
     "iopub.execute_input": "2022-10-04T14:16:09.760266Z",
     "iopub.status.busy": "2022-10-04T14:16:09.759766Z",
     "iopub.status.idle": "2022-10-04T14:16:09.960268Z",
     "shell.execute_reply": "2022-10-04T14:16:09.959765Z",
     "shell.execute_reply.started": "2022-10-04T14:16:09.760266Z"
    },
    "tags": []
   },
   "outputs": [],
   "source": [
    "# import edgelist data\n",
    "entity_wel_df = pd.read_csv('entity_weighted_edgelist_FRONLABELS.csv', index_col=0)\n",
    "entity_wel_df['ent_rel_pair'] = entity_wel_df['head_text'] +' '+entity_wel_df['relation']+' '+entity_wel_df['tail_text']\n",
    "entity_wel_df['head_name'] = entity_wel_df['head_text']+'_'+entity_wel_df['head_wiki_id']\n",
    "entity_wel_df['tail_name'] = entity_wel_df['tail_text']+'_'+entity_wel_df['tail_wiki_id']\n",
    "\n",
    "# node size\n",
    "size_reduction = 5\n",
    "head_node_weight_df = entity_wel_df.groupby(['head_name']).sum().sort_values('count', ascending=False).reset_index()\n",
    "tail_node_weight_df = entity_wel_df.groupby(['tail_name']).sum().sort_values('count', ascending=False).reset_index()\n",
    "head_node_weight_df = entity_wel_df.merge(head_node_weight_df, left_on=['head_name'], right_on=['head_name'], how='right')\n",
    "tail_node_weight_df = entity_wel_df.merge(tail_node_weight_df, left_on=['tail_name'], right_on=['tail_name'], how='right')\n",
    "head_node_weight_df['node'] = head_node_weight_df['head_text']\n",
    "head_node_weight_df['size'] = head_node_weight_df['count_y']/size_reduction\n",
    "head_node_weight_df = head_node_weight_df[['size','node']]\n",
    "tail_node_weight_df['node'] = tail_node_weight_df['tail_text']\n",
    "tail_node_weight_df['size'] = tail_node_weight_df['count_y']/size_reduction\n",
    "tail_node_weight_df = tail_node_weight_df[['size','node']]\n",
    "node_weight_df = pd.concat([head_node_weight_df, tail_node_weight_df])"
   ]
  },
  {
   "cell_type": "code",
   "execution_count": 3,
   "id": "7e5872b3",
   "metadata": {
    "execution": {
     "iopub.execute_input": "2022-10-04T14:16:09.962266Z",
     "iopub.status.busy": "2022-10-04T14:16:09.961766Z",
     "iopub.status.idle": "2022-10-04T14:16:10.176658Z",
     "shell.execute_reply": "2022-10-04T14:16:10.176155Z",
     "shell.execute_reply.started": "2022-10-04T14:16:09.962266Z"
    },
    "tags": []
   },
   "outputs": [
    {
     "name": "stdout",
     "output_type": "stream",
     "text": [
      "Local cdn resources have problems on chrome/safari when used in jupyter-notebook. \n"
     ]
    },
    {
     "data": {
      "text/html": [
       "\n",
       "        <iframe\n",
       "            width=\"100%\"\n",
       "            height=\"600px\"\n",
       "            src=\"front_labels.html\"\n",
       "            frameborder=\"0\"\n",
       "            allowfullscreen\n",
       "            \n",
       "        ></iframe>\n",
       "        "
      ],
      "text/plain": [
       "<IPython.lib.display.IFrame at 0x217c89734c0>"
      ]
     },
     "execution_count": 3,
     "metadata": {},
     "output_type": "execute_result"
    }
   ],
   "source": [
    "df = entity_wel_df.iloc[:1000]\n",
    "node_lst = df['head_text'].tolist()+df['tail_text'].tolist()\n",
    "node_weight_df = node_weight_df.drop_duplicates(subset='node').reset_index(drop=True)\n",
    "node_weight_df = node_weight_df[node_weight_df['node'].isin(node_lst)]\n",
    "node_attr = node_weight_df.set_index('node').to_dict('index')\n",
    "G = nx.from_pandas_edgelist(df, source='head_text', target='tail_text', edge_attr='count')\n",
    "nx.set_node_attributes(G, node_attr)\n",
    "\n",
    "\n",
    "\n",
    "nt = Network(height=\"750px\", width=\"100%\", notebook=True,directed=True)\n",
    "# populates the nodes and edges data structures\n",
    "nt.from_nx(G)\n",
    "nt.toggle_physics(True)\n",
    "nt.show('front_labels.html')"
   ]
  },
  {
   "cell_type": "code",
   "execution_count": null,
   "id": "987bf1f1-1d7c-4101-8de8-896f6d3c220f",
   "metadata": {},
   "outputs": [],
   "source": []
  }
 ],
 "metadata": {
  "kernelspec": {
   "display_name": "Python 3 (ipykernel)",
   "language": "python",
   "name": "python3"
  },
  "language_info": {
   "codemirror_mode": {
    "name": "ipython",
    "version": 3
   },
   "file_extension": ".py",
   "mimetype": "text/x-python",
   "name": "python",
   "nbconvert_exporter": "python",
   "pygments_lexer": "ipython3",
   "version": "3.9.13"
  }
 },
 "nbformat": 4,
 "nbformat_minor": 5
}
